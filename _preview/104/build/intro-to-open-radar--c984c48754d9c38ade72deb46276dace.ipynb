{
 "cells": [
  {
   "cell_type": "markdown",
   "id": "bec0f353-91ae-4654-acbd-e006d1489372",
   "metadata": {},
   "source": [
    "# An Introduction to Open Radar Science"
   ]
  },
  {
   "cell_type": "markdown",
   "id": "acf53661-50ba-4281-8f21-f3c72b9ce5ee",
   "metadata": {},
   "source": [
    "## What is Open Science?\n",
    "\n",
    "<div>\n",
    "<img src=\"https://www.earthdata.nasa.gov/s3fs-public/2021-11/Circle_Diagram_UPDATE_2.jpg?VersionId=pFRniRpjtgc_MEXUJKi9_sXLoMsSX.pB\" width=\"400\"/>\n",
    "</div>\n",
    "\n",
    "Image based on [Ramachandran et al. 2021](https://doi.org/10.1029/2020EA001562)"
   ]
  },
  {
   "attachments": {},
   "cell_type": "markdown",
   "id": "13abacfe-ed74-47ab-bdf6-aafd527de13a",
   "metadata": {},
   "source": [
    "### What Does this look like in the Weather Radar Community?\n",
    "- Since the late 2000s (and even before) there has been a number of major open source projects released (see e.g. https://openradarscience.org).\n",
    "- Some of them are in a mature stage and are widely used in an academic (mostly) but also operational environment\n",
    "- Most make use of modern tools (e.g. github, conda, docker) and practices (e.g. Continuous Integration, automatic tests) that make them easy to evolve and deploy\n",
    "- Most are backed by major weather services or academic institutions\n",
    "Projects are not competing among them but collaborating : Best practices and inter-operability are discussed regularly and joint open source courses have been organized for years at major radar conferences (AMS, ERAD)  "
   ]
  },
  {
   "cell_type": "markdown",
   "id": "a86ab500-2460-4946-bfcd-8ebbf96f46a8",
   "metadata": {},
   "source": [
    "## The Conceptual Idea of the Open Radar Stack"
   ]
  },
  {
   "cell_type": "markdown",
   "id": "1db6a625-9e13-468e-b8e8-d014b22065a4",
   "metadata": {},
   "source": [
    "### Common weather radar processing workflows\n",
    "\n",
    "![radar workflows](images/open-radar-workflow-tasks.png)"
   ]
  },
  {
   "cell_type": "markdown",
   "id": "8f6f0206-4b0f-4edd-bddc-16177e2304d7",
   "metadata": {},
   "source": [
    "### The Open Radar Tools\n",
    "\n",
    "![open radar tools](images/open-radar-tools.png)"
   ]
  },
  {
   "attachments": {},
   "cell_type": "markdown",
   "id": "e976899f-2461-4884-9256-e2bd3df746d0",
   "metadata": {},
   "source": [
    "#### Additional Tools that Can be used with/for Weather Radar Data\n",
    "\n",
    "- [GPM-API](https://gpm-api.readthedocs.io/en/latest/index.html)\n",
    "    - The GPM-API is a Python package designed to make your life easier, whether you aim to download data, search for specific files, or jump into scientific analysis. \n",
    "- [MetPy](https://unidata.github.io/MetPy/latest/index.html)\n",
    "    - a collection of tools in Python for reading, visualizing, and performing calculations with weather data\n",
    "- [tobac](https://tobac.readthedocs.io/en/latest/)\n",
    "    - a Python package for rapidly identify, track and analyze clouds in different types of gridded datasets, such as 3D model output from cloud-resolving model simulations or 2D data from satellite retrievals."
   ]
  },
  {
   "cell_type": "markdown",
   "id": "772ceeed-df66-4441-9c20-4cae47ba1599",
   "metadata": {},
   "source": [
    "## Introductions of the Core Open Radar Stack"
   ]
  },
  {
   "attachments": {},
   "cell_type": "markdown",
   "id": "4225be01-4c44-4444-9bdd-fa7e170962ee",
   "metadata": {},
   "source": [
    "### Wradlib *(Keep the magic to the minimum (let the user decide))*\n",
    "- https://wradlib.org\n",
    "- One of the oldest packages (2011)\n",
    "- Open platform for collaborative development of algorithms\n",
    "- Python-based\n",
    "- Linux/Windows/Mac\n",
    "- Flat data model that allows maximum flexibility to interact with the data.\n",
    "- xarray readers available (now in xradar as of 2.0)\n",
    "- Comprehensively addresses the full radar processing chain\n",
    "- Mainly geared to interactive use in research but used in operations too\n",
    "- Easy to install (PyPI, conda, Docker Hub)\n",
    "\n",
    "#### Functionality\n",
    "<div>\n",
    "<img src=\"images/wradlib-functionality.svg\" width=\"400\"/>\n",
    "</div>\n",
    "\n",
    "#### Sample Image\n",
    "<div>\n",
    "<img src=\"images/wradlib-images.png\" width=\"400\"/>\n",
    "</div>"
   ]
  },
  {
   "attachments": {},
   "cell_type": "markdown",
   "id": "e0514d4a-4b76-47f4-a53d-4f4248c9b991",
   "metadata": {},
   "source": [
    "### Py-ART *(It's all about the data model)*\n",
    "- https://arm-doe.github.io/pyart/\n",
    "- Created in the context of the ARM program (2013)\n",
    "- Open platform for collaborative development of algorithms\n",
    "- Mostly Python-based (some modules in C, Cython and FORTRAN)\n",
    "- Linux/Windows/Mac\n",
    "- Core : Radar object that structures the radar data and metadata mirroring the C/F Radial standard\n",
    "- Limited scope. Base block to built upon\n",
    "- Rich ecosystem of packages: ART-VIEW, PyTDA, PyDDA, TINT, Pyrad...\n",
    "- Easy to install (PyPI, conda)\n",
    "\n",
    "#### Functionality\n",
    "<div>\n",
    "<img src=\"images/pyart-functionality.svg\" width=\"400\"/>\n",
    "</div>\n",
    "\n",
    "#### Sample Image\n",
    "<div>\n",
    "<img src=\"images/pyart-images.png\" width=\"400\"/>\n",
    "</div>"
   ]
  },
  {
   "attachments": {},
   "cell_type": "markdown",
   "id": "527b72b5-2fd1-4388-989c-f2d806fb6486",
   "metadata": {},
   "source": [
    "### Pyrad *(Flexible and replicable data processing chains with no programming)*\n",
    "- https://github.com/MeteoSwiss/pyrad\n",
    "- Initially developed at MeteoSwiss. Now shared development between MeteoSwiss and Météo-France\n",
    "- Python-based weather radar data processing framework capable of operating in real time or off-line\n",
    "- Core based on ARM-DOE Py-ART (Pyrad major contributor)\n",
    "- Easy to install (PyPI, conda)\n",
    "\n",
    "#### Functionality\n",
    "<div>\n",
    "<img src=\"images/pyrad-functionality.svg\" width=\"400\"/>\n",
    "</div>\n",
    "\n",
    "#### Sample Image\n",
    "<div>\n",
    "<img src=\"images/pyrad-images.jpg\" width=\"400\"/>\n",
    "</div>"
   ]
  },
  {
   "attachments": {},
   "cell_type": "markdown",
   "id": "d1b641df-2d1a-4259-a889-35954d1d810e",
   "metadata": {},
   "source": [
    "### LROSE *(High quality building blocks forcomplex workflows)*\n",
    "- http://lrose.net/ \n",
    "- Based on legacy of NCAR and CSU tools\n",
    "- Fast native cross-platform applications\n",
    "- Mostly C++\n",
    "- Linux/Mac/partially Windows\n",
    "- Many stand-alone tools\n",
    "- Stores data in CF/Radial\n",
    "\n",
    "#### Functionality\n",
    "<div>\n",
    "<img src=\"images/lrose-functionality.svg\" width=\"400\"/>\n",
    "</div>\n",
    "\n",
    "#### Sample Image\n",
    "<div>\n",
    "<img src=\"images/lrose-images.png\" width=\"400\"/>\n",
    "</div>"
   ]
  },
  {
   "attachments": {},
   "cell_type": "markdown",
   "id": "6c81559d-9ea7-4966-ad38-1813693f353b",
   "metadata": {},
   "source": [
    "### BALTRAD *(Advanced Weather Radar Network)*\n",
    "- Heritage from the Nordic Network NORDRAD. Partly funded by the EU. BALTRAD and BALTRAD+ projects (2009-2014). 13 partners in 10 countries\n",
    "- Real-time data exchange and data processing\n",
    "- Sub-packages written in different languages\n",
    "    - Data exchange: JAVA\n",
    "    - Data processing: C and Python\n",
    "- Linux/Mac\n",
    "- Distributed networking, partners exchange polar data and process them using a common toolbox\n",
    "- Uses ODIM-H5\n",
    "- Documentation: https://baltrad.github.io/  \n",
    "- Code: https://github.com/baltrad\n",
    "\n",
    "#### Functionality\n",
    "<div>\n",
    "<img src=\"images/baltrad-functionality.svg\" width=\"400\"/>\n",
    "</div>\n",
    "\n",
    "#### Sample Image\n",
    "<div>\n",
    "<img src=\"images/baltrad-images.png\" width=\"400\"/>\n",
    "</div>"
   ]
  },
  {
   "attachments": {},
   "cell_type": "markdown",
   "id": "a32e9e1a-1c31-448d-b5e6-7a80f46e63b2",
   "metadata": {},
   "source": [
    "### Conclusions on the Open Radar Stack\n",
    "- Acknowledge software when you use it – treat it like a paper\n",
    "    - Most projects have Digital Object Identifiers (DOIs)\n",
    "- Contribute back to projects\n",
    "    - Report bugs, suggest enhancements, share feedback!\n",
    "- Do not be afraid to contribute\n",
    "    - We all started somewhere – your code will be reviewed + tests ensure things do not break\n",
    "- Open Source does not end at making things open\n",
    "    - Support, documentation, consistency, etc. are required\n",
    "- Take a look at existing projects to see if you can collaborate/coordinate!"
   ]
  },
  {
   "cell_type": "markdown",
   "id": "622e6c38-02a9-44ba-b05b-9e3d4b16f0a9",
   "metadata": {},
   "source": [
    "## The Open Radar Community"
   ]
  },
  {
   "attachments": {},
   "cell_type": "markdown",
   "id": "3c525094-330b-4db6-9cc3-31a86b3231d2",
   "metadata": {},
   "source": [
    "### More on Open Science: Beyond the Tools\n",
    "<div>\n",
    "<img src=\"images/secret-sauce.png\" width=\"100\"/>\n",
    "</div>\n",
    "\n",
    "- Open Science = Open Data + Open Algorithms + Open Software + Open Peer Review + Open Access Publication\n",
    "\n",
    "- Thereby, science process and outputs can be:\n",
    "    - ✅ Transparent\n",
    "    - ✅ Reproducible\n",
    "    - ✅ Transferrable\n",
    "    - ✅ Collaborative\n",
    "    - ✅ Credible!\n",
    "    - ✅ Durable, sustainable\n",
    "\n",
    "<div class=\"admonition alert alert-info\">\n",
    "    <p class=\"admonition-title\" style=\"font-weight:bold\">Important</p>\n",
    "    No conflict between Intellectual Property Rights (IPR) and licensing.\n",
    "</div>\n"
   ]
  },
  {
   "attachments": {},
   "cell_type": "markdown",
   "id": "d0fdf156-1fc2-4691-9070-01eba14c42a7",
   "metadata": {},
   "source": [
    "#### Recommendations for Open Scientists\n",
    "- Use Git for collaborative change/version code management\n",
    "    - GitHub: github.com \n",
    "    - GitLab: gitlab.com\n",
    "- Linux virtual machine on your local computer\n",
    "    - Cost-effective near-replication of official environments\n",
    "    - Good for development, even while traveling\n",
    "    - VM is the starting point, a vehicle, for creating transferrable computational environments\n",
    "- Today’s cloud instance is an “elaborated” VM (Jupyterhub/Binderhub)\n",
    "- If you have a choice, use an open programming language\n",
    "- Avoid proprietary algorithms like Numerical Recipes\n",
    "- Publish code\n",
    "- Publish data\n",
    "- Publish code & data associated with a study/paper\n",
    "- Publish in Open Access journals"
   ]
  },
  {
   "cell_type": "markdown",
   "id": "b59bb5a2-33a3-4fcb-98a0-ed04bd589dfc",
   "metadata": {},
   "source": [
    "### The Open Radar Forum - Establishing a Community of Practice\n",
    "https://openradar.discourse.group/\n",
    "\n",
    "<div>\n",
    "<img src=\"images/open-radar-forum.png\" width=\"500\"/>\n",
    "</div>"
   ]
  },
  {
   "attachments": {},
   "cell_type": "markdown",
   "id": "5647e86d-738a-492d-bfd5-bd15405062dc",
   "metadata": {},
   "source": [
    "## Conclusions\n",
    "https://openradarscience.org\n",
    "\n",
    "<div>\n",
    "<img src=\"images/openradar-landing-page.png\" width=\"500\"/>\n",
    "</div>\n",
    "\n",
    "- There is no “silver bullet” for open science\n",
    "- Try to use open languages where possible\n",
    "- Share your work!\n",
    "- Join the conversation on the forum\n",
    "- You can find more posts relevant to the Open Radar Community on our website (at the top) and on the forum\n",
    "- We have monthly meetings! Join!"
   ]
  },
  {
   "cell_type": "code",
   "execution_count": null,
   "id": "4b4d4cb6-4924-40cf-aca0-fa4a7ecf1c2a",
   "metadata": {},
   "outputs": [],
   "source": []
  }
 ],
 "metadata": {
  "kernelspec": {
   "display_name": "Python 3 (ipykernel)",
   "language": "python",
   "name": "python3"
  },
  "language_info": {
   "codemirror_mode": {
    "name": "ipython",
    "version": 3
   },
   "file_extension": ".py",
   "mimetype": "text/x-python",
   "name": "python",
   "nbconvert_exporter": "python",
   "pygments_lexer": "ipython3",
   "version": "3.11.0"
  }
 },
 "nbformat": 4,
 "nbformat_minor": 5
}
