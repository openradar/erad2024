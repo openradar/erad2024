{
 "cells": [
  {
   "cell_type": "markdown",
   "metadata": {},
   "source": [
    "# Parallel processing"
   ]
  },
  {
   "cell_type": "markdown",
   "metadata": {},
   "source": [
    "The default VM setup is to use a single CPU core. In order to demonstrate the power of parallel processing, you must first determine whether your physical hardware has more than a single core.\n",
    "\n",
    "On Linux this is done in the terminal with the 'nproc' command.\n",
    "\n",
    "On Mac this is done in the terminal with the 'sysctl -n hw.ncpu' command.\n",
    "\n",
    "On Windows this is done graphically using the Task Manager's Performance tab.\n",
    "\n",
    "We want tune our VM to harness the power of several CPUs. Follow the following steps:\n",
    "\n",
    "1. Shut down the IPython notebook Server (Ctrl-C, answer yes)\n",
    "2. Shutdown the VM (click the X button in the VM window, choose power down the machine)\n",
    "3. Select the VM in the VirtualBox Manager Window, from the menu choose Machine->Setting\n",
    "4. Choose the System Tab, then Processor, use the slider to set the number of Processor to 2, 4, or 8 depending on your system resources.  \n",
    "5. Click Ok, and then start the machine\n",
    "6. Login, use the start_notebook.sh script to start the IPython server, start the notebook and you should have multiple processors!\n",
    "\n",
    "RELOAD THIS PAGE!"
   ]
  },
  {
   "cell_type": "markdown",
   "metadata": {},
   "source": [
    "## retrieve data from s3 bucket"
   ]
  },
  {
   "cell_type": "code",
   "execution_count": 1,
   "metadata": {
    "execution": {
     "iopub.execute_input": "2024-08-14T09:36:19.663254Z",
     "iopub.status.busy": "2024-08-14T09:36:19.662902Z",
     "iopub.status.idle": "2024-08-14T09:36:25.372500Z",
     "shell.execute_reply": "2024-08-14T09:36:25.371815Z"
    }
   },
   "outputs": [
    {
     "name": "stdout",
     "output_type": "stream",
     "text": [
      "downloading, data/seang.h5\n"
     ]
    },
    {
     "name": "stdout",
     "output_type": "stream",
     "text": [
      "downloading, data/searl.h5\n"
     ]
    },
    {
     "name": "stdout",
     "output_type": "stream",
     "text": [
      "downloading, data/sease.h5\n"
     ]
    },
    {
     "name": "stdout",
     "output_type": "stream",
     "text": [
      "downloading, data/sehud.h5\n"
     ]
    },
    {
     "name": "stdout",
     "output_type": "stream",
     "text": [
      "downloading, data/sekkr.h5\n"
     ]
    },
    {
     "name": "stdout",
     "output_type": "stream",
     "text": [
      "downloading, data/selek.h5\n"
     ]
    },
    {
     "name": "stdout",
     "output_type": "stream",
     "text": [
      "downloading, data/selul.h5\n"
     ]
    },
    {
     "name": "stdout",
     "output_type": "stream",
     "text": [
      "downloading, data/seosu.h5\n"
     ]
    },
    {
     "name": "stdout",
     "output_type": "stream",
     "text": [
      "downloading, data/sevar.h5\n"
     ]
    },
    {
     "name": "stdout",
     "output_type": "stream",
     "text": [
      "downloading, data/sevil.h5\n"
     ]
    }
   ],
   "source": [
    "import os\n",
    "import urllib.request\n",
    "from pathlib import Path\n",
    "# Set the URL for the cloud\n",
    "URL = \"https://js2.jetstream-cloud.org:8001/\"\n",
    "path = \"pythia/radar/erad2024/baltrad/baltrad_short_course/\"\n",
    "!mkdir -p data\n",
    "files = [\"seang.h5\",\n",
    " \"searl.h5\",\n",
    " \"sease.h5\",\n",
    " \"sehud.h5\",\n",
    " \"sekir.h5\",\n",
    " \"sekkr.h5\",\n",
    " \"selek.h5\",\n",
    " \"selul.h5\",\n",
    " \"seosu.h5\",\n",
    " \"sevar.h5\",\n",
    " \"sevil.h5\"]\n",
    "for file in files:\n",
    "    file0 = os.path.join(path, file)\n",
    "    name = os.path.join(\"data\", Path(file).name)\n",
    "    if not os.path.exists(name):\n",
    "        print(f\"downloading, {name}\")\n",
    "        urllib.request.urlretrieve(f\"{URL}{file0}\", os.path.join(\"data\", Path(file).name))"
   ]
  },
  {
   "cell_type": "markdown",
   "metadata": {},
   "source": [
    "## Verify from Python the number of CPU cores at our disposal"
   ]
  },
  {
   "cell_type": "code",
   "execution_count": 2,
   "metadata": {
    "execution": {
     "iopub.execute_input": "2024-08-14T09:36:25.375554Z",
     "iopub.status.busy": "2024-08-14T09:36:25.375063Z",
     "iopub.status.idle": "2024-08-14T09:36:25.380520Z",
     "shell.execute_reply": "2024-08-14T09:36:25.379989Z"
    }
   },
   "outputs": [
    {
     "name": "stdout",
     "output_type": "stream",
     "text": [
      "We have 4 cores to play with!\n"
     ]
    }
   ],
   "source": [
    "import multiprocessing\n",
    "print(\"We have %i cores to play with!\" % multiprocessing.cpu_count())"
   ]
  },
  {
   "cell_type": "markdown",
   "metadata": {},
   "source": [
    "Yay! Now we're going to set up some rudimentary functionality that will allow us to distribute a processing load among our cores."
   ]
  },
  {
   "cell_type": "markdown",
   "metadata": {},
   "source": [
    "## Define a generator"
   ]
  },
  {
   "cell_type": "code",
   "execution_count": 3,
   "metadata": {
    "execution": {
     "iopub.execute_input": "2024-08-14T09:36:25.382968Z",
     "iopub.status.busy": "2024-08-14T09:36:25.382753Z",
     "iopub.status.idle": "2024-08-14T09:36:25.490947Z",
     "shell.execute_reply": "2024-08-14T09:36:25.490381Z"
    }
   },
   "outputs": [],
   "source": [
    "import os\n",
    "import _raveio, odc_polarQC\n",
    "\n",
    "# Specify the processing chain\n",
    "odc_polarQC.algorithm_ids = [\"ropo\", \"beamb\", \"radvol-att\", \"radvol-broad\", \"rave-overshooting\", \"qi-total\"]\n",
    "\n",
    "# Run processing chain on a single file. Return an output file string.\n",
    "def generate(file_string):\n",
    "    rio = _raveio.open(file_string)\n",
    "\n",
    "    pvol = rio.object\n",
    "    pvol = odc_polarQC.QC(pvol)\n",
    "    rio.object = pvol\n",
    "    \n",
    "    # Derive an output file name\n",
    "    path, fstr = os.path.split(file_string)\n",
    "    ofstr = os.path.join(path, 'qc_'+fstr)\n",
    "    \n",
    "    rio.save(ofstr)\n",
    "    return ofstr"
   ]
  },
  {
   "cell_type": "markdown",
   "metadata": {},
   "source": [
    "## Feed the generator, sequentially"
   ]
  },
  {
   "cell_type": "code",
   "execution_count": 4,
   "metadata": {
    "execution": {
     "iopub.execute_input": "2024-08-14T09:36:25.493607Z",
     "iopub.status.busy": "2024-08-14T09:36:25.493094Z",
     "iopub.status.idle": "2024-08-14T09:37:18.190073Z",
     "shell.execute_reply": "2024-08-14T09:37:18.189412Z"
    }
   },
   "outputs": [
    {
     "name": "stdout",
     "output_type": "stream",
     "text": [
      "data/sease.h5 data/qc_sease.h5\n"
     ]
    },
    {
     "name": "stdout",
     "output_type": "stream",
     "text": [
      "data/sehud.h5 data/qc_sehud.h5\n"
     ]
    },
    {
     "name": "stdout",
     "output_type": "stream",
     "text": [
      "data/searl.h5 data/qc_searl.h5\n"
     ]
    },
    {
     "name": "stdout",
     "output_type": "stream",
     "text": [
      "data/sevar.h5 data/qc_sevar.h5\n"
     ]
    },
    {
     "name": "stdout",
     "output_type": "stream",
     "text": [
      "data/sevil.h5 data/qc_sevil.h5\n"
     ]
    },
    {
     "name": "stdout",
     "output_type": "stream",
     "text": [
      "data/selul.h5 data/qc_selul.h5\n"
     ]
    },
    {
     "name": "stdout",
     "output_type": "stream",
     "text": [
      "data/seang.h5 data/qc_seang.h5\n"
     ]
    },
    {
     "name": "stdout",
     "output_type": "stream",
     "text": [
      "data/sekkr.h5 data/qc_sekkr.h5\n"
     ]
    },
    {
     "name": "stdout",
     "output_type": "stream",
     "text": [
      "data/seosu.h5 data/qc_seosu.h5\n"
     ]
    },
    {
     "name": "stdout",
     "output_type": "stream",
     "text": [
      "data/sekir.h5 data/qc_sekir.h5\n"
     ]
    },
    {
     "name": "stdout",
     "output_type": "stream",
     "text": [
      "data/selek.h5 data/qc_selek.h5\n",
      "Processing time: 52.69 seconds\n"
     ]
    }
   ],
   "source": [
    "import glob, time\n",
    "\n",
    "ifstrs = glob.glob(\"data/se*.h5\")\n",
    "before = time.time()\n",
    "for fstr in ifstrs:\n",
    "    print(fstr, generate(fstr))\n",
    "after = time.time()\n",
    "\n",
    "print(\"Processing time: %3.2f seconds\" % (after-before))"
   ]
  },
  {
   "cell_type": "markdown",
   "metadata": {},
   "source": [
    "Mental note: repeat once!"
   ]
  },
  {
   "cell_type": "markdown",
   "metadata": {},
   "source": [
    "## Multiprocess the generator"
   ]
  },
  {
   "cell_type": "code",
   "execution_count": 5,
   "metadata": {
    "execution": {
     "iopub.execute_input": "2024-08-14T09:37:18.193076Z",
     "iopub.status.busy": "2024-08-14T09:37:18.192772Z",
     "iopub.status.idle": "2024-08-14T09:37:18.196470Z",
     "shell.execute_reply": "2024-08-14T09:37:18.195967Z"
    }
   },
   "outputs": [],
   "source": [
    "# Both input and output are a list of file strings\n",
    "def multi_generate(fstrs, procs=None):\n",
    "    pool = multiprocessing.Pool(procs)  # Pool of processors. Defaults to all available logical cores\n",
    "\n",
    "    results = []\n",
    "    # chunksize=1 means feed a process a new job as soon as the process is idle.\n",
    "    # In our case, this restricts the queue to one \"dispatcher\" which is faster.\n",
    "    r = pool.map_async(generate, fstrs, chunksize=1, callback=results.append)\n",
    "    r.wait()\n",
    "\n",
    "    return results[0]"
   ]
  },
  {
   "cell_type": "markdown",
   "metadata": {},
   "source": [
    "## Feed the monster, asynchronously!"
   ]
  },
  {
   "cell_type": "code",
   "execution_count": 6,
   "metadata": {
    "execution": {
     "iopub.execute_input": "2024-08-14T09:37:18.198725Z",
     "iopub.status.busy": "2024-08-14T09:37:18.198350Z",
     "iopub.status.idle": "2024-08-14T09:37:21.340600Z",
     "shell.execute_reply": "2024-08-14T09:37:21.339904Z"
    }
   },
   "outputs": [
    {
     "name": "stdout",
     "output_type": "stream",
     "text": [
      "Processing time: 3.14 seconds\n"
     ]
    }
   ],
   "source": [
    "before = time.time()\n",
    "ofstrs = multi_generate(ifstrs)\n",
    "after = time.time()\n",
    "\n",
    "print(\"Processing time: %3.2f seconds\" % (after-before))"
   ]
  },
  {
   "cell_type": "code",
   "execution_count": null,
   "metadata": {},
   "outputs": [],
   "source": []
  }
 ],
 "metadata": {
  "kernelspec": {
   "display_name": "Python [conda env:xradar]",
   "language": "python",
   "name": "conda-env-xradar-py"
  },
  "language_info": {
   "codemirror_mode": {
    "name": "ipython",
    "version": 3
   },
   "file_extension": ".py",
   "mimetype": "text/x-python",
   "name": "python",
   "nbconvert_exporter": "python",
   "pygments_lexer": "ipython3",
   "version": "3.11.0"
  }
 },
 "nbformat": 4,
 "nbformat_minor": 4
}
