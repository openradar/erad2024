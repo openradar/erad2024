{
 "cells": [
  {
   "cell_type": "markdown",
   "metadata": {
    "editable": true,
    "slideshow": {
     "slide_type": ""
    },
    "tags": []
   },
   "source": [
    "<img src=\"../images/QVP.svg\" width=800 alt=\"QVP plot\"></img>"
   ]
  },
  {
   "cell_type": "markdown",
   "metadata": {
    "editable": true,
    "slideshow": {
     "slide_type": ""
    },
    "tags": []
   },
   "source": [
    "# QPE & QVPs"
   ]
  },
  {
   "cell_type": "markdown",
   "metadata": {
    "editable": true,
    "slideshow": {
     "slide_type": ""
    },
    "tags": []
   },
   "source": [
    "---"
   ]
  },
  {
   "cell_type": "markdown",
   "metadata": {
    "editable": true,
    "slideshow": {
     "slide_type": ""
    },
    "tags": []
   },
   "source": [
    "## Overview\n",
    "In this notebook, we demonstrate how utilizing radar data in the Analysis-Ready Cloud-Optimized (ARCO) format enables efficient computation of Quantitative Precipitation Estimates (QPE) and Quasi-Vertical Profiles (QVP). The ARCO format ensures that radar data is pre-processed, clean, and well-organized, significantly reducing the time spent on data preparation and cleaning. By leveraging ARCO radar data, we can focus more on scientific analysis.\n",
    "1. QPE Demo\n",
    "2. QVP Demo"
   ]
  },
  {
   "cell_type": "markdown",
   "metadata": {
    "editable": true,
    "slideshow": {
     "slide_type": ""
    },
    "tags": []
   },
   "source": [
    "## Prerequisites\n",
    "\n",
    "| Concepts | Importance | Notes |\n",
    "| --- | --- | --- |\n",
    "| [Intro to Xarray](https://foundations.projectpythia.org/core/xarray.html) | Necessary |  Basic features |\n",
    "| [Radar Cookbook](https://projectpythia.org/radar-cookbook/README.html) | Necessary |  Radar basics |\n",
    "|[Intro to Zarr](https://zarr.readthedocs.io/en/stable/tutorial.html)| Necessary | Zarr basics\n",
    "\n",
    "- **Time to learn**: 45 minutes"
   ]
  },
  {
   "cell_type": "markdown",
   "metadata": {},
   "source": [
    "---"
   ]
  },
  {
   "cell_type": "markdown",
   "metadata": {
    "editable": true,
    "slideshow": {
     "slide_type": ""
    },
    "tags": []
   },
   "source": [
    "## Imports"
   ]
  },
  {
   "cell_type": "code",
   "execution_count": null,
   "metadata": {
    "editable": true,
    "slideshow": {
     "slide_type": ""
    },
    "tags": []
   },
   "outputs": [],
   "source": [
    "import s3fs\n",
    "import xarray as xr\n",
    "import fsspec\n",
    "import numpy as np\n",
    "import hvplot.xarray\n",
    "import matplotlib.pyplot as plt"
   ]
  },
  {
   "cell_type": "markdown",
   "metadata": {
    "editable": true,
    "slideshow": {
     "slide_type": ""
    },
    "tags": []
   },
   "source": [
    "## ARCO radar dataset"
   ]
  },
  {
   "cell_type": "markdown",
   "metadata": {
    "editable": true,
    "slideshow": {
     "slide_type": ""
    },
    "tags": []
   },
   "source": [
    "We build a dataset (object storage) containing both X and C-band radar data. This dataset is located at the Pythia S3 Bucket."
   ]
  },
  {
   "cell_type": "code",
   "execution_count": null,
   "metadata": {
    "editable": true,
    "slideshow": {
     "slide_type": ""
    },
    "tags": []
   },
   "outputs": [],
   "source": [
    "## S3 bucket connection\n",
    "URL = 'https://js2.jetstream-cloud.org:8001/'\n",
    "path = f'pythia/radar/erad2024'\n",
    "fs = s3fs.S3FileSystem(anon=True, client_kwargs=dict(endpoint_url=URL))\n",
    "file =  s3fs.S3Map(f\"{path}/zarr_radar/erad_2024.zarr\", s3=fs)"
   ]
  },
  {
   "cell_type": "markdown",
   "metadata": {
    "editable": true,
    "slideshow": {
     "slide_type": ""
    },
    "tags": []
   },
   "source": [
    "Let's read our ARCO dataset using `xr.backends.api.open_datatree`"
   ]
  },
  {
   "cell_type": "code",
   "execution_count": null,
   "metadata": {
    "editable": true,
    "slideshow": {
     "slide_type": ""
    },
    "tags": []
   },
   "outputs": [],
   "source": [
    "%%time\n",
    "dtree = xr.backends.api.open_datatree(\n",
    "    file, \n",
    "    engine='zarr', \n",
    "    consolidated=True, \n",
    "    chunks={}\n",
    ")"
   ]
  },
  {
   "cell_type": "code",
   "execution_count": null,
   "metadata": {},
   "outputs": [],
   "source": [
    "dtree"
   ]
  },
  {
   "cell_type": "code",
   "execution_count": null,
   "metadata": {},
   "outputs": [],
   "source": [
    "list(dtree.children)"
   ]
  },
  {
   "cell_type": "markdown",
   "metadata": {},
   "source": [
    "### C-band radar data"
   ]
  },
  {
   "cell_type": "markdown",
   "metadata": {},
   "source": [
    "We can access a nested dataset by using the path as follows:"
   ]
  },
  {
   "cell_type": "code",
   "execution_count": null,
   "metadata": {},
   "outputs": [],
   "source": [
    "dtree[\"cband\"]"
   ]
  },
  {
   "cell_type": "code",
   "execution_count": null,
   "metadata": {},
   "outputs": [],
   "source": [
    "# all sweeps/nodes within the cband datatree\n",
    "list(dtree[\"cband\"].children)"
   ]
  },
  {
   "cell_type": "markdown",
   "metadata": {},
   "source": [
    "Accessing one of the sweeps (\"sweep_2\"):"
   ]
  },
  {
   "cell_type": "code",
   "execution_count": null,
   "metadata": {},
   "outputs": [],
   "source": [
    "dsc = dtree[\"cband/sweep_2\"].ds"
   ]
  },
  {
   "cell_type": "code",
   "execution_count": null,
   "metadata": {},
   "outputs": [],
   "source": [
    "display(dsc)"
   ]
  },
  {
   "cell_type": "markdown",
   "metadata": {},
   "source": [
    "### X-band radar data"
   ]
  },
  {
   "cell_type": "markdown",
   "metadata": {},
   "source": [
    "Similarly, we can access X-band radar data as follows:"
   ]
  },
  {
   "cell_type": "code",
   "execution_count": null,
   "metadata": {},
   "outputs": [],
   "source": [
    "list(dtree[\"xband\"].children)"
   ]
  },
  {
   "cell_type": "code",
   "execution_count": null,
   "metadata": {},
   "outputs": [],
   "source": [
    "dsx = dtree[\"xband/sweep_0\"].ds"
   ]
  },
  {
   "cell_type": "code",
   "execution_count": null,
   "metadata": {
    "scrolled": true
   },
   "outputs": [],
   "source": [
    "display(dsx)"
   ]
  },
  {
   "cell_type": "markdown",
   "metadata": {},
   "source": [
    "## Quantitave Precipitation Estimation (QPE)"
   ]
  },
  {
   "cell_type": "markdown",
   "metadata": {},
   "source": [
    "QPE is a critical process in meteorology, providing measurements of rainfall intensity and accumulation from radar data. One of the foundational methods for QPE is based on the  Z-R relationship, which establishes a statistical relationship between radar reflectivity (Z) and rainfall rate (R). This empirical relationship, derived from observations, is commonly expressed as \n",
    "\n",
    "$$𝑍=\\alpha R^{\\beta}$$\n",
    "\n",
    "where $\\alpha$ and $\\beta$ are constants."
   ]
  },
  {
   "cell_type": "code",
   "execution_count": null,
   "metadata": {
    "editable": true,
    "slideshow": {
     "slide_type": ""
    },
    "tags": []
   },
   "outputs": [],
   "source": [
    "def rain_depth(z: xr.DataArray, a: float=200.0, b: float=1.6, t:int=5) -> xr.DataArray:\n",
    "    \"\"\"\n",
    "    Estimates rainfall depth using radar reflectivity and a Z-R relationship.\n",
    "    \n",
    "    This function computes Quantitative Precipitation Estimation (QPE) by converting\n",
    "    radar reflectivity (Z) into rainfall rate (R) using the Z-R relationship and\n",
    "    then integrating over time to estimate the total rainfall depth.\n",
    "    \n",
    "    Parameters:\n",
    "    -----------\n",
    "    z : xr.DataArray\n",
    "        Radar reflectivity in dBZ. This should be a multi-dimensional Xarray DataArray.\n",
    "    a : float, optional\n",
    "        The alpha (a) parameter in the Z-R relationship. Default is 200.0, corresponding\n",
    "        to the Marshall and Palmer (1948) relationship.\n",
    "    b : float, optional\n",
    "        The beta (b) parameter in the Z-R relationship. Default is 1.6, also from the\n",
    "        Marshall and Palmer (1948) relationship.\n",
    "    t : int, optional\n",
    "        Time integration period in minutes, used to convert rainfall rates into\n",
    "        accumulated depth. Default is 5 minutes.\n",
    "    \n",
    "    Returns:\n",
    "    --------\n",
    "    xr.DataArray\n",
    "        A DataArray representing the estimated rainfall depth in the same dimensions\n",
    "        as the input radar reflectivity. The units of the returned DataArray will be\n",
    "        consistent with the time integration provided (e.g., mm for 5-minute accumulation).\n",
    "    \n",
    "    Notes:\n",
    "    ------\n",
    "    - The Z-R relationship used is of the form Z = a * R^b, where Z is in linear units.\n",
    "    - The function first converts the radar reflectivity from dBZ to linear units (Z),\n",
    "      then computes the rainfall rate (R), and finally multiplies by the time integration\n",
    "      period to obtain the rainfall depth.\n",
    "    \n",
    "    Example:\n",
    "    --------\n",
    "    To compute the rainfall depth over a 5-minute period using reflectivity data:\n",
    "    \n",
    "    >>> rainfall_depth = rain_depth(z, a=200.0, b=1.6, t=5)\n",
    "    \n",
    "    This will return the estimated rainfall depth in millimeters, assuming the default\n",
    "    parameters for the Marshall and Palmer (1955) Z-R relationship.\n",
    "    \n",
    "    \"\"\"\n",
    "    # Convert reflectivity from dBZ to linear units\n",
    "    z_lin = 10 ** (z / 10) \n",
    "    # Compute rainfall depth using the Z-R relationship and time integration\n",
    "    \n",
    "    return ((1 / a) ** (1 / b) * z_lin ** (1 / b)) * (t / 60) # rainfall depth"
   ]
  },
  {
   "cell_type": "markdown",
   "metadata": {},
   "source": [
    "Let's apply this fucntion to our radar dataset"
   ]
  },
  {
   "cell_type": "code",
   "execution_count": null,
   "metadata": {},
   "outputs": [],
   "source": [
    "r_depth = rain_depth(dsc.reflectivity)"
   ]
  },
  {
   "cell_type": "code",
   "execution_count": null,
   "metadata": {},
   "outputs": [],
   "source": [
    "r_depth"
   ]
  },
  {
   "cell_type": "markdown",
   "metadata": {},
   "source": [
    "As the coordinates depend on the `volume_time` dimension, they will disappear when aggregating along this dimension. Therefore, we need to store these coordinates so that we can add them back to our `xr.DataArray`"
   ]
  },
  {
   "cell_type": "code",
   "execution_count": null,
   "metadata": {},
   "outputs": [],
   "source": [
    "x = dsc.x.isel(volume_time=0)\n",
    "y = dsc.y.isel(volume_time=0)\n",
    "z = dsc.z.isel(volume_time=0)"
   ]
  },
  {
   "cell_type": "markdown",
   "metadata": {},
   "source": [
    "Let's compute the total rainfall depth across the entire dataset."
   ]
  },
  {
   "cell_type": "code",
   "execution_count": null,
   "metadata": {},
   "outputs": [],
   "source": [
    "r_total = r_depth.sum(\"volume_time\")"
   ]
  },
  {
   "cell_type": "markdown",
   "metadata": {},
   "source": [
    "Adding coordinates back"
   ]
  },
  {
   "cell_type": "code",
   "execution_count": null,
   "metadata": {},
   "outputs": [],
   "source": [
    "r_total = r_total.assign_coords({\"x\":x, \"y\":y, \"z\":z})"
   ]
  },
  {
   "cell_type": "markdown",
   "metadata": {},
   "source": [
    "Plotting the total rainfall depth"
   ]
  },
  {
   "cell_type": "code",
   "execution_count": null,
   "metadata": {},
   "outputs": [],
   "source": [
    "%%time\n",
    "fig, ax = plt.subplots(figsize=(6, 5))\n",
    "c = r_total.plot.pcolormesh(\n",
    "    x='x', \n",
    "    y='y', \n",
    "    cmap='ChaseSpectral', \n",
    "    vmin=0,\n",
    "    vmax=50,\n",
    "    add_colorbar=False\n",
    ")\n",
    "plt.colorbar(c, ax=ax, label=\"Rainfall depth [mm]\")\n",
    "ax.set_title(\"\")"
   ]
  },
  {
   "cell_type": "markdown",
   "metadata": {},
   "source": [
    "Now it's your turn. Try computing the QPE for the X-band radar dataset"
   ]
  },
  {
   "cell_type": "code",
   "execution_count": null,
   "metadata": {},
   "outputs": [],
   "source": [
    "# Computing rainfall depth\n"
   ]
  },
  {
   "cell_type": "code",
   "execution_count": null,
   "metadata": {},
   "outputs": [],
   "source": [
    "# saving coordinates\n"
   ]
  },
  {
   "cell_type": "code",
   "execution_count": null,
   "metadata": {},
   "outputs": [],
   "source": [
    "# Acummulating rainfall depths\n"
   ]
  },
  {
   "cell_type": "code",
   "execution_count": null,
   "metadata": {},
   "outputs": [],
   "source": [
    "# adding back x,y, and z coordinates\n"
   ]
  },
  {
   "cell_type": "code",
   "execution_count": null,
   "metadata": {},
   "outputs": [],
   "source": [
    "# Plotting rainfall accumulation\n"
   ]
  },
  {
   "cell_type": "markdown",
   "metadata": {},
   "source": [
    "## Quasi-Vertical Profile (QVP)"
   ]
  },
  {
   "cell_type": "markdown",
   "metadata": {},
   "source": [
    "Quasi-Vertical Profiles (QVP) are a radar analysis technique that provides vertical profiles of atmospheric phenomena by averaging radar data over a specific azimuthal range. This method simplifies the study of storm structures, revealing vertical distributions of reflectivity, velocity, and other key parameters. QVPs are valuable for understanding storm dynamics and the development of severe weather.\n",
    "\n",
    "The following function will help us computing QVPs"
   ]
  },
  {
   "cell_type": "code",
   "execution_count": null,
   "metadata": {},
   "outputs": [],
   "source": [
    "def compute_qvp(ds: xr.Dataset, var=\"reflectivity\")-> xr.DataArray:\n",
    "    \"\"\"\n",
    "    Computes a Quasi-Vertical Profile (QVP) from a radar time-series dataset.\n",
    "    \n",
    "    This function averages the specified variable over the azimuthal dimension\n",
    "    to produce a QVP. If the variable is in dBZ (a logarithmic scale), it converts\n",
    "    the values to linear units before averaging and then converts the result \n",
    "    back to dBZ.\n",
    "    \n",
    "    Parameters:\n",
    "    -----------\n",
    "    ds : xr.Dataset\n",
    "        The Xarray Dataset containing the radar data. This dataset should include\n",
    "        multiple sweeps, azimuth angles, and range gates.\n",
    "    var : str, optional\n",
    "        The variable to be averaged to create the QVP. \n",
    "        Default is \"reflectivity\".\n",
    "    \n",
    "    Returns:\n",
    "    --------\n",
    "    xr.DataArray\n",
    "        A DataArray representing the QVP for the specified variable. The result\n",
    "        is averaged over azimuth and adjusted for height using the mean sweep \n",
    "        elevation angle.\n",
    "    \n",
    "    Notes:\n",
    "    ------\n",
    "    - If the variable is in dBZ units, the function converts it to linear units \n",
    "      before averaging to ensure accurate results, then converts it back to dBZ.\n",
    "    - The QVP is calculated by adjusting the range gates to height using the \n",
    "      sine of the mean sweep elevation angle.\n",
    "    \n",
    "    Example:\n",
    "    --------\n",
    "    To compute a QVP for reflectivity:\n",
    "    \n",
    "    >>> qvp_reflectivity = compute_qvp(ds, var=\"reflectivity\")\n",
    "    \n",
    "    The resulting QVP will be in dBZ and aligned along the height dimension.\n",
    "    \n",
    "    \"\"\"\n",
    "    \n",
    "    units: str = ds[var].attrs['units']\n",
    "    if units.startswith(\"dB\"):\n",
    "        qvp = 10 ** (ds[var] / 10)\n",
    "        qvp = qvp.mean(\"azimuth\")\n",
    "        qvp = 10 * np.log10(qvp)\n",
    "    else:\n",
    "        qvp = ds[var]\n",
    "        qvp = qvp.mean(\"azimuth\")\n",
    "        \n",
    "    qvp = qvp.assign_coords({\"range\":(qvp.range.values * \n",
    "                                 np.sin(ds.sweep_fixed_angle.values.mean() *  \n",
    "                                        np.pi / 180.))})\n",
    "    qvp = qvp.rename(f\"qvp_{var}\")\n",
    "    qvp = qvp.rename({\"range\": \"height\"})\n",
    "    return qvp"
   ]
  },
  {
   "cell_type": "markdown",
   "metadata": {},
   "source": [
    "Let's compute the QVP for the X-band radar dataset at the highest elevation angle (\"sweep_7\")."
   ]
  },
  {
   "cell_type": "code",
   "execution_count": null,
   "metadata": {},
   "outputs": [],
   "source": [
    "ds_x = dtree[\"xband/sweep_7\"].ds"
   ]
  },
  {
   "cell_type": "code",
   "execution_count": null,
   "metadata": {
    "scrolled": true
   },
   "outputs": [],
   "source": [
    "display(ds_x)"
   ]
  },
  {
   "cell_type": "markdown",
   "metadata": {},
   "source": [
    "We can use our `compute_qvp` function to create the reflectivity QVP."
   ]
  },
  {
   "cell_type": "code",
   "execution_count": null,
   "metadata": {},
   "outputs": [],
   "source": [
    "qvp_ref = compute_qvp(ds_x, var=\"DBZ\")"
   ]
  },
  {
   "cell_type": "code",
   "execution_count": null,
   "metadata": {
    "scrolled": true
   },
   "outputs": [],
   "source": [
    "display(qvp_ref)"
   ]
  },
  {
   "cell_type": "markdown",
   "metadata": {},
   "source": [
    "We can visualize the QVP results using the `.plot` functionality within `xarray` library."
   ]
  },
  {
   "cell_type": "code",
   "execution_count": null,
   "metadata": {},
   "outputs": [],
   "source": [
    "qvp_ref.sel(height=slice(0, 1.2e4)).plot(\n",
    "    x=\"volume_time\",\n",
    "    y=\"height\",\n",
    "    cmap=\"ChaseSpectral\",\n",
    "    vmin=-10,\n",
    "    vmax=50\n",
    ")"
   ]
  },
  {
   "cell_type": "markdown",
   "metadata": {},
   "source": [
    "Let's try to create a figure similar to the one in [Ryzhkov et al. (2016)](https://doi.org/10.1175/JTECH-D-15-0020.1) by estimating the QVP for differential reflectivity (ZDR), the cross-correlation coefficient (RHOHV), and the differential phase (PHIDP)."
   ]
  },
  {
   "cell_type": "code",
   "execution_count": null,
   "metadata": {},
   "outputs": [],
   "source": [
    "qvp_zdr = compute_qvp(ds_x, var=\"ZDR\")\n",
    "qvp_rhohv = compute_qvp(ds_x, var=\"RHOHV\")\n",
    "qvp_phidp = compute_qvp(ds_x, var=\"PHIDP\")"
   ]
  },
  {
   "cell_type": "markdown",
   "metadata": {},
   "source": [
    "Let's create the figure"
   ]
  },
  {
   "cell_type": "code",
   "execution_count": null,
   "metadata": {},
   "outputs": [],
   "source": [
    "%%time\n",
    "fig, axs = plt.subplots(2, 2, figsize=(12, 5), sharey=True, sharex=True)\n",
    "\n",
    "cf = qvp_ref.sel(height=slice(0, 1.2e4)).plot.contourf(\n",
    "    x=\"volume_time\",\n",
    "    y=\"height\",\n",
    "    cmap=\"ChaseSpectral\",\n",
    "    vmin=-10,\n",
    "    vmax=50, \n",
    "    ax=axs[0][0],\n",
    "    levels=np.linspace(-10, 50, 61),\n",
    "    add_colorbar=False,\n",
    ")\n",
    "axs[0][0].set_title(r\"$Z$\")\n",
    "axs[0][0].set_xlabel(\"\")\n",
    "axs[0][0].set_ylabel(r\"$Height \\ [m]$\")\n",
    "\n",
    "cbar = plt.colorbar(cf, ax=axs[0][0], \n",
    "                    label=r\"$Reflectivity \\ [dBZ]$\", \n",
    "                   )\n",
    "\n",
    "\n",
    "cf1 = qvp_zdr.sel(height=slice(0, 1.2e4)).plot.contourf(\n",
    "    x=\"volume_time\",\n",
    "    y=\"height\",\n",
    "    cmap=\"ChaseSpectral\",\n",
    "    vmin=-1,\n",
    "    vmax=5, \n",
    "    ax=axs[0][1],\n",
    "    levels=np.linspace(-1, 5, 11),\n",
    "    add_colorbar=False,\n",
    ")\n",
    "axs[0][1].set_title(r\"$Z_{DR}$\")\n",
    "axs[0][1].set_xlabel(\"\")\n",
    "axs[0][1].set_ylabel(r\"\")\n",
    "\n",
    "cbar = plt.colorbar(cf1, ax=axs[0][1], \n",
    "                    label=r\"$Diff. \\ Reflectivity \\ [dB]$\", \n",
    "                   )\n",
    "\n",
    "cf2 = qvp_rhohv.sel(height=slice(0, 1.2e4)).plot.contourf(\n",
    "    x=\"volume_time\",\n",
    "    y=\"height\",\n",
    "    cmap=\"ChaseSpectral\",\n",
    "    vmin=0,\n",
    "    vmax=1, \n",
    "    ax=axs[1][0],\n",
    "    levels=np.linspace(0, 1, 101),\n",
    "    add_colorbar=False,\n",
    ")\n",
    "axs[1][0].set_title(r\"$\\rho _{HV}$\")\n",
    "axs[1][0].set_ylabel(r\"$Height \\ [m]$\")\n",
    "axs[1][0].set_xlabel(r\"$Time \\ [UTC]$\")\n",
    "\n",
    "cbar = plt.colorbar(cf2, ax=axs[1][0], \n",
    "                    label=r\"$Cross-Correlation \\ Coef.$\", \n",
    "                   )\n",
    "cf3 = qvp_phidp.sel(height=slice(0, 1.2e4)).plot.contourf(\n",
    "    x=\"volume_time\",\n",
    "    y=\"height\",\n",
    "    cmap=\"jet\",\n",
    "    vmin=0,\n",
    "    vmax=100, \n",
    "    ax=axs[1][1],\n",
    "    levels=np.linspace(0, 100, 101),\n",
    "    add_colorbar=False,\n",
    "\n",
    ")\n",
    "axs[1][1].set_title(r\"$\\theta _{DP}$\")\n",
    "axs[1][1].set_xlabel(r\"$Time \\ [UTC]$\")\n",
    "axs[1][1].set_ylabel(r\"\")\n",
    "\n",
    "cbar = plt.colorbar(cf3, ax=axs[1][1], \n",
    "                    label=r\"$Differential \\ Phase \\ [deg]$\", \n",
    "                   )\n",
    "\n",
    "fig.tight_layout()\n",
    "plt.savefig('../images/QVP.svg',  bbox_inches='tight')"
   ]
  },
  {
   "cell_type": "markdown",
   "metadata": {},
   "source": [
    "Now it's your turn. Try computing the QPE for the C-band radar dataset using the 20 deg elevation angle (\"sweep_15\")"
   ]
  },
  {
   "cell_type": "code",
   "execution_count": null,
   "metadata": {},
   "outputs": [],
   "source": [
    "## Select the sweep_15 from the dtree\n"
   ]
  },
  {
   "cell_type": "code",
   "execution_count": null,
   "metadata": {},
   "outputs": [],
   "source": [
    "## compute the QVP for \"reflectivity\", \"differential_reflectivity\", \n",
    "## \"uncorrected_cross_correlation_ratio\", and \"uncorrected_differential_phase\"\n"
   ]
  },
  {
   "cell_type": "code",
   "execution_count": null,
   "metadata": {},
   "outputs": [],
   "source": [
    "# create the figure\n",
    "\n"
   ]
  },
  {
   "cell_type": "markdown",
   "metadata": {},
   "source": [
    "---"
   ]
  },
  {
   "cell_type": "markdown",
   "metadata": {},
   "source": [
    "## Summary\n",
    "In this notebook, we successfully computed Quantitative Precipitation Estimation (QPE) and Quasi-Vertical Profiles (QVP) for both X-band and C-band radar data using the Analysis-Ready Cloud-Optimized (ARCO) dataset. By leveraging the ARCO format, we were able to streamline the data processing, allowing us to efficiently apply our custom functions for QPE and QVP computation. This approach demonstrated the effectiveness of ARCO datasets in facilitating advanced radar data analysis with minimal preprocessing effort.\n"
   ]
  },
  {
   "cell_type": "markdown",
   "metadata": {
    "editable": true,
    "slideshow": {
     "slide_type": ""
    },
    "tags": []
   },
   "source": [
    "## Resources and references\n",
    " - Ryzhkov, A., P. Zhang, H. Reeves, M. Kumjian, T. Tschallener, S. Trömel, and C. Simmer, 2016: Quasi-Vertical Profiles—A New Way to Look at Polarimetric Radar Data. J. Atmos.   Oceanic Technol., 33, 551–562, https://doi.org/10.1175/JTECH-D-15-0020.1\n",
    " -  Marshall, J. S.; Palmer, W. M. (1948). \"The distribution of raindrops with size\". Journal of Meteorology. 5 (4): 165–166. https://doi.org/10.1175/1520-0469(1948)005%3C0165:TDORWS%3E2.0.CO;2 \n",
    " - [Xradar](https://docs.openradarscience.org/projects/xradar/en/stable/index.html)\n",
    " - [Radar cookbook](https://github.com/ProjectPythia/radar-cookbook)\n",
    " - [Py-Art landing page](https://arm-doe.github.io/pyart/)\n",
    " - [Wradlib landing page](https://docs.wradlib.org/en/latest/index.html)\n"
   ]
  }
 ],
 "metadata": {
  "kernelspec": {
   "display_name": "Python 3 (ipykernel)",
   "language": "python",
   "name": "python3"
  },
  "language_info": {
   "codemirror_mode": {
    "name": "ipython",
    "version": 3
   },
   "file_extension": ".py",
   "mimetype": "text/x-python",
   "name": "python",
   "nbconvert_exporter": "python",
   "pygments_lexer": "ipython3",
   "version": "3.12.4"
  },
  "nbdime-conflicts": {
   "local_diff": [
    {
     "diff": [
      {
       "diff": [
        {
         "key": 0,
         "op": "addrange",
         "valuelist": [
          "Python 3"
         ]
        },
        {
         "key": 0,
         "length": 1,
         "op": "removerange"
        }
       ],
       "key": "display_name",
       "op": "patch"
      }
     ],
     "key": "kernelspec",
     "op": "patch"
    }
   ],
   "remote_diff": [
    {
     "diff": [
      {
       "diff": [
        {
         "key": 0,
         "op": "addrange",
         "valuelist": [
          "Python3"
         ]
        },
        {
         "key": 0,
         "length": 1,
         "op": "removerange"
        }
       ],
       "key": "display_name",
       "op": "patch"
      }
     ],
     "key": "kernelspec",
     "op": "patch"
    }
   ]
  },
  "toc-autonumbering": false
 },
 "nbformat": 4,
 "nbformat_minor": 4
}
