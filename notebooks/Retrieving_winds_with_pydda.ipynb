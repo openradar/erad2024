{
 "cells": [
  {
   "cell_type": "markdown",
   "id": "0",
   "metadata": {},
   "source": [
    "# PyDDA tutorial"
   ]
  },
  {
   "cell_type": "markdown",
   "id": "1",
   "metadata": {},
   "source": [
    "![PyDDA logo](https://openradarscience.org/PyDDA/_images/logo.png)\n",
    "\n",
    "\n",
    "PyDDA is an open source Python package for retrieving winds using Multiple Doppler analyses. It uses the 3D variational technique for retrieving winds from multiple Doppler radars. It uses Py-ART Grid Objects as inputs. Therefore, preprocessed and gridded data are needed for PyDDA to run.\n",
    "\n",
    "## 3D variational technique\n",
    "PyDDA uses a 3D variational technique to retrieve the 3D wind field. We will leave students that are interested in more information about these technqiues two references to read at the end of this notebook. A basic introduction to 3D variational analysis is given here.\n",
    "\n",
    "PyDDA minimizes a cost function $J$ that corresponds to various penalties including:\n",
    "\n",
    "$J_{m} = \\nabla \\cdot V$ which corresponds to the mass continuity equation.\n",
    "\n",
    "$J_{o} = $ RMSE between radar winds and analysis winds.\n",
    "\n",
    "$J_{b} = $ RMSE between sounding winds and analysis winds.\n",
    "\n",
    "$J_{s} = \\nabla^2 V$ which corresponds to the smoothness of wind field to eliminate high-frequency noise that can result from numerical instability.\n",
    "\n",
    "The cost function to be minimized is a weighted sum of the various cost functions in PyDDA and are represented in Equation (1):\n",
    "\n",
    "<p style=\"text-align: center;\">$J = c_{m}J_{m} + c_{o}J_{o} + c_{b}J_{b} + c_{s}J_{s} + ...$ (1)</p>\n",
    "\n",
    "### References\n"
   ]
  },
  {
   "cell_type": "markdown",
   "id": "2",
   "metadata": {},
   "source": [
    "## Imports\n",
    "\n",
    "Let's import the necessary libraries. For now, we'll need PyART, glob, matplotlib, and PyDDA."
   ]
  },
  {
   "cell_type": "code",
   "execution_count": null,
   "id": "3",
   "metadata": {},
   "outputs": [],
   "source": [
    "import glob\n",
    "\n",
    "import pyart\n",
    "import matplotlib.pyplot as plt\n",
    "import pydda\n",
    "import warnings\n",
    "import numpy as np\n",
    "import pandas as pd\n",
    "import fsspec\n",
    "import cartopy.crs as ccrs\n",
    "\n",
    "warnings.filterwarnings(\"ignore\")"
   ]
  },
  {
   "cell_type": "markdown",
   "id": "4",
   "metadata": {},
   "source": [
    "## Case study\n",
    "\n",
    "We will examine the same case study over Italy that has been used for this entire short course. For this case in May 2024, we had weak convective cells in the region of \n",
    "\n",
    "For this case, we had coverage of the storm from two radars, a MeteoSwiss C-band radar near Monte Lema, CH and an X-band radar from ARPA Lombardia located about 50 km away in Milano, IT."
   ]
  },
  {
   "cell_type": "markdown",
   "id": "5",
   "metadata": {},
   "source": [
    "### C-band Radar\n",
    "\n",
    "We need to load and preprocess the C-band radar data first. In order to do so, we first need to load the MeteoSwiss C-band radar file."
   ]
  },
  {
   "cell_type": "code",
   "execution_count": null,
   "id": "6",
   "metadata": {},
   "outputs": [],
   "source": [
    "# Set the URL and path for the cloud\n",
    "URL = \"https://js2.jetstream-cloud.org:8001/\"\n",
    "path = f\"pythia/radar/erad2024\"\n",
    "\n",
    "\n",
    "fs = fsspec.filesystem(\"s3\", anon=True, client_kwargs=dict(endpoint_url=URL))\n",
    "\n",
    "fs.glob(f\"{path}/*\")\n",
    "\n",
    "files = fs.glob(\"pythia/radar/erad2024/dda_data/*\")\n",
    "local_files = [\n",
    "    fsspec.open_local(\n",
    "        f\"simplecache::{URL}{i}\", s3={\"anon\": True}, filecache={\"cache_storage\": \".\"}\n",
    "    )\n",
    "    for i in files\n",
    "]\n",
    "\n",
    "radar = pyart.io.read(local_files[1])"
   ]
  },
  {
   "cell_type": "code",
   "execution_count": null,
   "id": "7",
   "metadata": {},
   "outputs": [],
   "source": [
    "radar.info()"
   ]
  },
  {
   "cell_type": "markdown",
   "id": "8",
   "metadata": {},
   "source": [
    "### Dealiasing\n",
    "\n",
    "The next step is to dealias the radar data. We will follow the steps that were shown eariler in this course to dealias the radar data. Dealiasing is covered in detail in the [Radar Cookbook](https://projectpythia.org/radar-cookbook/notebooks/foundations/pyart-corrections.html)."
   ]
  },
  {
   "cell_type": "code",
   "execution_count": null,
   "id": "9",
   "metadata": {},
   "outputs": [],
   "source": [
    "nyquist = radar.instrument_parameters[\"nyquist_velocity\"][\"data\"][0]\n",
    "vel_dealias = pyart.correct.dealias_region_based(\n",
    "    radar,\n",
    "    vel_field=\"velocity\",\n",
    "    nyquist_vel=nyquist,\n",
    "    centered=True,\n",
    ")\n",
    "radar.add_field(\"corrected_velocity\", vel_dealias, replace_existing=True)"
   ]
  },
  {
   "cell_type": "markdown",
   "id": "10",
   "metadata": {},
   "source": [
    "Plot the data to make sure dealiasing succeeded."
   ]
  },
  {
   "cell_type": "code",
   "execution_count": null,
   "id": "11",
   "metadata": {},
   "outputs": [],
   "source": [
    "display = pyart.graph.RadarDisplay(radar)\n",
    "display.plot(\"reflectivity\", vmin=-20, vmax=70, cmap=\"pyart_ChaseSpectral\", sweep=0)"
   ]
  },
  {
   "cell_type": "code",
   "execution_count": null,
   "id": "12",
   "metadata": {},
   "outputs": [],
   "source": [
    "display = pyart.graph.RadarDisplay(radar)\n",
    "display.plot(\"corrected_velocity\", vmin=-30, vmax=30, cmap=\"twilight_shifted\", sweep=0)"
   ]
  },
  {
   "cell_type": "markdown",
   "id": "13",
   "metadata": {},
   "source": [
    "Some regions did not dealias correctly, like in the region around (-100 km, -100 km) where gate-to-gate shear exceeds the Nyquist interval in the absence of . The region-based algorithm is very sensitive to speckles that are present in the above image. Let's despeckle the above radar data to remove some artifacts."
   ]
  },
  {
   "cell_type": "code",
   "execution_count": null,
   "id": "14",
   "metadata": {},
   "outputs": [],
   "source": [
    "gatefilter = pyart.filters.GateFilter(radar)\n",
    "gatefilter.exclude_above(\"spectrum_width\", 7)\n",
    "# gatefilter.exclude_below('cross_correlation_ratio', 0.8)\n",
    "gatefilter = pyart.correct.despeckle_field(\n",
    "    radar, \"reflectivity\", gatefilter=gatefilter, size=36\n",
    ")\n",
    "display = pyart.graph.RadarDisplay(radar)\n",
    "display.plot(\n",
    "    \"reflectivity\",\n",
    "    vmin=-20,\n",
    "    vmax=70,\n",
    "    gatefilter=gatefilter,\n",
    "    cmap=\"pyart_ChaseSpectral\",\n",
    "    sweep=0,\n",
    ")"
   ]
  },
  {
   "cell_type": "markdown",
   "id": "15",
   "metadata": {},
   "source": [
    "Let's also tweak the settings of the region based dealiasing. Currently, the dealiasing will attempt to dealias regions that are separated by 100 masked gates in the radial. We will disable this feature by setting `skip_between_rays` to 0 so that all dealiasing across filtered gates along the azimuth is disabled."
   ]
  },
  {
   "cell_type": "code",
   "execution_count": null,
   "id": "16",
   "metadata": {},
   "outputs": [],
   "source": [
    "nyquist = radar.instrument_parameters[\"nyquist_velocity\"][\"data\"][0]\n",
    "vel_dealias = pyart.correct.dealias_region_based(\n",
    "    radar,\n",
    "    vel_field=\"velocity\",\n",
    "    nyquist_vel=nyquist,\n",
    "    gatefilter=gatefilter,\n",
    "    centered=True,\n",
    "    skip_between_rays=0,\n",
    ")\n",
    "radar.add_field(\"corrected_velocity\", vel_dealias, replace_existing=True)"
   ]
  },
  {
   "cell_type": "markdown",
   "id": "17",
   "metadata": {},
   "source": [
    "Let's plot all of the sweeps to make sure dealiasing worked correctly. \n",
    "A good indicator of checking this is to check if there are discontinuities in the radial velocities between sweeps on the order of the Nyquist velocity. If there are such discontinuties, further tweaking of the parameters or grounding the retrieval to a sounding may be needed. Using these parameters, the above example radar data is properly dealiased."
   ]
  },
  {
   "cell_type": "code",
   "execution_count": null,
   "id": "18",
   "metadata": {},
   "outputs": [],
   "source": [
    "display = pyart.graph.RadarDisplay(radar)\n",
    "fig, ax = plt.subplots(4, 5, figsize=(15, 10))\n",
    "for i in range(radar.nsweeps):\n",
    "    display.plot(\n",
    "        \"corrected_velocity\",\n",
    "        vmin=-30,\n",
    "        vmax=30,\n",
    "        cmap=\"twilight_shifted\",\n",
    "        sweep=i,\n",
    "        colorbar_label=\"m/s\",\n",
    "        ax=ax[int(i / 5), i % 5],\n",
    "    )\n",
    "    ax[int(i / 5), i % 5].set_title(\"%2.1f deg\" % radar.fixed_angle[\"data\"][i])\n",
    "    ax[int(i / 5), i % 5].set_xlabel(\"X [km]\")\n",
    "    ax[int(i / 5), i % 5].set_ylabel(\"Y [km]\")\n",
    "fig.tight_layout()"
   ]
  },
  {
   "cell_type": "code",
   "execution_count": null,
   "id": "19",
   "metadata": {},
   "outputs": [],
   "source": [
    "pyart.io.write_cfradial(\"MonteLema.20240522.151606_dealiased.nc\", radar)"
   ]
  },
  {
   "cell_type": "markdown",
   "id": "20",
   "metadata": {},
   "source": [
    "## Gridding\n",
    "\n",
    "PyDDA requires data to be gridded to Cartesian coordinates in order to retrieve the 3D wind fields. Therefore, we will use Py-ART's *grid_from_radars* function in order to do the gridding. You usually want to have a grid resolution such that your features of interest are covered by four grid points. In this case, we're at 1 km horizontal and 0.5 km vertical resolution. For more information on gridding with Py-ART, see the [Radar Cookbook](https://projectpythia.org/radar-cookbook/notebooks/foundations/pyart-gridding.html)."
   ]
  },
  {
   "cell_type": "code",
   "execution_count": null,
   "id": "21",
   "metadata": {},
   "outputs": [],
   "source": [
    "grid_limits = ((0.0, 15000.0), (-100_000.0, 100_000.0), (-100_000.0, 100_000.0))\n",
    "grid_shape = (31, 201, 201)\n",
    "radar.fields[\"corrected_velocity\"][\"data\"] = np.ma.masked_where(\n",
    "    gatefilter.gate_excluded, radar.fields[\"corrected_velocity\"][\"data\"]\n",
    ")\n",
    "radar.fields[\"reflectivity\"][\"data\"] = np.ma.masked_where(\n",
    "    gatefilter.gate_excluded, radar.fields[\"reflectivity\"][\"data\"]\n",
    ")\n",
    "\n",
    "cband_grid = pyart.map.grid_from_radars(\n",
    "    [radar], grid_limits=grid_limits, grid_shape=grid_shape\n",
    ")\n",
    "cband_ds = cband_grid.to_xarray()\n",
    "cband_ds"
   ]
  },
  {
   "cell_type": "markdown",
   "id": "22",
   "metadata": {},
   "source": [
    "Let's make sure the grid looks good!"
   ]
  },
  {
   "cell_type": "code",
   "execution_count": null,
   "id": "23",
   "metadata": {},
   "outputs": [],
   "source": [
    "cband_ds.isel(z=1).reflectivity.plot(\n",
    "    x=\"lon\", y=\"lat\", vmin=-20, vmax=70, cmap=\"pyart_ChaseSpectral\"\n",
    ")"
   ]
  },
  {
   "cell_type": "code",
   "execution_count": null,
   "id": "24",
   "metadata": {},
   "outputs": [],
   "source": [
    "cband_ds.isel(y=35).reflectivity.plot(\n",
    "    x=\"x\", y=\"z\", vmin=-20, vmax=70, cmap=\"pyart_ChaseSpectral\"\n",
    ")"
   ]
  },
  {
   "cell_type": "markdown",
   "id": "25",
   "metadata": {},
   "source": [
    "### X-band Data\n",
    "\n",
    "Next, we need to load the X-band radar data from the archive."
   ]
  },
  {
   "cell_type": "code",
   "execution_count": null,
   "id": "26",
   "metadata": {},
   "outputs": [],
   "source": [
    "radar_xband = pyart.io.read(local_files[0])"
   ]
  },
  {
   "cell_type": "markdown",
   "id": "27",
   "metadata": {},
   "source": [
    "Read a single file, the one closes to the UAH volume scan used before"
   ]
  },
  {
   "cell_type": "code",
   "execution_count": null,
   "id": "28",
   "metadata": {},
   "outputs": [],
   "source": [
    "radar.info()"
   ]
  },
  {
   "cell_type": "markdown",
   "id": "29",
   "metadata": {},
   "source": [
    "Visualize the data to make sure we have the correct scan."
   ]
  },
  {
   "cell_type": "code",
   "execution_count": null,
   "id": "30",
   "metadata": {},
   "outputs": [],
   "source": [
    "display = pyart.graph.RadarDisplay(radar_xband)\n",
    "display.plot(\"DBZ\", vmin=0, vmax=70, cmap=\"pyart_ChaseSpectral\", sweep=0)\n",
    "plt.ylim(-100, 100)\n",
    "plt.xlim(-100, 100)"
   ]
  },
  {
   "cell_type": "markdown",
   "id": "31",
   "metadata": {},
   "source": [
    "The X-band radar data also need to be dealiased. We will still need to filter out the noise in the above radar data."
   ]
  },
  {
   "cell_type": "code",
   "execution_count": null,
   "id": "32",
   "metadata": {},
   "outputs": [],
   "source": [
    "# Use the C-band radar lat/lon as the center for the grid\n",
    "\n",
    "gatefilter = pyart.filters.GateFilter(radar_xband)\n",
    "gatefilter.exclude_above(\"WIDTH\", 7)\n",
    "gatefilter.exclude_below(\"RHOHV\", 0.8)\n",
    "gatefilter = pyart.correct.despeckle_field(\n",
    "    radar_xband, \"DBZ\", gatefilter=gatefilter, size=100\n",
    ")\n",
    "vel_dealias = pyart.correct.dealias_region_based(\n",
    "    radar_xband,\n",
    "    vel_field=\"VEL\",\n",
    "    nyquist_vel=nyquist,\n",
    "    centered=True,\n",
    "    skip_between_rays=0,\n",
    "    skip_along_ray=0,\n",
    "    interval_splits=3,\n",
    ")\n",
    "radar_xband.add_field(\"corrected_velocity\", vel_dealias, replace_existing=True)"
   ]
  },
  {
   "cell_type": "markdown",
   "id": "33",
   "metadata": {},
   "source": [
    "Let's view the sweeps to make sure that dealiasing is working correctly."
   ]
  },
  {
   "cell_type": "code",
   "execution_count": null,
   "id": "34",
   "metadata": {},
   "outputs": [],
   "source": [
    "display = pyart.graph.RadarDisplay(radar_xband)\n",
    "fig, ax = plt.subplots(2, 4, figsize=(15, 5))\n",
    "for i in range(radar_xband.nsweeps):\n",
    "    display.plot(\n",
    "        \"corrected_velocity\",\n",
    "        vmin=-30,\n",
    "        vmax=30,\n",
    "        cmap=\"twilight_shifted\",\n",
    "        sweep=i,\n",
    "        colorbar_label=\"m/s\",\n",
    "        ax=ax[int(i / 4), i % 4],\n",
    "    )\n",
    "    ax[int(i / 4), i % 4].set_title(\"%2.1f deg\" % radar.fixed_angle[\"data\"][i])\n",
    "    ax[int(i / 4), i % 4].set_xlabel(\"X [km]\")\n",
    "    ax[int(i / 4), i % 4].set_ylabel(\"Y [km]\")\n",
    "fig.tight_layout()"
   ]
  },
  {
   "cell_type": "code",
   "execution_count": null,
   "id": "35",
   "metadata": {},
   "outputs": [],
   "source": [
    "pyart.io.write_cfradial(\"ARPA_Lombardia.20240522.151546_dealiased.nc\", radar_xband)"
   ]
  },
  {
   "cell_type": "code",
   "execution_count": null,
   "id": "36",
   "metadata": {},
   "outputs": [],
   "source": [
    "grid_lat = radar.latitude[\"data\"][0]\n",
    "grid_lon = radar.longitude[\"data\"][0]\n",
    "xband_grid = pyart.map.grid_from_radars(\n",
    "    [radar_xband],\n",
    "    grid_limits=grid_limits,\n",
    "    grid_shape=grid_shape,\n",
    "    grid_origin=(grid_lat, grid_lon),\n",
    ")\n",
    "\n",
    "# Convert to xarray and remove the time dimension\n",
    "xband_ds = xband_grid.to_xarray().squeeze()"
   ]
  },
  {
   "cell_type": "markdown",
   "id": "37",
   "metadata": {},
   "source": [
    "## Visualize the grids\n",
    "\n",
    "Let's see what our output data looks like!"
   ]
  },
  {
   "cell_type": "code",
   "execution_count": null,
   "id": "38",
   "metadata": {},
   "outputs": [],
   "source": [
    "xband_ds.DBZ.isel(z=1).plot(x=\"lon\", y=\"lat\", cmap=\"Spectral_r\", vmin=-20, vmax=50)"
   ]
  },
  {
   "cell_type": "markdown",
   "id": "39",
   "metadata": {},
   "source": [
    "Velocities look good!"
   ]
  },
  {
   "cell_type": "code",
   "execution_count": null,
   "id": "40",
   "metadata": {},
   "outputs": [],
   "source": [
    "xband_ds.corrected_velocity.isel(z=4).plot(\n",
    "    x=\"lon\", y=\"lat\", cmap=\"twilight_shifted\", vmin=-30, vmax=30\n",
    ")"
   ]
  },
  {
   "cell_type": "code",
   "execution_count": null,
   "id": "41",
   "metadata": {},
   "outputs": [],
   "source": [
    "xband_ds.corrected_velocity.isel(y=55).plot(\n",
    "    x=\"x\", y=\"z\", cmap=\"twilight_shifted\", vmin=-20, vmax=20\n",
    ")"
   ]
  },
  {
   "cell_type": "markdown",
   "id": "42",
   "metadata": {},
   "source": [
    "## PyDDA initialization\n",
    "\n",
    "The 3DVAR wind retrieval first requires an initial guess at the wind field in order to start the cost function minimization process. PyDDA has support for using WRF and sounding data as an initial guess of the wind field as well as constant wind fields. \n",
    "\n",
    "| Initalization functions in **pydda.initialization** module: | Functionality         |\n",
    "|-------------------------------------------------------------|-----------------------|\n",
    "| make_constant_wind_field(Grid[, wind, vel_field]) | This function makes a constant wind field given a wind vector |\n",
    "| make_wind_field_from_profile(Grid, profile) | This function makes a 3D wind field from a sounding. |\n",
    "| make_background_from_wrf(Grid, file_path, ...) | This function makes an initalization field based off of the u and w from a WRF run.\n",
    "| make_initialization_from_era_interim(Grid[, ...]) | This function will read ERA Interim in NetCDF format and add it to the Py-ART grid specified by Grid. |\n",
    "\n",
    "For this example, using a zero initialization field is sufficient to create an accurate representation of the wind field. Depending on your radar set up, you may need to adjust the input initial wind field to avoid artifacts at the edges of the multi-Doppler lobes."
   ]
  },
  {
   "cell_type": "code",
   "execution_count": null,
   "id": "43",
   "metadata": {},
   "outputs": [],
   "source": [
    "cband_ds = pydda.io.read_from_pyart_grid(cband_grid)\n",
    "xband_ds = pydda.io.read_from_pyart_grid(xband_grid)\n",
    "cband_ds = pydda.initialization.make_constant_wind_field(\n",
    "    cband_ds, (0.0, 0.0, 0.0), \"velocity\"\n",
    ")\n",
    "xband_ds[\"reflectivity\"] = xband_ds[\"DBZ\"]"
   ]
  },
  {
   "cell_type": "markdown",
   "id": "44",
   "metadata": {},
   "source": [
    "## PyDDA wind retrieval\n",
    "\n",
    "The core wind retrieval function in PyDDA is done using **retrieval.get_dd_wind_field**. It has many potential keyword inputs that the user can enter. In this example, we are specifying:\n",
    "\n",
    "| Input to **pydda.initialization** module: | Meaning | Value              |\n",
    "|-------------------------------------------|---------|--------------------|\n",
    "| Grids | The input grids to analyze. | [uah_grid, nexrad_grid] |\n",
    "| u_init| Initial guess of *u* field. | u_init |\n",
    "| v_init| Initial guess of *u* field. | v_init |\n",
    "| w_init| Initial guess of *u* field. | w_init |\n",
    "| Co | Weight for cost function related to radar observations | 1.0 |\n",
    "| Cm | Weight of cost function related to mass continuity equation | 256.0|\n",
    "| Cx | Weight of cost function for smoothess in the *x*-direction| 1e-3|\n",
    "| Cy | Weight of cost function for smoothess in the *y*-direction| 1e-3|\n",
    "| Cz | Weight of cost function for smoothess in the *z*-direction| 1e-3|\n",
    "| Cb | Weight of cost function for sounding (background) constraint| 0 |\n",
    "| frz| The freezing level in meters. This is to tell PyDDA where to use ice particle fall speeds in the wind retrieval verus liquid. | 5000. |\n",
    "| filter_window | The window to apply the low pass filter on | 5 |\n",
    "| mask_outside_opt | Mask all winds outside the Dual Doppler lobes | True\n",
    "| vel_name| The name of the velocity field in the radar data | 'corrected_velocity' |\n",
    "| wind_tol | Stop optimization when the change in wind speeds between iterations is less than this value |\n",
    "| engine | PyDDA supports three backends for optimization: SciPy, JAX, and TensorFlow. | \"scipy\""
   ]
  },
  {
   "cell_type": "code",
   "execution_count": null,
   "id": "45",
   "metadata": {},
   "outputs": [],
   "source": [
    "grids, params = pydda.retrieval.get_dd_wind_field(\n",
    "    [cband_ds, xband_ds],\n",
    "    Co=1,\n",
    "    Cm=1024.0,\n",
    "    Cx=1e-2,\n",
    "    Cy=1e-2,\n",
    "    Cz=1e-2,\n",
    "    frz=5000.0,\n",
    "    mask_outside_opt=True,\n",
    "    upper_bc=1,\n",
    "    vel_name=\"corrected_velocity\",\n",
    "    wind_tol=0.5,\n",
    "    engine=\"scipy\",\n",
    ")"
   ]
  },
  {
   "cell_type": "markdown",
   "id": "46",
   "metadata": {},
   "source": [
    "## Visualize the results\n",
    "\n",
    "Let's visualize the results. There are two ways in which this data can be visualized. One way is by using PyDDA's visualization routines. You can also use xarray to visualize the output grids."
   ]
  },
  {
   "cell_type": "code",
   "execution_count": null,
   "id": "47",
   "metadata": {},
   "outputs": [],
   "source": [
    "ds = grids[0]\n",
    "ds"
   ]
  },
  {
   "cell_type": "markdown",
   "id": "48",
   "metadata": {},
   "source": [
    "If you are not able to get the above example to run on your laptop, pre-generated grid files are available <a href=\"https://drive.google.com/drive/folders/1LmfJeiYHcC_NGWuNAW7gAPMUNp7Z4UZq?usp=sharing\">here</a>."
   ]
  },
  {
   "cell_type": "code",
   "execution_count": null,
   "id": "49",
   "metadata": {},
   "outputs": [],
   "source": [
    "ds.reflectivity.sel(z=2000, method=\"nearest\").plot(\n",
    "    cmap=\"pyart_ChaseSpectral\", vmin=-10, vmax=60\n",
    ")\n",
    "ds.isel(time=0).sel(z=2000, method=\"nearest\").w.plot.contour(\n",
    "    x=\"x\", y=\"y\", levels=np.arange(1, 5, 1)\n",
    ")\n",
    "plt.xlim([-50000, 25000])\n",
    "plt.ylim([-100000, -25000])"
   ]
  },
  {
   "cell_type": "markdown",
   "id": "50",
   "metadata": {},
   "source": [
    "## Saving the grids"
   ]
  },
  {
   "cell_type": "markdown",
   "id": "51",
   "metadata": {},
   "source": [
    "We can save the grids using either *xarray*'s or Py-ART's functionality. To save the output grids,  use *pyart.io.write_grid* (PyART) functions. For example:"
   ]
  },
  {
   "cell_type": "code",
   "execution_count": null,
   "id": "52",
   "metadata": {},
   "outputs": [],
   "source": [
    "# Keep these lines if we can't update PyDDA in time for ERAD\n",
    "grids[0].attrs[\"radar_name\"] = \"C-band\"\n",
    "del grids[0][\"time\"].attrs[\"units\"]\n",
    "grids[1].attrs[\"radar_name\"] = \"X-band\"\n",
    "del grids[1][\"time\"].attrs[\"units\"]\n",
    "\n",
    "grids[0].to_netcdf(\"output_grid_Cband.nc\")\n",
    "grids[1].to_netcdf(\"output_grid_Xband.nc\")"
   ]
  },
  {
   "cell_type": "markdown",
   "id": "53",
   "metadata": {},
   "source": [
    "In order to load the grids again, we can just use PyART's *pyart.io.read_grid* procedure."
   ]
  },
  {
   "cell_type": "code",
   "execution_count": null,
   "id": "54",
   "metadata": {},
   "outputs": [],
   "source": [
    "# For live demos, load these since retrieval takes about 7 minutes\n",
    "grids = [\n",
    "    pydda.io.read_grid(\"output_grid_Cband.nc\"),\n",
    "    pydda.io.read_grid(\"output_grid_Xband.nc\"),\n",
    "]"
   ]
  },
  {
   "cell_type": "markdown",
   "id": "55",
   "metadata": {},
   "source": [
    "## PyDDA visualization routines\n",
    "PyDDA's visualization routines support the native PyART grids that are output by PyDDA. These routines have an advantage over xarray's plotting routines for adjusting your barb and quiver size by specifying their using parameters that are in scales of kilometers. This makes it easier to plot barb and quiver plots compared to using xarray's functionality. \n",
    "\n",
    "For example, the documentation for *pydda.vis.plot_horiz_xsection_quiver* is given below."
   ]
  },
  {
   "cell_type": "code",
   "execution_count": null,
   "id": "56",
   "metadata": {},
   "outputs": [],
   "source": [
    "?pydda.vis.plot_horiz_xsection_quiver"
   ]
  },
  {
   "cell_type": "markdown",
   "id": "57",
   "metadata": {},
   "source": [
    "PyDDA has the following visualization routines for your sets of grids:\n",
    "\n",
    "| Procedure | Description |\n",
    "|-----------|-------------|\n",
    "| plot_horiz_xsection_barbs(Grids[, ax, ...]) | Horizontal cross section of winds from wind fields generated by PyDDA using barbs.\n",
    "| plot_xz_xsection_barbs(Grids[, ax, ...]) | Cross section of winds from wind fields generated by PyDDA in the X-Z plane using barbs.\n",
    "| plot_yz_xsection_barbs(Grids[, ax, ...]) | Cross section of winds from wind fields generated by PyDDA in the Y-Z plane using barbs.\n",
    "| plot_horiz_xsection_barbs_map(Grids[, ax, ...]) | Horizontal cross section of winds from wind fields generated by PyDDA onto a geographical map using barbs.\n",
    "| plot_horiz_xsection_streamlines(Grids[, ax, ...]) | Horizontal cross section of winds from wind fields generated by PyDDA using streamlines.\n",
    "| plot_xz_xsection_streamlines(Grids[, ax, ...])| Cross section of winds from wind fields generated by PyDDA in the X-Z plane using streamlines.\n",
    "| plot_yz_xsection_streamlines(Grids[, ax, ...]) | Cross section of winds from wind fields generated by PyDDA in the Y-Z plane using streamlines.\n",
    "| plot_horiz_xsection_streamlines_map(Grids[, ...]) | Horizontal cross section of winds from wind fields generated by PyDDA using streamlines.\n",
    "| plot_horiz_xsection_quiver(Grids[, ax, ...]) | Horizontal cross section of winds from wind fields generated by PyDDA using quivers.  \n",
    "| plot_xz_xsection_quiver(Grids[, ax, ...]) | Cross section of winds from wind fields generated by PyDDA in the X-Z plane using quivers.\n",
    "| plot_yz_xsection_quiver(Grids[, ax, ...]) | Cross section of winds from wind fields generated by PyDDA in the Y-Z plane using quivers.\n",
    "| plot_horiz_xsection_quiver_map(Grids[, ax, ...]) | Horizontal cross section of winds from wind fields generated by PyDDA using quivers onto a geographical map."
   ]
  },
  {
   "cell_type": "markdown",
   "id": "58",
   "metadata": {},
   "source": [
    "Let's show a quiver plot of this storm!\n",
    "\n",
    "We have specified the quivers to be 4 km apart and moved the key to the bottom right with the specific length indicating 20 m/s winds. Let's look at the 3 km level."
   ]
  },
  {
   "cell_type": "code",
   "execution_count": null,
   "id": "59",
   "metadata": {},
   "outputs": [],
   "source": [
    "fig, ax = plt.subplots(1, 1, figsize=(6, 6))\n",
    "pydda.vis.plot_horiz_xsection_quiver(\n",
    "    grids,\n",
    "    quiver_spacing_x_km=2.5,\n",
    "    quiver_spacing_y_km=2.5,\n",
    "    quiver_width=0.005,\n",
    "    vmax=60,\n",
    "    quiverkey_len=10.0,\n",
    "    w_vel_contours=np.arange(1, 5, 1),\n",
    "    level=4,\n",
    "    cmap=\"pyart_ChaseSpectral\",\n",
    "    ax=ax,\n",
    "    quiverkey_loc=\"bottom_right\",\n",
    ")\n",
    "plt.xlim([-75, 25])\n",
    "plt.ylim([-100, -25])"
   ]
  },
  {
   "cell_type": "markdown",
   "id": "60",
   "metadata": {},
   "source": [
    "We can zoom in and modify the plot using standard matplotlib functions on the axis handle.\n",
    "\n",
    "It is much easier to see updrafts being placed just to the outside of the strongest precipitation, with potential new growth in the north of the domain with updraft velocities > 7 m/s. The precipitation is downwind of the updraft as we would expect.\n",
    "\n",
    "Updrafts are right tilted due to the horizontal wind shear. The horizontal wind shear also causes the most intense precipitation to be downshear of the updraft. This therefore shows us that we have a good quality wind retrieval below about 5 km in altitude."
   ]
  },
  {
   "cell_type": "code",
   "execution_count": null,
   "id": "61",
   "metadata": {},
   "outputs": [],
   "source": [
    "fig, ax = plt.subplots(1, 1, figsize=(6, 4))\n",
    "pydda.vis.plot_xz_xsection_quiver(\n",
    "    grids,\n",
    "    quiver_spacing_x_km=2.0,\n",
    "    quiver_spacing_z_km=1.0,\n",
    "    quiver_width=0.005,\n",
    "    quiverkey_len=10.0,\n",
    "    w_vel_contours=np.arange(1, 5, 1),\n",
    "    level=37,\n",
    "    cmap=\"pyart_ChaseSpectral\",\n",
    "    ax=ax,\n",
    "    quiverkey_loc=\"top_right\",\n",
    ")\n",
    "ax.set_xlim([-75, -25])\n",
    "ax.set_ylim([0, 13])"
   ]
  },
  {
   "cell_type": "markdown",
   "id": "62",
   "metadata": {},
   "source": [
    "Let's view a horizontal cross section with barbs!"
   ]
  },
  {
   "cell_type": "code",
   "execution_count": null,
   "id": "63",
   "metadata": {},
   "outputs": [],
   "source": [
    "fig, ax = plt.subplots(1, 1, figsize=(6, 6))\n",
    "pydda.vis.plot_horiz_xsection_barbs(\n",
    "    grids,\n",
    "    barb_spacing_x_km=6.0,\n",
    "    barb_spacing_y_km=6.0,\n",
    "    w_vel_contours=np.arange(1, 10, 1),\n",
    "    level=6,\n",
    "    cmap=\"pyart_ChaseSpectral\",\n",
    "    ax=ax,\n",
    ")\n",
    "# ax.set_xlim([-60, 0])\n",
    "# ax.set_ylim([0, 70])"
   ]
  },
  {
   "cell_type": "code",
   "execution_count": null,
   "id": "64",
   "metadata": {},
   "outputs": [],
   "source": [
    "cband_ds[\"time\"][0].dt.year.values"
   ]
  }
 ],
 "metadata": {
  "language_info": {
   "codemirror_mode": {
    "name": "ipython",
    "version": 3
   },
   "file_extension": ".py",
   "mimetype": "text/x-python",
   "name": "python",
   "nbconvert_exporter": "python",
   "pygments_lexer": "ipython3",
   "version": "3.11.0"
  }
 },
 "nbformat": 4,
 "nbformat_minor": 5
}
