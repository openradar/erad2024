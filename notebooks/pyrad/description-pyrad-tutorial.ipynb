{
 "cells": [
  {
   "cell_type": "markdown",
   "metadata": {
    "jp-MarkdownHeadingCollapsed": true
   },
   "source": [
    "# Pyrad tutorial\n",
    "\n",
    "- An overview of pyrad is provided [here](../../presentations/pdf/Pyrad_architecture_and_principles.pdf).\n",
    "- Pyrad documentation can be found [here](https://meteoswiss.github.io/pyrad/).\n",
    "- Code is available at the [github repository](https://github.com/meteoswiss/pyrad)."
   ]
  },
  {
   "cell_type": "markdown",
   "metadata": {
    "jp-MarkdownHeadingCollapsed": true
   },
   "source": [
    "# QPE Exercise\n",
    "\n",
    "We are going to practice with the Pyrad config files to create a QPE processing data chain. The following data will be used:\n",
    "- [Rain gauge data from ARPA Lombardia](https://www.arpalombardia.it/temi-ambientali/meteo-e-clima/guida-richiesta-dati/).\n",
    "- [X-band radar data provided by ARPA Lombardia](https://www.arpalombardia.it/temi-ambientali/meteo-e-clima/radar-meteo/).\n",
    "- [Radar data from the MeteoSwiss radar at Monte Lema](https://www.meteoswiss.admin.ch/services-and-publications/applications/precipitation.html).\n",
    "- [Rain gauge data from MeteoSwiss](https://www.meteoswiss.admin.ch/services-and-publications/applications/measurement-values-and-measuring-networks.html#param=messwerte-niederschlag-10min&table=false)\n",
    "  \n",
    "We have prepared for you a stub of the 3 config files to process the X-band radar data. Have a look at them here:\n",
    "- [main config file](../../pyrad/config/qpe.txt)\n",
    "- [loc config file](../../pyrad/config/qpe_loc.txt)\n",
    "- [prod config file](../../pyrad/config/qpe_prod.txt)\n",
    "\n",
    "If you execute pyrad using this config file you will get a projection on a map of the reflectivity of the 2nd elevation. Let's try that:\n",
    "1. Open the terminal\n",
    "2. Go to *erad2024/pyrad/config*\n",
    "3. execute: `main_process_data.py qpe.txt --starttime 20240522160000 --endtime 20240522160000 --cfgpath ./`\n",
    "4. The created image is stored in the directory *erad2024/pyrad/pyrad_outputs/QPE_ARPA2/2024-05-22/dBZ/EL1.3/*\n",
    "\n",
    "## Exercise 1: Exploring the raw data\n",
    "Can you generate similar maps for ZDR, RhoHV, KDP and PhiDP? \n",
    "\n",
    "Have a look at other elevations as well. \n",
    "\n",
    "Could you generate a pseudo-RHI for an azimuth of interest? *(hint: a pseudo-ppi map is generated using the PSEUDORHI_IMAGE product)* \n",
    "\n",
    "## Exercise 2: Clutter filtering\n",
    "Generate an echoID dataset using the sanity check SAN process and filter all the data using the ECHO_FILTER dataset generator.\n",
    "\n",
    "## Exercise 3: Attenuation correction\n",
    "Correct the reflectivity and the differential reflectivity using the ATTENUATION process.\n",
    "\n",
    "## Exercise 4: Hydrometeor classification\n",
    "Use the semi-supervised hydrometeor classification in the HYDROCLASS process to obtain an hydro dataset\n",
    "\n",
    "## Exercise 5: Rainfall rate estimation\n",
    "Use the hydro method in the RAINRATE process to get the rainfall rate\n",
    "\n",
    "## Exercise 6: Comparing radar rainfall rate with rain gauge measurements\n",
    "Extract data at a point using the POINT_MEASUREMENT process and generate rain gauge-radar comparisons using TIME_SERIES products. The following rain gauges are available:\n",
    "- 45.8500,8.0000 COL (Coldrerio)\n",
    "- 45.843, 8.932 SBO (Stabio)\n",
    "- 45.843, 8.932 GEN (Monte Generoso)\n",
    "- 45.8333, 8.8167 IYVAV (Masnago)\n",
    "- 45.8167,9.0667 IYCOV (Como)\n",
    "- 45.6833,9.1833 IYMAR (Mariano Comense)\n",
    "- 45.6833,9.1833 IYVAP (Varallo)\n",
    "- 45.6833,9.1833 IYVEM (Vertemate)\n",
    "\n",
    "## Exercise 7: Projection into regular grid\n",
    "Project the rainfall rate estimation into a regular grid using the GRID process. Plot the rainfall rate at several elevations.\n",
    "\n",
    "## Bonus questions:\n",
    "- Use other rainfall rate estimators available on Pyrad\n",
    "- Use alternative KDP processing methods\n",
    "- Create config files to process Monte Lema radar data"
   ]
  },
  {
   "cell_type": "markdown",
   "metadata": {},
   "source": [
    "# Beyond QPE\n",
    "\n",
    "Pyrad has much more features available than just QPE. Have a look at the two config file sets that covers other projects discussed in this course:\n",
    "- [Dual-Doppler analysis using PyDDA](../../pyrad/config/dda.txt)\n",
    "- [Quasi-Vertical profiles](../../pyrad/config/qvp.txt)\n",
    "\n",
    "There are many more examples of config files available in the [Pyrad examples repository](https://github.com/MeteoSwiss/pyrad-examples/).\n",
    "\n",
    "# Thank You for your participation in the course!\n",
    "\n",
    "If you have further questions, or you encounter bugs, or the documentation is not clear do not hesitate to [open an issue](https://github.com/MeteoSwiss/pyrad/issues).\n",
    "\n",
    "# Contributions are very welcomed!!!\n",
    "\n",
    "Open an issue so that we can discuss your contribution and make sure together that if fits into the software"
   ]
  },
  {
   "cell_type": "code",
   "execution_count": null,
   "metadata": {},
   "outputs": [],
   "source": []
  }
 ],
 "metadata": {
  "kernelspec": {
   "display_name": "Python 3 (ipykernel)",
   "language": "python",
   "name": "python3"
  },
  "language_info": {
   "codemirror_mode": {
    "name": "ipython",
    "version": 3
   },
   "file_extension": ".py",
   "mimetype": "text/x-python",
   "name": "python",
   "nbconvert_exporter": "python",
   "pygments_lexer": "ipython3",
   "version": "3.9.19"
  }
 },
 "nbformat": 4,
 "nbformat_minor": 4
}
