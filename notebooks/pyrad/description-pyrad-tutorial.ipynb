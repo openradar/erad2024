{
 "cells": [
  {
   "cell_type": "markdown",
   "metadata": {},
   "source": [
    "# Pyrad tutorial\n",
    "\n",
    "- An overview of pyrad is provided [here](/presentations/pptx/Pyrad_architecture_and_principles.pptx).\n",
    "- Pyrad documentation can be found [here](https://meteoswiss.github.io/pyrad/).\n",
    "- Code is available at the [github repository](https://github.com/meteoswiss/pyrad).\n",
    "\n",
    "# QPE Exercise\n",
    "\n",
    "- We are going to practice with the Pyrad config files to create a QPE processing data chain.\n"
   ]
  },
  {
   "cell_type": "code",
   "execution_count": null,
   "metadata": {},
   "outputs": [],
   "source": []
  }
 ],
 "metadata": {
  "kernelspec": {
   "display_name": "Python 3 (ipykernel)",
   "language": "python",
   "name": "python3"
  },
  "language_info": {
   "codemirror_mode": {
    "name": "ipython",
    "version": 3
   },
   "file_extension": ".py",
   "mimetype": "text/x-python",
   "name": "python",
   "nbconvert_exporter": "python",
   "pygments_lexer": "ipython3",
   "version": "3.10.12"
  }
 },
 "nbformat": 4,
 "nbformat_minor": 4
}
