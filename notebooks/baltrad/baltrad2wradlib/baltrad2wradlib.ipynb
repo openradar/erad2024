{
 "cells": [
  {
   "cell_type": "markdown",
   "metadata": {},
   "source": [
    "# Attenuation correction comparison with wradlib\n",
    "\n",
    "Comparison between BALTRAD and wradlib attenuation correction"
   ]
  },
  {
   "cell_type": "markdown",
   "metadata": {},
   "source": [
    "## Retrieve data from s3 bucket"
   ]
  },
  {
   "cell_type": "code",
   "execution_count": 1,
   "metadata": {},
   "outputs": [
    {
     "name": "stdout",
     "output_type": "stream",
     "text": [
      "downloading, data/201405190715_SUR.h5\n",
      "downloading, data/europe_countries.dbf\n",
      "downloading, data/europe_countries.prj\n",
      "downloading, data/europe_countries.sbn\n",
      "downloading, data/europe_countries.sbx\n",
      "downloading, data/europe_countries.shp\n",
      "downloading, data/europe_countries.shx\n"
     ]
    }
   ],
   "source": [
    "import os\n",
    "import urllib.request\n",
    "from pathlib import Path\n",
    "\n",
    "# Set the URL for the cloud\n",
    "URL = \"https://js2.jetstream-cloud.org:8001/\"\n",
    "path = \"pythia/radar/erad2024/baltrad/baltrad2wradlib/\"\n",
    "!mkdir -p data\n",
    "files = [\n",
    "    \"201405190715_SUR.h5\",\n",
    "    \"europe_countries.dbf\",\n",
    "    \"europe_countries.prj\",\n",
    "    \"europe_countries.sbn\",\n",
    "    \"europe_countries.sbx\",\n",
    "    \"europe_countries.shp\",\n",
    "    \"europe_countries.shx\",\n",
    "]\n",
    "for file in files:\n",
    "    file0 = os.path.join(path, file)\n",
    "    name = os.path.join(\"data\", Path(file).name)\n",
    "    if not os.path.exists(name):\n",
    "        print(f\"downloading, {name}\")\n",
    "        urllib.request.urlretrieve(\n",
    "            f\"{URL}{file0}\", os.path.join(\"data\", Path(file).name)\n",
    "        )"
   ]
  },
  {
   "cell_type": "markdown",
   "metadata": {},
   "source": [
    "## Prepare your environment"
   ]
  },
  {
   "cell_type": "code",
   "execution_count": null,
   "metadata": {},
   "outputs": [],
   "source": [
    "%matplotlib inline"
   ]
  },
  {
   "cell_type": "code",
   "execution_count": null,
   "metadata": {},
   "outputs": [],
   "source": [
    "import gc\n",
    "\n",
    "import matplotlib.pyplot as plt\n",
    "import matplotlib.ticker as mticker\n",
    "import numpy as np\n",
    "import shapefile\n",
    "import wradlib\n",
    "import xradar as xd\n",
    "from matplotlib.collections import PatchCollection\n",
    "from matplotlib.patches import Polygon"
   ]
  },
  {
   "cell_type": "markdown",
   "metadata": {},
   "source": [
    "## Run BALTRAD's odc_toolbox"
   ]
  },
  {
   "cell_type": "markdown",
   "metadata": {},
   "source": [
    "First, you will process a scan from Suergavere (Estland) by using BALTRAD's odc_toolbox.\n",
    "\n",
    "From your VM's vagrant directory, navigate to the folder ``/baltrad2wradlib``.\n",
    "\n",
    "Execute the following command:\n",
    "\n",
    "``$ odc_toolbox -i in -o out -q ropo,radvol-att``\n",
    "\n",
    "Check whether a file was created in the folder ``/out``.\n",
    "\n",
    "**BALTRAD will not create output files if these already exist.** You can check that via ``!ls out``."
   ]
  },
  {
   "cell_type": "code",
   "execution_count": null,
   "metadata": {},
   "outputs": [],
   "source": [
    "!odc_toolbox --help"
   ]
  },
  {
   "cell_type": "code",
   "execution_count": null,
   "metadata": {},
   "outputs": [],
   "source": [
    "!odc_toolbox -i in -o out -q ropo,radvol-att"
   ]
  },
  {
   "cell_type": "code",
   "execution_count": null,
   "metadata": {},
   "outputs": [],
   "source": [
    "!ls out"
   ]
  },
  {
   "cell_type": "markdown",
   "metadata": {},
   "source": [
    "## Read and inspect data from Suergavere (Estonia) before and after QC with odc_toolbox"
   ]
  },
  {
   "cell_type": "code",
   "execution_count": null,
   "metadata": {},
   "outputs": [],
   "source": [
    "# Before QC\n",
    "inp = xd.io.open_odim_datatree(\"in/201405190715_SUR.h5\")\n",
    "# After QC\n",
    "out = xd.io.open_odim_datatree(\"out/201405190715_SUR.h5\")"
   ]
  },
  {
   "cell_type": "markdown",
   "metadata": {},
   "source": [
    "## Georeference"
   ]
  },
  {
   "cell_type": "code",
   "execution_count": null,
   "metadata": {},
   "outputs": [],
   "source": [
    "inp = inp.xradar.georeference()\n",
    "out = out.xradar.georeference()"
   ]
  },
  {
   "cell_type": "code",
   "execution_count": null,
   "metadata": {},
   "outputs": [],
   "source": [
    "swp_inp = inp[\"sweep_0\"].ds.set_coords(\"sweep_mode\")\n",
    "swp_out = out[\"sweep_0\"].ds.set_coords(\"sweep_mode\")\n",
    "display(swp_inp)\n",
    "display(swp_out)"
   ]
  },
  {
   "cell_type": "markdown",
   "metadata": {},
   "source": [
    "## Design a plot we will use for all PPIs in this exercise"
   ]
  },
  {
   "cell_type": "code",
   "execution_count": null,
   "metadata": {},
   "outputs": [],
   "source": [
    "import cartopy.crs as ccrs\n",
    "import wradlib as wrl\n",
    "from cartopy.io.shapereader import Reader\n",
    "\n",
    "map_proj = ccrs.AzimuthalEquidistant(\n",
    "    central_latitude=swp_inp.latitude.values, central_longitude=swp_inp.longitude.values\n",
    ")\n",
    "osr_proj = wrl.georef.create_osr(\n",
    "    \"aeqd\", lat_0=swp_inp.latitude.values, lon_0=swp_inp.longitude.values\n",
    ")\n",
    "\n",
    "\n",
    "def plot_ppi_to_ax(ppi, ax, title=\"\", reader=None, **kwargs):\n",
    "    pm = ppi.wrl.vis.plot(crs=map_proj, ax=ax, **kwargs)\n",
    "    ax.set_title(title)\n",
    "    if reader is not None:\n",
    "        ax.add_geometries(\n",
    "            reader.geometries(),\n",
    "            ccrs.PlateCarree(),\n",
    "            facecolor=\"lightgrey\",\n",
    "            edgecolor=\"k\",\n",
    "            linewidths=1,\n",
    "            zorder=-1,\n",
    "        )\n",
    "    wrl.vis.plot_ppi_crosshair(\n",
    "        site=(ppi.longitude.values, ppi.latitude.values, ppi.altitude.values),\n",
    "        ranges=[50000, 100000, 150000, 200000, ppi.range.max().values],\n",
    "        angles=[0, 90, 180, 270],\n",
    "        line=dict(color=\"white\"),\n",
    "        circle={\"edgecolor\": \"white\"},\n",
    "        ax=ax,\n",
    "        crs=osr_proj,\n",
    "    )\n",
    "    return pm"
   ]
  },
  {
   "cell_type": "markdown",
   "metadata": {},
   "source": [
    "## Plot the selected fields into one figure"
   ]
  },
  {
   "cell_type": "code",
   "execution_count": null,
   "metadata": {},
   "outputs": [],
   "source": [
    "fig = plt.figure(figsize=(12, 10))\n",
    "\n",
    "ax = plt.subplot(221, projection=map_proj)\n",
    "pm = plot_ppi_to_ax(\n",
    "    swp_inp.DBZH.where(swp_inp.DBZH >= -10),\n",
    "    ax=ax,\n",
    "    reader=reader,\n",
    "    title=\"Before QC\",\n",
    "    add_colorbar=False,\n",
    "    vmin=-10,\n",
    "    vmax=65,\n",
    ")\n",
    "\n",
    "ax = plt.subplot(222, projection=map_proj)\n",
    "pm = plot_ppi_to_ax(\n",
    "    swp_out.DBZH.where(swp_out.DBZH >= -10),\n",
    "    ax=ax,\n",
    "    reader=reader,\n",
    "    title=\"After QC\",\n",
    "    add_colorbar=False,\n",
    "    vmin=-10,\n",
    "    vmax=65,\n",
    ")\n",
    "\n",
    "ax = plt.subplot(223, projection=map_proj)\n",
    "qm = plot_ppi_to_ax(\n",
    "    swp_out.quality1, ax=ax, reader=reader, add_colorbar=False, title=\"Quality 1\"\n",
    ")\n",
    "\n",
    "ax = plt.subplot(224, projection=map_proj)\n",
    "qm = plot_ppi_to_ax(\n",
    "    swp_out.QIND, ax=ax, reader=reader, add_colorbar=False, title=\"Quality 2\"\n",
    ")\n",
    "\n",
    "plt.tight_layout()\n",
    "\n",
    "# Add colorbars\n",
    "fig.subplots_adjust(right=0.9)\n",
    "cax = fig.add_axes((0.9, 0.6, 0.03, 0.3))\n",
    "cbar = plt.colorbar(pm, cax=cax)\n",
    "cbar.set_label(\"Horizontal reflectivity (dBZ)\", fontsize=\"large\")\n",
    "\n",
    "cax = fig.add_axes((0.9, 0.1, 0.03, 0.3))\n",
    "cbar = plt.colorbar(qm, cax=cax)\n",
    "cbar.set_label(\"Quality index\", fontsize=\"large\")"
   ]
  },
  {
   "cell_type": "markdown",
   "metadata": {},
   "source": [
    "## Collect and plot the polarimetric moments from the original ODIM_H5 dataset"
   ]
  },
  {
   "cell_type": "code",
   "execution_count": null,
   "metadata": {},
   "outputs": [],
   "source": [
    "fig = plt.figure(figsize=(12, 12))\n",
    "\n",
    "ax = plt.subplot(221, projection=map_proj)\n",
    "pm = plot_ppi_to_ax(swp_inp.RHOHV, ax=ax, title=\"RhoHV\", reader=reader)\n",
    "\n",
    "ax = plt.subplot(222, projection=map_proj)\n",
    "pm = plot_ppi_to_ax(swp_inp.PHIDP, ax=ax, title=\"PhiDP\", reader=reader)\n",
    "\n",
    "ax = plt.subplot(223, projection=map_proj)\n",
    "pm = plot_ppi_to_ax(\n",
    "    swp_inp.ZDR, ax=ax, title=\"Differential reflectivity\", reader=reader\n",
    ")\n",
    "\n",
    "ax = plt.subplot(224, projection=map_proj)\n",
    "pm = plot_ppi_to_ax(swp_inp.VRAD, ax=ax, title=\"Doppler velocity\", reader=reader)\n",
    "\n",
    "plt.tight_layout()"
   ]
  },
  {
   "cell_type": "markdown",
   "metadata": {},
   "source": [
    "## Try some filtering and attenuation correction"
   ]
  },
  {
   "cell_type": "code",
   "execution_count": null,
   "metadata": {},
   "outputs": [],
   "source": [
    "# Set ZH to a very low value where we do not expect valid data\n",
    "zh = swp_inp.DBZH.fillna(-32.0)\n",
    "# Retrieve PIA by using some constraints (see https://docs.wradlib.org/en/latest/notebooks/attenuation/attenuation.html for help)\n",
    "pia = zh.wrl.atten.correct_attenuation_constrained(\n",
    "    constraints=[wradlib.atten.constraint_dbz, wradlib.atten.constraint_pia],\n",
    "    constraint_args=[[64.0], [20.0]],\n",
    ")\n",
    "\n",
    "# Correct reflectivity by PIA\n",
    "zh_corrected = swp_inp.DBZH + pia"
   ]
  },
  {
   "cell_type": "markdown",
   "metadata": {},
   "source": [
    "## Compare results against QC from odc_toolbox"
   ]
  },
  {
   "cell_type": "code",
   "execution_count": null,
   "metadata": {},
   "outputs": [],
   "source": [
    "fig = plt.figure(figsize=(18, 10))\n",
    "\n",
    "ax = plt.subplot(131, projection=map_proj)\n",
    "pm = plot_ppi_to_ax(\n",
    "    swp_inp.DBZH.where(swp_out.DBZH >= -10), ax=ax, reader=reader, title=\"Before QC\"\n",
    ")\n",
    "\n",
    "ax = plt.subplot(132, projection=map_proj)\n",
    "pm = plot_ppi_to_ax(\n",
    "    swp_out.DBZH.where(swp_out.DBZH >= -10),\n",
    "    ax=ax,\n",
    "    reader=reader,\n",
    "    title=\"After QC using BALTRAD Toolbox\",\n",
    ")\n",
    "\n",
    "ax = plt.subplot(133, projection=map_proj)\n",
    "pm = plot_ppi_to_ax(\n",
    "    zh_corrected.where(zh_corrected >= -10),\n",
    "    ax=ax,\n",
    "    reader=reader,\n",
    "    title=\"After QC using wradlib\",\n",
    ")"
   ]
  }
 ],
 "metadata": {
  "kernelspec": {
   "display_name": "Python [conda env:xradar]",
   "language": "python",
   "name": "conda-env-xradar-py"
  },
  "language_info": {
   "codemirror_mode": {
    "name": "ipython",
    "version": 3
   },
   "file_extension": ".py",
   "mimetype": "text/x-python",
   "name": "python",
   "nbconvert_exporter": "python",
   "pygments_lexer": "ipython3",
   "version": "3.10.6"
  }
 },
 "nbformat": 4,
 "nbformat_minor": 4
}
