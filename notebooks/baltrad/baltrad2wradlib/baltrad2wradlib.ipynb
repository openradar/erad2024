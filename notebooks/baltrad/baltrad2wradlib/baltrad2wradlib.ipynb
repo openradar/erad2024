{
 "cells": [
  {
   "cell_type": "markdown",
   "metadata": {},
   "source": [
    "# Interaction of BALTRAD and wradlib via ODIM_H5"
   ]
  },
  {
   "cell_type": "markdown",
   "metadata": {},
   "source": [
    "## Prepare your environment"
   ]
  },
  {
   "cell_type": "code",
   "execution_count": null,
   "metadata": {},
   "outputs": [],
   "source": [
    "%matplotlib inline"
   ]
  },
  {
   "cell_type": "code",
   "execution_count": null,
   "metadata": {},
   "outputs": [],
   "source": [
    "import numpy as np\n",
    "import matplotlib.pyplot as plt\n",
    "from matplotlib.patches import Polygon\n",
    "from matplotlib.collections import PatchCollection\n",
    "import matplotlib.ticker as mticker\n",
    "import wradlib\n",
    "import shapefile\n",
    "import gc\n",
    "import xradar as xd"
   ]
  },
  {
   "cell_type": "markdown",
   "metadata": {},
   "source": [
    "## Run BALTRAD's odc_toolbox"
   ]
  },
  {
   "cell_type": "markdown",
   "metadata": {},
   "source": [
    "First, you will process a scan from Suergavere (Estland) by using BALTRAD's odc_toolbox.\n",
    "\n",
    "From your VM's vagrant directory, navigate to the folder ``/baltrad2wradlib``.\n",
    "\n",
    "Execute the following command:\n",
    "\n",
    "``$ odc_toolbox -i in -o out -q ropo,radvol-att``\n",
    "\n",
    "Check whether a file was created in the folder ``/out``.\n",
    "\n",
    "**BALTRAD will not create output files if these already exist.** You can check that via ``!ls out``."
   ]
  },
  {
   "cell_type": "code",
   "execution_count": null,
   "metadata": {},
   "outputs": [],
   "source": [
    "!odc_toolbox --help"
   ]
  },
  {
   "cell_type": "code",
   "execution_count": null,
   "metadata": {},
   "outputs": [],
   "source": [
    "!odc_toolbox -i in -o out -q ropo,radvol-att"
   ]
  },
  {
   "cell_type": "code",
   "execution_count": null,
   "metadata": {},
   "outputs": [],
   "source": [
    "!ls out"
   ]
  },
  {
   "cell_type": "markdown",
   "metadata": {},
   "source": [
    "## Read and inspect data from Suergavere (Estonia) before and after QC with odc_toolbox"
   ]
  },
  {
   "cell_type": "code",
   "execution_count": null,
   "metadata": {},
   "outputs": [],
   "source": [
    "# Before QC\n",
    "inp = xd.io.open_odim_datatree(\"in/201405190715_SUR.h5\")\n",
    "# After QC\n",
    "out = xd.io.open_odim_datatree(\"out/201405190715_SUR.h5\")"
   ]
  },
  {
   "cell_type": "markdown",
   "metadata": {},
   "source": [
    "## Georeference"
   ]
  },
  {
   "cell_type": "code",
   "execution_count": null,
   "metadata": {},
   "outputs": [],
   "source": [
    "inp = inp.xradar.georeference()\n",
    "out = out.xradar.georeference()"
   ]
  },
  {
   "cell_type": "code",
   "execution_count": null,
   "metadata": {},
   "outputs": [],
   "source": [
    "swp_inp = inp[\"sweep_0\"].ds.set_coords(\"sweep_mode\")\n",
    "swp_out = out[\"sweep_0\"].ds.set_coords(\"sweep_mode\")\n",
    "display(swp_inp)\n",
    "display(swp_out)"
   ]
  },
  {
   "cell_type": "markdown",
   "metadata": {},
   "source": [
    "## Design a plot we will use for all PPIs in this exercise"
   ]
  },
  {
   "cell_type": "code",
   "execution_count": null,
   "metadata": {},
   "outputs": [],
   "source": [
    "import wradlib as wrl\n",
    "import cartopy.crs as ccrs\n",
    "from cartopy.io.shapereader import Reader\n",
    "\n",
    "map_proj = ccrs.AzimuthalEquidistant(central_latitude=swp_inp.latitude.values, central_longitude=swp_inp.longitude.values)\n",
    "osr_proj = wrl.georef.create_osr(\"aeqd\", lat_0=swp_inp.latitude.values, lon_0=swp_inp.longitude.values)\n",
    "\n",
    "def plot_ppi_to_ax(ppi, ax, title=\"\", reader=None, **kwargs):\n",
    "    pm = ppi.wrl.vis.plot(crs=map_proj, ax=ax, **kwargs)\n",
    "    ax.set_title(title)\n",
    "    if reader is not None:\n",
    "        ax.add_geometries(reader.geometries(), ccrs.PlateCarree(), facecolor=\"lightgrey\", edgecolor='k', linewidths=1, zorder=-1)\n",
    "    wrl.vis.plot_ppi_crosshair(site=(ppi.longitude.values, ppi.latitude.values, ppi.altitude.values),\n",
    "                               ranges=[50000, 100000,150000, 200000, ppi.range.max().values], \n",
    "                               angles=[0, 90, 180, 270],\n",
    "                               line=dict(color=\"white\"),\n",
    "                               circle={\"edgecolor\": \"white\"},\n",
    "                               ax=ax,\n",
    "                               crs=osr_proj,\n",
    "                              )\n",
    "    return pm\n"
   ]
  },
  {
   "cell_type": "markdown",
   "metadata": {},
   "source": [
    "## Plot the selected fields into one figure"
   ]
  },
  {
   "cell_type": "code",
   "execution_count": null,
   "metadata": {},
   "outputs": [],
   "source": [
    "fig = plt.figure(figsize=(12,10))\n",
    "\n",
    "ax = plt.subplot(221, projection=map_proj)\n",
    "pm = plot_ppi_to_ax(swp_inp.DBZH.where(swp_inp.DBZH>=-10), ax=ax, reader=reader, title=\"Before QC\", add_colorbar=False, vmin=-10, vmax=65)\n",
    "\n",
    "ax = plt.subplot(222, projection=map_proj)\n",
    "pm = plot_ppi_to_ax(swp_out.DBZH.where(swp_out.DBZH>=-10),  ax=ax, reader=reader, title=\"After QC\", add_colorbar=False, vmin=-10, vmax=65)\n",
    "\n",
    "ax = plt.subplot(223, projection=map_proj)\n",
    "qm = plot_ppi_to_ax(swp_out.quality1,  ax=ax, reader=reader, add_colorbar=False, title=\"Quality 1\")\n",
    "\n",
    "ax = plt.subplot(224, projection=map_proj)\n",
    "qm = plot_ppi_to_ax(swp_out.QIND,  ax=ax, reader=reader, add_colorbar=False, title=\"Quality 2\")\n",
    "\n",
    "plt.tight_layout()\n",
    "\n",
    "# Add colorbars\n",
    "fig.subplots_adjust(right=0.9)\n",
    "cax = fig.add_axes((0.9, 0.6, 0.03, 0.3))\n",
    "cbar = plt.colorbar(pm, cax=cax)\n",
    "cbar.set_label(\"Horizontal reflectivity (dBZ)\", fontsize=\"large\")\n",
    "\n",
    "cax = fig.add_axes((0.9, 0.1, 0.03, 0.3))\n",
    "cbar = plt.colorbar(qm, cax=cax)\n",
    "cbar.set_label(\"Quality index\", fontsize=\"large\")"
   ]
  },
  {
   "cell_type": "markdown",
   "metadata": {},
   "source": [
    "## Collect and plot the polarimetric moments from the original ODIM_H5 dataset"
   ]
  },
  {
   "cell_type": "code",
   "execution_count": null,
   "metadata": {},
   "outputs": [],
   "source": [
    "fig = plt.figure(figsize=(12,12))\n",
    "\n",
    "ax = plt.subplot(221, projection=map_proj)\n",
    "pm = plot_ppi_to_ax(swp_inp.RHOHV, ax=ax, title=\"RhoHV\", reader=reader)\n",
    "\n",
    "ax = plt.subplot(222, projection=map_proj)\n",
    "pm = plot_ppi_to_ax(swp_inp.PHIDP, ax=ax, title=\"PhiDP\", reader=reader)\n",
    "\n",
    "ax = plt.subplot(223, projection=map_proj)\n",
    "pm = plot_ppi_to_ax(swp_inp.ZDR, ax=ax, title=\"Differential reflectivity\", reader=reader)\n",
    "\n",
    "ax = plt.subplot(224, projection=map_proj)\n",
    "pm = plot_ppi_to_ax(swp_inp.VRAD, ax=ax, title=\"Doppler velocity\", reader=reader)\n",
    "\n",
    "plt.tight_layout()"
   ]
  },
  {
   "cell_type": "markdown",
   "metadata": {},
   "source": [
    "## Try some filtering and attenuation correction"
   ]
  },
  {
   "cell_type": "code",
   "execution_count": null,
   "metadata": {},
   "outputs": [],
   "source": [
    "# Set ZH to a very low value where we do not expect valid data\n",
    "zh = swp_inp.DBZH.fillna(-32.)\n",
    "# Retrieve PIA by using some constraints (see https://docs.wradlib.org/en/latest/notebooks/attenuation/attenuation.html for help)\n",
    "pia = zh.wrl.atten.correct_attenuation_constrained(\n",
    "    constraints=[wradlib.atten.constraint_dbz,\n",
    "                 wradlib.atten.constraint_pia],\n",
    "    constraint_args=[[64.0],\n",
    "                     [20.0]])\n",
    "\n",
    "# Correct reflectivity by PIA\n",
    "zh_corrected = swp_inp.DBZH + pia"
   ]
  },
  {
   "cell_type": "markdown",
   "metadata": {},
   "source": [
    "## Compare results against QC from odc_toolbox"
   ]
  },
  {
   "cell_type": "code",
   "execution_count": null,
   "metadata": {},
   "outputs": [],
   "source": [
    "fig = plt.figure(figsize=(18,10))\n",
    "\n",
    "ax = plt.subplot(131, projection=map_proj)\n",
    "pm = plot_ppi_to_ax(swp_inp.DBZH.where(swp_out.DBZH>=-10), ax=ax, reader=reader, title=\"Before QC\")\n",
    "\n",
    "ax = plt.subplot(132, projection=map_proj)\n",
    "pm = plot_ppi_to_ax(swp_out.DBZH.where(swp_out.DBZH>=-10),  ax=ax, reader=reader, title=\"After QC using BALTRAD Toolbox\")\n",
    "\n",
    "ax = plt.subplot(133, projection=map_proj)\n",
    "pm = plot_ppi_to_ax(zh_corrected.where(zh_corrected>=-10), ax=ax, reader=reader, title=\"After QC using wradlib\")"
   ]
  }
 ],
 "metadata": {
  "kernelspec": {
   "display_name": "Python [conda env:xr_312_np2]",
   "language": "python",
   "name": "conda-env-xr_312_np2-py"
  },
  "language_info": {
   "codemirror_mode": {
    "name": "ipython",
    "version": 3
   },
   "file_extension": ".py",
   "mimetype": "text/x-python",
   "name": "python",
   "nbconvert_exporter": "python",
   "pygments_lexer": "ipython3",
   "version": "3.12.4"
  }
 },
 "nbformat": 4,
 "nbformat_minor": 4
}
