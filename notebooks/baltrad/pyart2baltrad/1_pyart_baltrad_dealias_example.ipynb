{
 "cells": [
  {
   "cell_type": "markdown",
   "id": "0",
   "metadata": {},
   "source": [
    "# Doppler Velocity Dealiasing with Py-ART"
   ]
  },
  {
   "cell_type": "markdown",
   "id": "1",
   "metadata": {},
   "source": [
    "In this notebook Doppler Velocity data from the ARM C-band SAPR radar is read using Py-ART and dealiased using BALTRAD."
   ]
  },
  {
   "cell_type": "markdown",
   "id": "2",
   "metadata": {},
   "source": [
    "## retrieve data from s3 bucket"
   ]
  },
  {
   "cell_type": "code",
   "execution_count": null,
   "id": "3",
   "metadata": {},
   "outputs": [],
   "source": [
    "import os\n",
    "import urllib.request\n",
    "from pathlib import Path\n",
    "\n",
    "# Set the URL for the cloud\n",
    "URL = \"https://js2.jetstream-cloud.org:8001/\"\n",
    "path = \"pythia/radar/erad2024/baltrad/pyart2baltrad\"\n",
    "!mkdir -p data\n",
    "files = [\"sgpcsaprppi_20110520095101.nc\"]\n",
    "for file in files:\n",
    "    file0 = os.path.join(path, file)\n",
    "    name = os.path.join(\"data\", Path(file).name)\n",
    "    if not os.path.exists(name):\n",
    "        print(f\"downloading, {name}\")\n",
    "        urllib.request.urlretrieve(f\"{URL}{file0}\", name)"
   ]
  },
  {
   "cell_type": "code",
   "execution_count": null,
   "id": "4",
   "metadata": {
    "jupyter": {
     "outputs_hidden": false
    }
   },
   "outputs": [],
   "source": [
    "%matplotlib inline"
   ]
  },
  {
   "cell_type": "markdown",
   "id": "5",
   "metadata": {},
   "source": [
    "Import the necessary modules"
   ]
  },
  {
   "cell_type": "code",
   "execution_count": null,
   "id": "6",
   "metadata": {
    "jupyter": {
     "outputs_hidden": false
    }
   },
   "outputs": [],
   "source": [
    "import pyart\n",
    "import baltrad_pyart_bridge as bridge  # routines to pass data from Py-ART to BALTRAD\n",
    "import _dealias  # BALTRAD's dealiasing module"
   ]
  },
  {
   "cell_type": "markdown",
   "id": "7",
   "metadata": {},
   "source": [
    "Read in the data using Py-ART"
   ]
  },
  {
   "cell_type": "code",
   "execution_count": null,
   "id": "8",
   "metadata": {
    "jupyter": {
     "outputs_hidden": false
    }
   },
   "outputs": [],
   "source": [
    "radar = pyart.io.read(\"data/sgpcsaprppi_20110520095101.nc\")"
   ]
  },
  {
   "cell_type": "markdown",
   "id": "9",
   "metadata": {},
   "source": [
    "Examine the velocity data using Py-ART Display object."
   ]
  },
  {
   "cell_type": "code",
   "execution_count": null,
   "id": "10",
   "metadata": {
    "jupyter": {
     "outputs_hidden": false
    }
   },
   "outputs": [],
   "source": [
    "display = pyart.graph.RadarDisplay(radar)\n",
    "nyquist_velocity = radar.instrument_parameters[\"nyquist_velocity\"][\"data\"][0]\n",
    "display.plot_ppi(\n",
    "    \"velocity\", 1, colorbar_label=\"m/s\", vmin=-nyquist_velocity, vmax=nyquist_velocity\n",
    ")"
   ]
  },
  {
   "cell_type": "markdown",
   "id": "11",
   "metadata": {},
   "source": [
    "Convert the radar data into a RaveIO object with the velocity data having the correct name."
   ]
  },
  {
   "cell_type": "code",
   "execution_count": null,
   "id": "12",
   "metadata": {
    "jupyter": {
     "outputs_hidden": false
    }
   },
   "outputs": [],
   "source": [
    "vel_data = radar.fields[\"velocity\"][\"data\"]\n",
    "radar.add_field_like(\"velocity\", \"VRAD\", vel_data)\n",
    "rio = bridge.radar2raveio(radar)"
   ]
  },
  {
   "cell_type": "markdown",
   "id": "13",
   "metadata": {},
   "source": [
    "Perform Doppler velocity dealiasing using BALTRAD."
   ]
  },
  {
   "cell_type": "code",
   "execution_count": null,
   "id": "14",
   "metadata": {
    "jupyter": {
     "outputs_hidden": false
    }
   },
   "outputs": [],
   "source": [
    "ret = _dealias.dealias(rio.object)\n",
    "print(\"This first scan is dealiased:\"), _dealias.dealiased(rio.object.getScan(0))"
   ]
  },
  {
   "cell_type": "markdown",
   "id": "15",
   "metadata": {},
   "source": [
    "Add the dealiased velocity field to the origin Py-ART radar object."
   ]
  },
  {
   "cell_type": "code",
   "execution_count": null,
   "id": "16",
   "metadata": {
    "jupyter": {
     "outputs_hidden": false
    }
   },
   "outputs": [],
   "source": [
    "temp = bridge.raveio2radar(rio)\n",
    "if \"dealiased_velocity\" in radar.fields:\n",
    "    radar.fields.pop(\"dealiased_velocity\")\n",
    "radar.add_field_like(\"velocity\", \"dealiased_velocity\", temp.fields[\"VRAD\"][\"data\"])"
   ]
  },
  {
   "cell_type": "markdown",
   "id": "17",
   "metadata": {},
   "source": [
    "Plot the dealiased velocities."
   ]
  },
  {
   "cell_type": "code",
   "execution_count": null,
   "id": "18",
   "metadata": {
    "jupyter": {
     "outputs_hidden": false
    }
   },
   "outputs": [],
   "source": [
    "display.plot_ppi(\n",
    "    \"dealiased_velocity\",\n",
    "    1,\n",
    "    colorbar_label=\"m/s\",\n",
    "    vmin=-2 * nyquist_velocity,\n",
    "    vmax=2 * nyquist_velocity,\n",
    ")"
   ]
  }
 ],
 "metadata": {
  "language_info": {
   "codemirror_mode": {
    "name": "ipython",
    "version": 3
   },
   "file_extension": ".py",
   "mimetype": "text/x-python",
   "name": "python",
   "nbconvert_exporter": "python",
   "pygments_lexer": "ipython3",
   "version": "3.11.0"
  }
 },
 "nbformat": 4,
 "nbformat_minor": 5
}
