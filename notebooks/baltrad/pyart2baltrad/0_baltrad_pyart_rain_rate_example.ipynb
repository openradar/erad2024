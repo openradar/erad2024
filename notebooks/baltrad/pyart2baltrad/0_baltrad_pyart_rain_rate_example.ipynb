{
 "cells": [
  {
   "cell_type": "markdown",
   "metadata": {},
   "source": [
    "# Rain Rate retrieval with Py-ART\n",
    "\n",
    "In this notebook, an ODIM_H5 file is read using BALTRAD. Then the rain rate is determined from the calculated specific attenuation using Py-ART.\n",
    "This is a severe flooding case from July 8, 2013 in Toronto, Canada, with radar data from the King City, Ontario, radar."
   ]
  },
  {
   "cell_type": "markdown",
   "metadata": {},
   "source": [
    "## retrieve data from s3 bucket"
   ]
  },
  {
   "cell_type": "code",
   "execution_count": null,
   "metadata": {},
   "outputs": [],
   "source": [
    "import os\n",
    "import urllib.request\n",
    "from pathlib import Path\n",
    "\n",
    "# Set the URL for the cloud\n",
    "URL = \"https://js2.jetstream-cloud.org:8001/\"\n",
    "path = \"pythia/radar/erad2024/baltrad/pyart2baltrad\"\n",
    "!mkdir -p data\n",
    "files = [\"WKR_201307082030.h5\"]\n",
    "for file in files:\n",
    "    file0 = os.path.join(path, file)\n",
    "    name = os.path.join(\"data\", Path(file).name)\n",
    "    if not os.path.exists(name):\n",
    "        print(f\"downloading, {name}\")\n",
    "        urllib.request.urlretrieve(f\"{URL}{file0}\", name)"
   ]
  },
  {
   "cell_type": "code",
   "execution_count": null,
   "metadata": {},
   "outputs": [],
   "source": [
    "%matplotlib inline"
   ]
  },
  {
   "cell_type": "markdown",
   "metadata": {},
   "source": [
    "Import the necessary modules."
   ]
  },
  {
   "cell_type": "code",
   "execution_count": null,
   "metadata": {},
   "outputs": [],
   "source": [
    "import numpy as np\n",
    "import pyart\n",
    "import baltrad_pyart_bridge as bridge  # routines to pass data from Py-ART and BALTRAD\n",
    "import _raveio  # BALTRAD's input/output module\n",
    "import cmweather"
   ]
  },
  {
   "cell_type": "markdown",
   "metadata": {},
   "source": [
    "Read in the data using RAVE (a component of BALTRAD)"
   ]
  },
  {
   "cell_type": "markdown",
   "metadata": {},
   "source": [
    "# Rain rate retrieval using specific attenuation using BALTRAD and Py-ART"
   ]
  },
  {
   "cell_type": "code",
   "execution_count": null,
   "metadata": {},
   "outputs": [],
   "source": [
    "rio = _raveio.open(\"data/WKR_201307082030.h5\")"
   ]
  },
  {
   "cell_type": "markdown",
   "metadata": {},
   "source": [
    "Convert the data to a Py-ART Radar object."
   ]
  },
  {
   "cell_type": "code",
   "execution_count": null,
   "metadata": {},
   "outputs": [],
   "source": [
    "radar = bridge.raveio2radar(rio)"
   ]
  },
  {
   "cell_type": "markdown",
   "metadata": {},
   "source": [
    "Examine some of the radar moments."
   ]
  },
  {
   "cell_type": "code",
   "execution_count": null,
   "metadata": {},
   "outputs": [],
   "source": [
    "display = pyart.graph.RadarDisplay(radar)"
   ]
  },
  {
   "cell_type": "code",
   "execution_count": null,
   "metadata": {},
   "outputs": [],
   "source": [
    "display.plot_ppi(\"DBZH\", 0, vmin=-15, vmax=60)\n",
    "display.plot_range_rings([50, 100, 150])"
   ]
  },
  {
   "cell_type": "code",
   "execution_count": null,
   "metadata": {},
   "outputs": [],
   "source": [
    "display.plot_ppi(\"PHIDP\", 0, vmin=0, vmax=180, cmap=\"ChaseSpectral\")\n",
    "display.plot_range_rings([50, 100, 150])"
   ]
  },
  {
   "cell_type": "code",
   "execution_count": null,
   "metadata": {},
   "outputs": [],
   "source": [
    "display.plot_ppi(\"RHOHV\", 0, vmin=0, vmax=1.0, mask_outside=False, cmap=\"CM_rhohv\")\n",
    "display.plot_range_rings([50, 100, 150])"
   ]
  },
  {
   "cell_type": "code",
   "execution_count": null,
   "metadata": {},
   "outputs": [],
   "source": [
    "display.plot_ppi(\"SQIH\", 0, vmin=0, vmax=1, mask_outside=False, cmap=\"ChaseSpectral\")\n",
    "display.plot_range_rings([50, 100, 150])"
   ]
  },
  {
   "cell_type": "markdown",
   "metadata": {},
   "source": [
    "Calculate the specific attenuation and attenuation corrected reflectivity using Py-ART, add these field to the radar object."
   ]
  },
  {
   "cell_type": "code",
   "execution_count": null,
   "metadata": {},
   "outputs": [],
   "source": [
    "radar.info()"
   ]
  },
  {
   "cell_type": "code",
   "execution_count": null,
   "metadata": {},
   "outputs": [],
   "source": [
    "spec_at, cor_z = pyart.correct.calculate_attenuation(\n",
    "    radar,\n",
    "    0,\n",
    "    doc=0,\n",
    "    refl_field=\"DBZH\",\n",
    "    ncp_field=\"SQIH\",\n",
    "    rhv_field=\"RHOHV\",\n",
    "    phidp_field=\"PHIDP\",\n",
    "    fzl=8000,\n",
    ")\n",
    "# use the parameter below for a more 'cleanup up' attenuation field\n",
    "# ncp_min=-1, rhv_min=-1)"
   ]
  },
  {
   "cell_type": "code",
   "execution_count": null,
   "metadata": {},
   "outputs": [],
   "source": [
    "radar.info()"
   ]
  },
  {
   "cell_type": "code",
   "execution_count": null,
   "metadata": {},
   "outputs": [],
   "source": [
    "radar.add_field(\"specific_attenuation\", spec_at)\n",
    "radar.add_field(\"corrected_reflectivity\", cor_z)"
   ]
  },
  {
   "cell_type": "markdown",
   "metadata": {},
   "source": [
    "Examine these two new fields."
   ]
  },
  {
   "cell_type": "code",
   "execution_count": null,
   "metadata": {},
   "outputs": [],
   "source": [
    "display.plot_ppi(\"specific_attenuation\", 0, vmin=0, vmax=0.1)\n",
    "display.plot_range_rings([50, 100, 150])"
   ]
  },
  {
   "cell_type": "code",
   "execution_count": null,
   "metadata": {},
   "outputs": [],
   "source": [
    "display.plot_ppi(\"corrected_reflectivity\", 0, vmin=-15, vmax=60)\n",
    "display.plot_range_rings([50, 100, 150])"
   ]
  },
  {
   "cell_type": "markdown",
   "metadata": {},
   "source": [
    "Calculate the rain rate from the specific attenuation using a power law determined from the ARM Southern Great Plains site.  Mask values where the attenuation is not valid (when the cross correlation ratio or signal quality is low). Add this field to the radar object."
   ]
  },
  {
   "cell_type": "code",
   "execution_count": null,
   "metadata": {},
   "outputs": [],
   "source": [
    "R = 300.0 * (radar.fields[\"specific_attenuation\"][\"data\"]) ** 0.89\n",
    "rain_rate_dic = pyart.config.get_metadata(\"rain_rate\")\n",
    "rain_rate_dic[\"units\"] = \"mm/hr\"\n",
    "rate_not_valid = np.logical_or(\n",
    "    (radar.fields[\"SQIH\"][\"data\"] < 0.4), (radar.fields[\"RHOHV\"][\"data\"] < 0.8)\n",
    ")\n",
    "rain_rate_dic[\"data\"] = np.ma.masked_where(rate_not_valid, R)\n",
    "# fill the missing values with 0 for a nicer plot\n",
    "rain_rate_dic[\"data\"] = np.ma.filled(rain_rate_dic[\"data\"], 0)"
   ]
  },
  {
   "cell_type": "code",
   "execution_count": null,
   "metadata": {},
   "outputs": [],
   "source": [
    "radar.add_field(\"RATE\", rain_rate_dic)"
   ]
  },
  {
   "cell_type": "markdown",
   "metadata": {},
   "source": [
    "Examine the rain rate"
   ]
  },
  {
   "cell_type": "code",
   "execution_count": null,
   "metadata": {},
   "outputs": [],
   "source": [
    "display.plot_ppi(\"RATE\", 0, vmin=0, vmax=50.0)"
   ]
  },
  {
   "cell_type": "markdown",
   "metadata": {},
   "source": [
    "Create a new RaveIO object from the Py-ART radar object and write this out using Rave"
   ]
  },
  {
   "cell_type": "code",
   "execution_count": null,
   "metadata": {},
   "outputs": [],
   "source": [
    "rio_out = bridge.radar2raveio(radar)"
   ]
  },
  {
   "cell_type": "code",
   "execution_count": null,
   "metadata": {},
   "outputs": [],
   "source": [
    "container = _raveio.new()\n",
    "container.object = rio_out.object\n",
    "container.save(\"data/WKR_201307082030_with_rain_rate.h5\")\n",
    "\n",
    "import os\n",
    "\n",
    "print(\n",
    "    \"ODIM_H5 file is %i bytes large\"\n",
    "    % os.path.getsize(\"data/WKR_201307082030_with_rain_rate.h5\")\n",
    ")"
   ]
  }
 ],
 "metadata": {
  "language_info": {
   "codemirror_mode": {
    "name": "ipython",
    "version": 3
   },
   "file_extension": ".py",
   "mimetype": "text/x-python",
   "name": "python",
   "nbconvert_exporter": "python",
   "pygments_lexer": "ipython3",
   "version": "3.11.0"
  }
 },
 "nbformat": 4,
 "nbformat_minor": 4
}
