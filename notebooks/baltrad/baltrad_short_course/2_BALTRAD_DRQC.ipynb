{
 "cells": [
  {
   "cell_type": "markdown",
   "metadata": {},
   "source": [
    "# Quality Control using DR\n",
    "\n",
    "- In this notebook, we will use the depolarization ratio to quality control a volume of data from the new radar at Radisson, Saskatchewan\n",
    "- We will also visualize the data using some openly-available colour tables.\n",
    "- This notebook was originally prepared using material subsequently published in https://doi.org/10.1002/met.1929"
   ]
  },
  {
   "cell_type": "markdown",
   "metadata": {},
   "source": [
    "## retrieve data from s3 bucket"
   ]
  },
  {
   "cell_type": "code",
   "execution_count": null,
   "metadata": {},
   "outputs": [],
   "source": [
    "import os\n",
    "import urllib.request\n",
    "from pathlib import Path\n",
    "\n",
    "# Set the URL for the cloud\n",
    "URL = \"https://js2.jetstream-cloud.org:8001/\"\n",
    "path = \"pythia/radar/erad2024/baltrad/baltrad_short_course/\"\n",
    "!mkdir -p data\n",
    "files = [\n",
    "    \"2019051509_00_ODIMH5_PVOL6S_VOL_casra.16.h5\",\n",
    "    \"hawaii.txt\",\n",
    "    \"moleron.txt\",\n",
    "    \"oleron.txt\",\n",
    "    \"mroma.txt\",\n",
    "    \"vik.txt\",\n",
    "]\n",
    "for file in files:\n",
    "    file0 = os.path.join(path, file)\n",
    "    name = os.path.join(\"data\", Path(file).name)\n",
    "    if not os.path.exists(name):\n",
    "        print(f\"downloading, {name}\")\n",
    "        urllib.request.urlretrieve(f\"{URL}{file0}\", name)"
   ]
  },
  {
   "cell_type": "code",
   "execution_count": null,
   "metadata": {},
   "outputs": [],
   "source": [
    "import _raveio\n",
    "import ropo_realtime, ec_drqc\n",
    "import matplotlib\n",
    "import matplotlib.pyplot as plt\n",
    "import numpy as np\n",
    "import GmapColorMap"
   ]
  },
  {
   "cell_type": "markdown",
   "metadata": {},
   "source": [
    "### Block of look-ups for display"
   ]
  },
  {
   "cell_type": "code",
   "execution_count": null,
   "metadata": {},
   "outputs": [],
   "source": [
    "PALETTE = {}  # To be populated\n",
    "\n",
    "UNDETECT = {\n",
    "    \"TH\": GmapColorMap.PUREWHITE,\n",
    "    \"DBZH\": GmapColorMap.PUREWHITE,\n",
    "    \"DR\": GmapColorMap.PUREWHITE,\n",
    "    \"VRADH\": GmapColorMap.GREY5,\n",
    "    \"RHOHV\": GmapColorMap.PUREWHITE,\n",
    "    \"ZDR\": GmapColorMap.PUREWHITE,\n",
    "}\n",
    "\n",
    "NODATA = {\n",
    "    \"TH\": GmapColorMap.WEBSAFEGREY,\n",
    "    \"DBZH\": GmapColorMap.WEBSAFEGREY,\n",
    "    \"DR\": GmapColorMap.WEBSAFEGREY,\n",
    "    \"VRADH\": GmapColorMap.GREY8,\n",
    "    \"RHOHV\": GmapColorMap.WEBSAFEGREY,\n",
    "    \"ZDR\": GmapColorMap.WEBSAFEGREY,\n",
    "}\n",
    "\n",
    "LEGEND = {\n",
    "    \"TH\": \"Radar reflectivity factor (dBZ)\",\n",
    "    \"DBZH\": \"Radar reflectivity factor (dBZ)\",\n",
    "    \"DR\": \"Depolarization ratio (dB)\",\n",
    "    \"VRADH\": \"Radial wind velocity away from radar (m/s)\",\n",
    "    \"RHOHV\": \"Cross-polar correlation coefficient\",\n",
    "    \"ZDR\": \"Differential reflectivity (dB)\",\n",
    "}\n",
    "\n",
    "TICKS = {\n",
    "    \"TH\": range(-30, 80, 10),\n",
    "    \"DBZH\": range(-30, 80, 10),\n",
    "    \"ZDR\": range(-8, 9, 2),\n",
    "    \"RHOHV\": np.arange(0, 11, 1) / 10.0,\n",
    "    \"VRADH\": range(-48, 56, 8),\n",
    "    \"DR\": range(-36, 3, 3),\n",
    "}"
   ]
  },
  {
   "cell_type": "markdown",
   "metadata": {},
   "source": [
    "### Colormap loader and loads"
   ]
  },
  {
   "cell_type": "code",
   "execution_count": null,
   "metadata": {},
   "outputs": [],
   "source": [
    "def loadPal(fstr, reverse=True):\n",
    "    fd = open(fstr)\n",
    "    LINES = fd.readlines()\n",
    "    fd.close()\n",
    "    pal = []\n",
    "    for line in LINES:\n",
    "        s = line.split()\n",
    "        if reverse:\n",
    "            s.reverse()\n",
    "        for val in s:\n",
    "            pal.append(int(float(val) * 255))\n",
    "    if reverse:\n",
    "        pal.reverse()\n",
    "    return pal\n",
    "\n",
    "\n",
    "# Colour maps by Fabio Crameri, http://www.fabiocrameri.ch/colourmaps.php, a couple of them modified\n",
    "# Todo: maybe use new cmweather colormaps\n",
    "PALETTE[\"DBZH\"] = loadPal(\"data/hawaii.txt\")\n",
    "PALETTE[\"DR\"] = loadPal(\"data/moleron.txt\", False)  # Modified oleron\n",
    "PALETTE[\"ZDR\"] = loadPal(\"data/oleron.txt\", False)\n",
    "PALETTE[\"RHOHV\"] = loadPal(\"data/mroma.txt\")  # Modified roma\n",
    "PALETTE[\"VRADH\"] = loadPal(\"data/vik.txt\", False)"
   ]
  },
  {
   "cell_type": "markdown",
   "metadata": {},
   "source": [
    "### Set up the display"
   ]
  },
  {
   "cell_type": "code",
   "execution_count": null,
   "metadata": {},
   "outputs": [],
   "source": [
    "def plot(obj):\n",
    "    fig = plt.figure()\n",
    "    default_size = fig.get_size_inches()\n",
    "    fig.set_size_inches((default_size[0] * 2, default_size[1] * 2))\n",
    "\n",
    "    paramname = obj.getParameterNames()[0]\n",
    "    pal = PALETTE[paramname]\n",
    "    pal[0], pal[1], pal[2] = UNDETECT[\n",
    "        paramname\n",
    "    ]  # Special value - areas radiated but void of echo\n",
    "    pal[767], pal[766], pal[765] = NODATA[paramname]  # Special value - areas unradiated\n",
    "    if paramname == \"VRADH\":\n",
    "        pal[379], pal[380], pal[381] = GmapColorMap.PUREWHITE  # VRADH isodop\n",
    "        pal[382], pal[383], pal[384] = GmapColorMap.PUREWHITE  # VRADH isodop\n",
    "        pal[385], pal[386], pal[387] = GmapColorMap.PUREWHITE  # VRADH isodop\n",
    "    colorlist = []\n",
    "    for i in range(0, len(pal), 3):\n",
    "        colorlist.append([pal[i] / 255.0, pal[i + 1] / 255.0, pal[i + 2] / 255.0])\n",
    "\n",
    "    param = obj.getParameter(paramname)\n",
    "    data = param.getData()\n",
    "    data = data * param.gain + param.offset\n",
    "\n",
    "    im = plt.imshow(data, cmap=matplotlib.colors.ListedColormap(colorlist))\n",
    "    cax = plt.gca()\n",
    "    cax.axes.get_xaxis().set_visible(False)\n",
    "    cax.axes.get_yaxis().set_visible(False)\n",
    "\n",
    "    cb = plt.colorbar(ticks=TICKS[paramname])\n",
    "    cb.set_label(LEGEND[paramname])\n",
    "\n",
    "    plt.show()"
   ]
  },
  {
   "cell_type": "markdown",
   "metadata": {},
   "source": [
    "## Do the science\n",
    "### Read the polar volume, QC the reflectivity using legacy ROPO, and then save the QC:ed result"
   ]
  },
  {
   "cell_type": "code",
   "execution_count": null,
   "metadata": {},
   "outputs": [],
   "source": [
    "rio = _raveio.open(\"data/2019051509_00_ODIMH5_PVOL6S_VOL_casra.16.h5\")\n",
    "rio.object = ropo_realtime.generate(rio.object)\n",
    "rio.save(\"data/2019051509_00_ODIMH5_PVOL6S_VOL_casra.ropo.h5\")"
   ]
  },
  {
   "cell_type": "markdown",
   "metadata": {},
   "source": [
    "### Re-read the polar volume, QC it using depolarization ratio, and then save the QC:ed result"
   ]
  },
  {
   "cell_type": "code",
   "execution_count": null,
   "metadata": {},
   "outputs": [],
   "source": [
    "rio = _raveio.open(\"data/2019051509_00_ODIMH5_PVOL6S_VOL_casra.16.h5\")\n",
    "pvol = rio.object\n",
    "ec_drqc.drQC(pvol)\n",
    "rio.object = pvol\n",
    "rio.save(\"data/2019051509_00_ODIMH5_PVOL6S_VOL_casra.drqc.h5\")"
   ]
  },
  {
   "cell_type": "markdown",
   "metadata": {},
   "source": [
    "### Create, read and display CAPPIs, starting with Doppler-corrected reflectivity"
   ]
  },
  {
   "cell_type": "code",
   "execution_count": null,
   "metadata": {},
   "outputs": [],
   "source": [
    "!radarcomp -i \"data/2019051509_00_ODIMH5_PVOL6S_VOL_casra.16.h5\" -o data/cappi_DBZH.h5 -s 1000 -T -M"
   ]
  },
  {
   "cell_type": "code",
   "execution_count": null,
   "metadata": {},
   "outputs": [],
   "source": [
    "cappi = _raveio.open(\"data/cappi_DBZH.h5\").object\n",
    "plot(cappi)"
   ]
  },
  {
   "cell_type": "markdown",
   "metadata": {},
   "source": [
    "### Differential reflectivity"
   ]
  },
  {
   "cell_type": "code",
   "execution_count": null,
   "metadata": {},
   "outputs": [],
   "source": [
    "!radarcomp -i \"data/2019051509_00_ODIMH5_PVOL6S_VOL_casra.16.h5\" -o data/cappi_ZDR.h5 -s 1000.0 -T -M -q ZDR -g 0.0629921 -O -8.0"
   ]
  },
  {
   "cell_type": "code",
   "execution_count": null,
   "metadata": {},
   "outputs": [],
   "source": [
    "cappi = _raveio.open(\"data/cappi_ZDR.h5\").object\n",
    "plot(cappi)"
   ]
  },
  {
   "cell_type": "markdown",
   "metadata": {},
   "source": [
    "### Cross-polar correlation coefficient"
   ]
  },
  {
   "cell_type": "code",
   "execution_count": null,
   "metadata": {},
   "outputs": [],
   "source": [
    "!radarcomp -i \"data/2019051509_00_ODIMH5_PVOL6S_VOL_casra.16.h5\" -o data/cappi_RHOHV.h5 -s 1000.0 -T -M -q RHOHV -g 0.00393701 -O 0.0"
   ]
  },
  {
   "cell_type": "code",
   "execution_count": null,
   "metadata": {},
   "outputs": [],
   "source": [
    "cappi = _raveio.open(\"data/cappi_RHOHV.h5\").object\n",
    "plot(cappi)"
   ]
  },
  {
   "cell_type": "markdown",
   "metadata": {},
   "source": [
    "### Radial wind velocity, lowest PPI"
   ]
  },
  {
   "cell_type": "code",
   "execution_count": null,
   "metadata": {},
   "outputs": [],
   "source": [
    "!radarcomp -i \"data/2019051509_00_ODIMH5_PVOL6S_VOL_casra.16.h5\" -o data/ppi_VRADH.h5 -s 1000.0 -T -M -q VRADH -g 0.37716537714004517 -O -48. -p PPI -P 0.4"
   ]
  },
  {
   "cell_type": "code",
   "execution_count": null,
   "metadata": {},
   "outputs": [],
   "source": [
    "ppi = _raveio.open(\"data/ppi_VRADH.h5\").object\n",
    "plot(ppi)"
   ]
  },
  {
   "cell_type": "markdown",
   "metadata": {},
   "source": [
    "### Depolarization ratio"
   ]
  },
  {
   "cell_type": "code",
   "execution_count": null,
   "metadata": {},
   "outputs": [],
   "source": [
    "!radarcomp -i \"data/2019051509_00_ODIMH5_PVOL6S_VOL_casra.drqc.h5\" -o data/cappi_DR.h5 -s 1000 -T -M -q DR -g 0.129951 -O -33.1376"
   ]
  },
  {
   "cell_type": "code",
   "execution_count": null,
   "metadata": {},
   "outputs": [],
   "source": [
    "cappi = _raveio.open(\"data/cappi_DR.h5\").object\n",
    "plot(cappi)"
   ]
  },
  {
   "cell_type": "markdown",
   "metadata": {},
   "source": [
    "### ROPO:ed reflectivity"
   ]
  },
  {
   "cell_type": "code",
   "execution_count": null,
   "metadata": {},
   "outputs": [],
   "source": [
    "!radarcomp -i \"data/2019051509_00_ODIMH5_PVOL6S_VOL_casra.ropo.h5\" -o data/cappi_DBZH_ropo.h5 -s 1000 -T -M"
   ]
  },
  {
   "cell_type": "code",
   "execution_count": null,
   "metadata": {},
   "outputs": [],
   "source": [
    "cappi = _raveio.open(\"data/cappi_DBZH_ropo.h5\").object\n",
    "plot(cappi)"
   ]
  },
  {
   "cell_type": "markdown",
   "metadata": {},
   "source": [
    "### DRQC:ed reflectivity"
   ]
  },
  {
   "cell_type": "code",
   "execution_count": null,
   "metadata": {},
   "outputs": [],
   "source": [
    "!radarcomp -i \"data/2019051509_00_ODIMH5_PVOL6S_VOL_casra.drqc.h5\" -o data/cappi_DBZH_drqc.h5 -s 1000 -T -M"
   ]
  },
  {
   "cell_type": "code",
   "execution_count": null,
   "metadata": {},
   "outputs": [],
   "source": [
    "cappi = _raveio.open(\"data/cappi_DBZH_drqc.h5\").object\n",
    "plot(cappi)"
   ]
  }
 ],
 "metadata": {
  "language_info": {
   "codemirror_mode": {
    "name": "ipython",
    "version": 3
   },
   "file_extension": ".py",
   "mimetype": "text/x-python",
   "name": "python",
   "nbconvert_exporter": "python",
   "pygments_lexer": "ipython3",
   "version": "3.11.0"
  }
 },
 "nbformat": 4,
 "nbformat_minor": 4
}
