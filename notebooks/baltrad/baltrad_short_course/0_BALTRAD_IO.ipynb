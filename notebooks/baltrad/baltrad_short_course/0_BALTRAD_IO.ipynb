{
 "cells": [
  {
   "cell_type": "markdown",
   "metadata": {},
   "source": [
    "# I/O model\n",
    "\n",
    "making sense out of data and metadata"
   ]
  },
  {
   "cell_type": "markdown",
   "metadata": {},
   "source": [
    "## retrieve data from s3 bucket"
   ]
  },
  {
   "cell_type": "code",
   "execution_count": null,
   "metadata": {},
   "outputs": [],
   "source": [
    "import os\n",
    "import urllib.request\n",
    "from pathlib import Path\n",
    "\n",
    "# Set the URL for the cloud\n",
    "URL = \"https://js2.jetstream-cloud.org:8001/\"\n",
    "!mkdir -p data\n",
    "files = [\n",
    "    \"pythia/radar/erad2024/baltrad/baltrad_short_course/201405190715_SUR.h5\",\n",
    "]\n",
    "for file in files:\n",
    "    name = os.path.join(\"data\", Path(file).name)\n",
    "    if not os.path.exists(name):\n",
    "        print(f\"downloading, {name}\")\n",
    "        urllib.request.urlretrieve(f\"{URL}{file}\", name)"
   ]
  },
  {
   "cell_type": "markdown",
   "metadata": {},
   "source": [
    "## Import the file I/O module along with the main RAVE module containing useful constants"
   ]
  },
  {
   "cell_type": "code",
   "execution_count": null,
   "metadata": {},
   "outputs": [],
   "source": [
    "%matplotlib inline\n",
    "import _raveio, _rave"
   ]
  },
  {
   "cell_type": "markdown",
   "metadata": {},
   "source": [
    "## Read an input ODIM_H5 file"
   ]
  },
  {
   "cell_type": "code",
   "execution_count": null,
   "metadata": {},
   "outputs": [],
   "source": [
    "rio = _raveio.open(\"data/201405190715_SUR.h5\")"
   ]
  },
  {
   "cell_type": "markdown",
   "metadata": {},
   "source": [
    "## What is the payload in the I/O container?"
   ]
  },
  {
   "cell_type": "code",
   "execution_count": null,
   "metadata": {},
   "outputs": [],
   "source": [
    "rio.objectType is _rave.Rave_ObjectType_PVOL"
   ]
  },
  {
   "cell_type": "markdown",
   "metadata": {},
   "source": [
    "## How many scans does this volume contain?"
   ]
  },
  {
   "cell_type": "code",
   "execution_count": null,
   "metadata": {},
   "outputs": [],
   "source": [
    "pvol = rio.object\n",
    "print(\"%i scans in polar volume\" % pvol.getNumberOfScans())"
   ]
  },
  {
   "cell_type": "markdown",
   "metadata": {},
   "source": [
    "## Ascending or descending scan strategy?"
   ]
  },
  {
   "cell_type": "code",
   "execution_count": null,
   "metadata": {},
   "outputs": [],
   "source": [
    "pvol.isAscendingScans()"
   ]
  },
  {
   "cell_type": "markdown",
   "metadata": {},
   "source": [
    "## Where is this site?"
   ]
  },
  {
   "cell_type": "markdown",
   "metadata": {},
   "source": [
    "### Note that all angles are represented internally in radians"
   ]
  },
  {
   "cell_type": "code",
   "execution_count": null,
   "metadata": {},
   "outputs": [],
   "source": [
    "from Proj import rd\n",
    "\n",
    "print(\n",
    "    \"Site is located at %2.3f° lon, %2.3f° lat and %3.1f masl\"\n",
    "    % (pvol.longitude * rd, pvol.latitude * rd, pvol.height)\n",
    ")\n",
    "print(\"Site's ODIM source identifiers are: %s\" % pvol.source)"
   ]
  },
  {
   "cell_type": "markdown",
   "metadata": {},
   "source": [
    "## Access lowest scan and query some characteristics"
   ]
  },
  {
   "cell_type": "code",
   "execution_count": null,
   "metadata": {},
   "outputs": [],
   "source": [
    "scan = pvol.getScan(0)\n",
    "nrays, nbins = scan.nrays, scan.nbins\n",
    "print(\"Elevation angle %2.1f°\" % (scan.elangle * rd))\n",
    "print(\"%i rays per sweep\" % nrays)\n",
    "print(\"%i bins per ray\" % nbins)\n",
    "print(\"%3.1f meter range bins\" % scan.rscale)\n",
    "print(\"First ray scanned is ray %i (indexing starts at 0)\" % scan.a1gate)\n",
    "print(\"Data acquisition started on %s:%sZ\" % (scan.startdate, scan.starttime))\n",
    "print(\"Data acquisition ended on %s:%sZ\" % (scan.enddate, scan.endtime))\n",
    "print(\n",
    "    \"Scan contains %i quantities: %s\"\n",
    "    % (len(scan.getParameterNames()), scan.getParameterNames())\n",
    ")"
   ]
  },
  {
   "cell_type": "markdown",
   "metadata": {},
   "source": [
    "## Access horizontal reflectivity and query some characteristics"
   ]
  },
  {
   "cell_type": "code",
   "execution_count": null,
   "metadata": {},
   "outputs": [],
   "source": [
    "dbzh = scan.getParameter(\"DBZH\")\n",
    "print(\"Quantity is %s\" % dbzh.quantity)\n",
    "print(\"8-bit unsigned byte data? %s\" % str(dbzh.datatype is _rave.RaveDataType_UCHAR))\n",
    "print(\n",
    "    \"Linear scaling coefficients from 0-255 to dBZ: gain=%2.1f, offset=%2.1f\"\n",
    "    % (dbzh.gain, dbzh.offset)\n",
    ")\n",
    "print(\n",
    "    \"Unradiated areas = %2.1f, radiated areas with no echo = %2.1f\"\n",
    "    % (dbzh.nodata, dbzh.undetect)\n",
    ")\n",
    "\n",
    "dbzh_data = dbzh.getData()  # Accesses the NumPy array containing the reflectivities\n",
    "print(\n",
    "    \"NumPy array's dimensions = %s and type = %s\"\n",
    "    % (str(dbzh_data.shape), dbzh_data.dtype)\n",
    ")"
   ]
  },
  {
   "cell_type": "markdown",
   "metadata": {},
   "source": [
    "## A primitive visualizer for plotting B-scans"
   ]
  },
  {
   "cell_type": "code",
   "execution_count": null,
   "metadata": {},
   "outputs": [],
   "source": [
    "# Convenience functionality. First convert a palette from GoogleMapsPlugin for use with matplotlib\n",
    "import matplotlib\n",
    "from GmapColorMap import dbzh as pal\n",
    "\n",
    "colorlist = []\n",
    "for i in range(0, len(pal), 3):\n",
    "    colorlist.append([pal[i] / 255.0, pal[i + 1] / 255.0, pal[i + 2] / 255.0])\n",
    "\n",
    "# Then create a simple plotter\n",
    "import matplotlib.pyplot as plt\n",
    "\n",
    "\n",
    "def plot(data):\n",
    "    fig = plt.figure(figsize=(16, 12))\n",
    "    plt.title(\"B-scan\")\n",
    "    plt.imshow(data, cmap=matplotlib.colors.ListedColormap(colorlist), clim=(0, 255))\n",
    "    plt.colorbar(shrink=float(nrays) / nbins)"
   ]
  },
  {
   "cell_type": "code",
   "execution_count": null,
   "metadata": {},
   "outputs": [],
   "source": [
    "plot(dbzh_data)"
   ]
  },
  {
   "cell_type": "markdown",
   "metadata": {},
   "source": [
    "## Management of optional metadata"
   ]
  },
  {
   "cell_type": "markdown",
   "metadata": {},
   "source": [
    "### While manadatory metadata are represented as object attributes in Python, optional metadata are not!"
   ]
  },
  {
   "cell_type": "code",
   "execution_count": null,
   "metadata": {},
   "outputs": [],
   "source": [
    "print(\"Polar volume has %i optional attributes\" % len(pvol.getAttributeNames()))\n",
    "print(\"Polar scan has %i optional attributes\" % len(scan.getAttributeNames()))\n",
    "print(\n",
    "    \"Quantity %s has %i optional attributes\"\n",
    "    % (dbzh.quantity, len(dbzh.getAttributeNames()))\n",
    ")\n",
    "\n",
    "print(\"Mandatory attribute: beamwidth is %2.1f°\" % (pvol.beamwidth * rd))\n",
    "print(\n",
    "    \"Optional attributes: Radar is a %s running %s\"\n",
    "    % (pvol.getAttribute(\"how/system\"), pvol.getAttribute(\"how/software\"))\n",
    ")"
   ]
  },
  {
   "cell_type": "markdown",
   "metadata": {},
   "source": [
    "### Add a bogus attribute"
   ]
  },
  {
   "cell_type": "code",
   "execution_count": null,
   "metadata": {},
   "outputs": [],
   "source": [
    "dbzh.addAttribute(\"how/foo\", \"bar\")\n",
    "print(\n",
    "    \"Quantity %s now has %i optional attributes\"\n",
    "    % (dbzh.quantity, len(dbzh.getAttributeNames()))\n",
    ")"
   ]
  },
  {
   "cell_type": "markdown",
   "metadata": {},
   "source": [
    "## Create an empty parameter and populate it"
   ]
  },
  {
   "cell_type": "code",
   "execution_count": null,
   "metadata": {},
   "outputs": [],
   "source": [
    "import _polarscanparam\n",
    "\n",
    "param = _polarscanparam.new()\n",
    "param.quantity = \"DBZH\"\n",
    "param.nodata, param.undetect = 255.0, 0.0\n",
    "param.gain, param.offset = 0.4, -30.0\n",
    "\n",
    "import numpy\n",
    "\n",
    "data = numpy.zeros((420, 500), numpy.uint8)\n",
    "param.setData(data)"
   ]
  },
  {
   "cell_type": "markdown",
   "metadata": {},
   "source": [
    "## Create an empty scan and add the parameter to it"
   ]
  },
  {
   "cell_type": "code",
   "execution_count": null,
   "metadata": {},
   "outputs": [],
   "source": [
    "import _polarscan\n",
    "from Proj import dr\n",
    "\n",
    "newscan = _polarscan.new()\n",
    "newscan.elangle = 25.0 * dr\n",
    "newscan.addAttribute(\"how/simulated\", \"True\")\n",
    "\n",
    "newscan.addParameter(param)\n",
    "print(\"%i rays per sweep\" % newscan.nrays)\n",
    "print(\"%i bins per ray\" % newscan.nbins)"
   ]
  },
  {
   "cell_type": "markdown",
   "metadata": {},
   "source": [
    "### See how the parameter's dimensions were passed along to the scan, so they don't have to be set explicitly. Nevertheless, plenty of metadata must be handled explicitly or ODIM_H5 files risk being incomplete."
   ]
  },
  {
   "cell_type": "code",
   "execution_count": null,
   "metadata": {},
   "outputs": [],
   "source": [
    "newscan.a1gate = 0\n",
    "newscan.beamwidth = 1.0 * dr\n",
    "newscan.rscale = 500.0\n",
    "newscan.rstart = (\n",
    "    0.0  # Distance in meters to the start of the first range bin, unknown=0.0\n",
    ")\n",
    "newscan.startdate = \"20140831\"\n",
    "newscan.starttime = \"145005\"\n",
    "newscan.enddate = \"20140831\"\n",
    "newscan.endtime = \"145020\"\n",
    "\n",
    "# Top-level attributes\n",
    "newscan.date = \"20140831\"\n",
    "newscan.time = \"145000\"\n",
    "newscan.source = \"WMO:26232,RAD:EE41,PLC:Sürgavere,NOD:eesur\"\n",
    "newscan.longitude = 25.519 * dr\n",
    "newscan.latitude = 58.482 * dr\n",
    "newscan.height = 157.0"
   ]
  },
  {
   "cell_type": "markdown",
   "metadata": {},
   "source": [
    "## Now create a new I/O container and write the scan to ODIM_H5 file."
   ]
  },
  {
   "cell_type": "code",
   "execution_count": null,
   "metadata": {},
   "outputs": [],
   "source": [
    "container = _raveio.new()\n",
    "container.object = newscan\n",
    "container.save(\"data/myscan.h5\")\n",
    "\n",
    "import os\n",
    "\n",
    "print(\"ODIM_H5 file is %i bytes large\" % os.path.getsize(\"data/myscan.h5\"))"
   ]
  },
  {
   "cell_type": "markdown",
   "metadata": {},
   "source": [
    "### Remove compression. It makes file I/O faster. You can also tune HDF5 file-creation properties through the I/O container object."
   ]
  },
  {
   "cell_type": "code",
   "execution_count": null,
   "metadata": {},
   "outputs": [],
   "source": [
    "container.compression_level = 0  # ZLIB compression levels 0-9\n",
    "container.save(\"data/myscan.h5\")\n",
    "print(\"ODIM_H5 file is now %i bytes large\" % os.path.getsize(\"data/myscan.h5\"))"
   ]
  }
 ],
 "metadata": {
  "language_info": {
   "codemirror_mode": {
    "name": "ipython",
    "version": 3
   },
   "file_extension": ".py",
   "mimetype": "text/x-python",
   "name": "python",
   "nbconvert_exporter": "python",
   "pygments_lexer": "ipython3",
   "version": "3.11.0"
  }
 },
 "nbformat": 4,
 "nbformat_minor": 4
}
