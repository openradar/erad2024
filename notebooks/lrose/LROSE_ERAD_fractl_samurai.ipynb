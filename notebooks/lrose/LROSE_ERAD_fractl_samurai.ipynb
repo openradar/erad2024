{
 "cells": [
  {
   "cell_type": "markdown",
   "id": "5c0b4c02",
   "metadata": {},
   "source": [
    "# LROSE Wind Tutorial\n",
    "\n",
    "---\n",
    "\n",
    "This interactive tutorial takes you through the steps of how to run [FRACTL](http://wiki.lrose.net/index.php/FRACTL) and [SAMURAI](http://wiki.lrose.net/index.php/SAMURAI). FRACTL is a fast traditional solver with integrated interpolation using LROSE infrastructure, and it is able to perform both gridding and multi-Doppler synthesis for airborne radars and multiple ground-based radars. This is different than Radx2Grid which is only capable of gridding data for a single ground-based radar. FRACTL adopts techniques from older REORDER and CEDRIC software, but with some new improvements. In contrast to the older tools, in which interpolation is followed by synthesis, FRACTL does both steps together. FRACTL doesn’t require the CfRadial file with an aggregation of the sweeps, which is different than Radx2Grid. FRACTL performs a nearest neighbor interpolation of the reflectivity instead of bilinear interpolation in Radx2Grid. It combines the Doppler velocities together using the traditional 'normal' equations but with singular value decomposition of raw velocities in spherical space rather than Cramer's rule in gridded space like CEDRIC. \n",
    "\n",
    "SAMURAI is a variational analysis technique that is described in [Bell et al. (2012)](https://doi.org/10.1175/JAS-D-11-0276.1), [Foerster et al. (2014)](https://doi.org/10.1175/MWR-D-13-00313.1), [Foerster and Bell (2017)](https://doi.org/10.1175/JTECH-D-17-0073.1), [Cha and Bell (2021)](https://doi.org/10.5194/amt-14-3523-2021), [Cha and Bell (2023)](https://github.com/csu-tropical/csu-tropical/blob/master/Publications/papers/Cha_Bell_JTECH_2023.pdf), and other publications. The SAMURAI analysis yields a maximum likelihood estimate of the atmospheric state for a given set of observations and error estimates by minimizing a variational cost function. SAMMURAI employs a finite element approach using a series of overlapping cubic B-spline basis functions. \n",
    "This approach offers several advantages over a conventional grid-point representation, including:\n",
    "\n",
    "- Allowing for a scaled-controlled analysis that can incorporate multiple spatial filters in the background error covariance and analytic spatial derivatives in observational space.\n",
    "- No need to interpolate irregular data distributions to a Cartesian grid, and the data can be used in the variational minimization in their native locations.\n",
    "- Spatial derivative constraints are considered as pseudo-observations, which can be implicitely integrated during the cost function minimmization at any point in their native coordinate.\n",
    "\n",
    "It has more features and more development than FRACTL, and is generally recommended over the former for publication-quality analysis. The two programs together provide a powerful combination to produce high quality multi-Doppler wind fields from ground-based, airborne, or mixed configurations.\n",
    "\n",
    "<div>\n",
    "<img src=\"../../images/samurai.png\" width=\"700\"/>\n",
    "</div>\n",
    "\n",
    "---\n",
    "\n",
    "\n",
    "## Tutorial Overview\n",
    "\n",
    "### 1. Setup \n",
    "\n",
    "#### QC-ed input data, a parameter file, and a center file:\n",
    "\n",
    "**a. QC-ed radar data files are provided:**\n",
    "| CDV | PBE |\n",
    "| -------- | ------- |\n",
    "| cfrad.20180107_004225.662_to_20180107_004240.662_CREU_DEL_SUR.nc | cfrad.20180107_004230.125_to_20180107_004245.125_PUIG_BER_SUR.nc |\n",
    "| cfrad.20180107_004244.092_to_20180107_004259.092_CREU_DEL_SUR.nc | cfrad.20180107_004247.823_to_20180107_004301.823_PUIG_BER_SUR.nc |\n",
    "| cfrad.20180107_004301.347_to_20180107_004316.347_CREU_DEL_SUR.nc | cfrad.20180107_004304.358_to_20180107_004319.358_PUIG_BER_SUR.nc |\n",
    "| cfrad.20180107_004318.235_to_20180107_004332.235_CREU_DEL_SUR.nc | cfrad.20180107_004322.342_to_20180107_004337.342_PUIG_BER_SUR.nc |\n",
    "| cfrad.20180107_004335.672_to_20180107_004350.672_CREU_DEL_SUR.nc | cfrad.20180107_004340.760_to_20180107_004355.760_PUIG_BER_SUR.nc |\n",
    "| cfrad.20180107_004351.684_to_20180107_004406.684_CREU_DEL_SUR.nc | cfrad.20180107_004359.360_to_20180107_004414.360_PUIG_BER_SUR.nc |\n",
    "| cfrad.20180107_004409.010_to_20180107_004423.010_CREU_DEL_SUR.nc | cfrad.20180107_004416.403_to_20180107_004431.403_PUIG_BER_SUR.nc |\n",
    "| cfrad.20180107_004426.910_to_20180107_004441.910_CREU_DEL_SUR.nc | cfrad.20180107_004435.419_to_20180107_004450.419_PUIG_BER_SUR.nc |\n",
    "| cfrad.20180107_004444.218_to_20180107_004459.218_CREU_DEL_SUR.nc | cfrad.20180107_004453.420_to_20180107_004508.420_PUIG_BER_SUR.nc |\n",
    "| cfrad.20180107_004501.640_to_20180107_004516.640_CREU_DEL_SUR.nc | cfrad.20180107_004510.725_to_20180107_004525.725_PUIG_BER_SUR.nc |\n",
    "| cfrad.20180107_004519.306_to_20180107_004534.306_CREU_DEL_SUR.nc | cfrad.20180107_004529.202_to_20180107_004544.202_PUIG_BER_SUR.nc |\n",
    "| cfrad.20180107_004535.929_to_20180107_004550.929_CREU_DEL_SUR.nc | cfrad.20180107_004546.178_to_20180107_004601.178_PUIG_BER_SUR.nc |\n",
    "| cfrad.20180107_004554.649_to_20180107_004608.649_CREU_DEL_SUR.nc | cfrad.20180107_004605.722_to_20180107_004620.722_PUIG_BER_SUR.nc |\n",
    "| cfrad.20180107_004612.565_to_20180107_004626.565_CREU_DEL_SUR.nc | cfrad.20180107_004625.394_to_20180107_004640.394_PUIG_BER_SUR.nc |\n",
    "| cfrad.20180107_004630.909_to_20180107_004645.909_CREU_DEL_SUR.nc | cfrad.20180107_004645.119_to_20180107_004700.119_PUIG_BER_SUR.nc |\n",
    "| cfrad.20180107_004649.801_to_20180107_004704.801_CREU_DEL_SUR.nc | cfrad.20180107_004704.310_to_20180107_004719.310_PUIG_BER_SUR.nc |\n",
    "\n",
    "*The QC process is not included in this tutorial. An example of one type of QC can be found in the QC tutorial and HawkEdit/solo are another tool to use for QC-ing data.\n",
    "\n",
    "### 2. Basic FRACTL and SAMURAI \"how to\"\n",
    "\n",
    "Both FRACTL and SAMURAI are run on the command line, using simple commands like this:\n",
    "\n",
    "* <code lang=\"bash\">fractl -params /path/to/fractl.params</code>\n",
    "* <code lang=\"bash\">samurai -params /path/to/samurai.params</code>\n",
    "\n",
    "All of the information about how FRACTL and SAMURAI should analyze data (e.g., paths to input data, variable names, grids, filters) is defined in parameter files for each application. Therefore, most of the work to run FRACTL and SAMURAI goes into setting up the parameter files and placing files in the correct location.\n",
    "\n",
    "FRACTL requirements:\n",
    "* radar data (CfRadial)\n",
    "* parameter file\n",
    "\n",
    "SAMURAI requirements:\n",
    "* data (e.g., radar data, radiosondes, in-situ aircraft data)\n",
    "* center file\n",
    "* parameter file\n",
    "* optional: background file\n",
    "\n",
    "#### How to set up FRACTL\n",
    "\n",
    "**a. Set up directory structure:**\n",
    "\n",
    "All data that FRACTL will use need to be in the same directory. This tutorial will set up input and output directories for the initial FRACTL exercises. *For additional FRACTL runs, we recommend creating new input and output directories to keep all analyses separate.*\n",
    "\n",
    "**b. Parameter files:**\n",
    "\n",
    "FRACTL's parameter file contains information about data I/O, the cartesian grid, and variable names. In this tutorial, the user will create their own parameter file from scratch and fill in the important parameters.\n",
    "\n",
    "#### How to set up SAMURAI\n",
    "\n",
    "**a. Set up directory structure:**\n",
    "\n",
    "All data and the center file defining the Cartesian grid that SAMURAI will use need to be in the same directory. This tutorial will set up input and output directories for the initial SAMURAI exercises. *For additional SAMURAI runs, we recommend creating new input and output directories to keep all analyses separate.*\n",
    "\n",
    "**b. Center file:**\n",
    "\n",
    "The .cen file will be generated by the user through the provided Perl script. SAMURAI uses the center file to define the Cartesian frame of reference for the analysis, which be either be static or moving. It can be used to time-space correct the position of radar data in a moving storm system. It also sets the temporal limits for data to be included in the analysis. The center files are named according to the following convention: YYYYMMDD.cen\n",
    "* Provided: Generate_center.pl\n",
    "\n",
    "**c. Parameter files:**\n",
    "SAMURAI's parameter file contains information about data I/O, the cartesian grid, variable names, filters, and other scientific choices. In this tutorial, the user will create their own parameter file from scratch and fill in the important parameters.\n"
   ]
  },
  {
   "cell_type": "markdown",
   "id": "e132cece",
   "metadata": {},
   "source": [
    "#### Environment and packages¶\n",
    "\n",
    "First, we import the required python packages to run this notebook. Most of the LROSE processing can be done with the os package and shell commands. "
   ]
  },
  {
   "cell_type": "code",
   "execution_count": null,
   "id": "d3a4a59f",
   "metadata": {},
   "outputs": [],
   "source": [
    "import os\n",
    "#### Need to modify later\n",
    "os.environ['LROSE_DIR'] = '/usr/local/lrose/bin'\n",
    "\n",
    "\n",
    "######### will need to update with directories loading in data #######\n",
    "#### might not stream them to retain name conventions ######\n"
   ]
  },
  {
   "cell_type": "markdown",
   "id": "66eb1cde",
   "metadata": {},
   "source": [
    "We will copy the required data to one directory as SAMURAI requires and organize the directory by performing the following commands:"
   ]
  },
  {
   "cell_type": "code",
   "execution_count": null,
   "id": "d3288757",
   "metadata": {},
   "outputs": [],
   "source": [
    "# make parameter directory\n",
    "!mkdir -p ./lrose_params\n",
    "\n",
    "# make subdirectories for samurai and fractl input\n",
    "!mkdir -p ./fractl_input\n",
    "!mkdir -p ./samurai_input\n",
    "\n",
    "# create SAMURAI output directory\n",
    "!mkdir -p ./output_sam\n",
    "\n",
    "# create FRACTL output directory\n",
    "!mkdir -p ./output_frac\n",
    "\n",
    "# copy raw files to respective input directories\n",
    "######## UPDATE LATER TO MOVE FILES\n",
    "!cp ${RAW_DIR}/wind_guided/*.nc ${BASE_DIR}/data/wind_guided/input\n",
    "!cp ${RAW_DIR}/wind_guided/Generate_center.pl ${BASE_DIR}/params/wind_guided\n"
   ]
  },
  {
   "cell_type": "markdown",
   "id": "858a1131",
   "metadata": {},
   "source": [
    "### 2. Prepare data for analysis\n",
    "\n",
    "In this tutorial, the provided data have already been QC-ed. For a standard procedure, users are recommended to perform the following procedure:\n",
    "\n",
    "* Convert radar data from level 2 or other native format to CfRadial using RadxConvert \n",
    "    - SAMURAI can also incorporate non-radar data, and can read many commonly used formats. All data files in the <code lang=\"bash\">input</code> directory will be included in the analysis. The read subroutine for each datatype is determined by the file suffix.\n",
    "\n",
    "* Quality-controlled raw data by desired QC-tools. See the QC tutorial for an example of how QC can be done; HawkEdit and Solo can also be used to QC data."
   ]
  },
  {
   "cell_type": "markdown",
   "id": "445f93ab-4704-443e-8912-eb6746f3995b",
   "metadata": {},
   "source": [
    "### 3. Setup the FRACTL parameter file\n",
    "\n",
    "#### 3.1 Generate the parameter file\n",
    "First, we need to generate the parameter file! LROSE applications use a standard <code lang=\"bash\">-print_params</code> flag to generate parameter files with the defaults. We just need to specify the location and name of the parameter file. We have already set up a directory where you can place the parameter files. Feel free to change the name of the file if you prefer. \n",
    "\n",
    "<div class=\"alert alert-block alert-info\"> <b>Task: Create the FRACTL parameter file.</b> \n",
    "    <br>\n",
    "    Copy the following command into the open cell below and run it!\n",
    "    <br>\n",
    "    <code lang=\"bash\">!${LROSE_DIR}/fractl -print_params > ./lrose_params/fractl_params</code>\n",
    "</div>\n"
   ]
  },
  {
   "cell_type": "code",
   "execution_count": null,
   "id": "08676d05-9fd6-43cf-af31-c3be544a42d5",
   "metadata": {},
   "outputs": [],
   "source": []
  },
  {
   "cell_type": "markdown",
   "id": "11e34cc2-b4df-4595-bffc-22da04a198ee",
   "metadata": {},
   "source": [
    "Now that we have generated the parameter file, we can inspect the file. In JupyterHub, you can edit the file either in a terminal with vi or by opening the text file via the lefthand menu - whichever you prefer! The file should be located here: /home/jovyan/lrose-hub/params/wind_guided\n",
    "\n",
    "<div class=\"alert alert-block alert-info\"> <b>Task: Open the parameter file for modification.</b> \n",
    "</div>"
   ]
  },
  {
   "cell_type": "markdown",
   "id": "ef4a1cd4-225e-4627-b2aa-8d539f62e847",
   "metadata": {},
   "source": [
    "#### 3.2 Modify the parameter file\n",
    "\n",
    "Now we will step through and edit the parameter file.\n",
    "\n",
    "First, we'll start with the parameters associated with the input/output data directories and filenames.\n",
    "\n",
    "| Parameter | Line # | Description |\n",
    "| --- | --- | --- |\n",
    "|inDir| 391 |The input data directory. It can be a relative path, but an absolute path is more certain.|\n",
    "|fileRegex| 399 |A regular expression to identify the files used for analysis. Usually ^cfrad, to find CfRadial files.|\n",
    "|outNc| 426 |The output directory where the analysis will go.|\n",
    "|outTxt| 417 |the name of the text file that will contain the verification of grid results.|\n",
    "\n",
    "<div class=\"alert alert-block alert-info\"> <b>Task: change the inDir, fileRegex, and outNc parameters.</b> \n",
    "    <br>\n",
    "    Refer to the table above to find the parameters in the text file.\n",
    "    <ul>\n",
    "<li> <code lang=\"bash\">inDir = \"./fractl_input\"</code>\n",
    "<li> <code lang=\"bash\">fileRegex = \"^cfrad\"</code>\n",
    "<li> <code lang=\"bash\">outNc = \"./output_frac/\"</code>\n",
    "<li> <code lang=\"bash\">outTxt = \"./output_frac/fractl_output.txt\"</code>\n",
    "        </ul>\n",
    "</div>\n"
   ]
  },
  {
   "cell_type": "markdown",
   "id": "9846587f-ff26-48b2-9a63-9089210b55f0",
   "metadata": {},
   "source": [
    "---\n",
    "\n",
    "Next, we'll define the cartesian grid.\n",
    "\n",
    "| Parameter | Line # | Description |\n",
    "| --- | --- | --- |\n",
    "|zGrid, yGrid, xGrid| 174, 182, 190 |These determine the grid spacing and size of the domain. Provide either the grid spacing to determine the max and min from the data or provide \"min,max,incr\" for each parameter.|\n",
    "|projLat0, projLon0| 229, 237 |The origin is an arbitrarily chosen point, but should be relevant for your objective. For example, it can be the geographical center of your multi-radar domain, the physical location of a radar for a single-radar domain, or the location of a feature of interest within your dataset (such as storm center). The latitude and longitude of your chosen origin should be given in decimal degrees.|\n",
    "|radarAlt| 245 |Altitude of the radar (km). Sometimes mobile radars have the altitude entered in m, which can often cause errors in FRACTL.|\n",
    "\n",
    "<div class=\"alert alert-block alert-info\"> <b>Task: set up the FRACTL grid using the following values.</b> \n",
    "    <br>\n",
    "    We have provided the grid information for you. In this example, we will make a small box around the Goshen tornado with 100 m grid spacing. Since the radar had limited elevation angles, we restrict the vertical grid to 5-km altitude. Normally, you want to make the domain taller than your data.\n",
    "    <ul>\n",
    "<li> <code lang=\"bash\">zGrid = \"0,10,0.5\"</code>\n",
    "<li> <code lang=\"bash\">yGrid = \"10,40,0.5\"</code>\n",
    "<li> <code lang=\"bash\">xGrid = \"10,35,0.5\"</code>\n",
    "<li> <code lang=\"bash\">projLat0 = 41.601666</code>\n",
    "<li> <code lang=\"bash\">projLon0 = 1.402777</code>\n",
    "<li> <code lang=\"bash\">radarAlt = 0.631</code>\n",
    "        </ul>\n",
    "</div>\n"
   ]
  },
  {
   "cell_type": "markdown",
   "id": "fd78324a-fc07-455e-8c85-c41f795a6df6",
   "metadata": {},
   "source": [
    "---\n",
    "\n",
    "Finally, we'll define the variable names so that FRACTL knows which variables to use in the analysis.\n",
    "\n",
    "| Parameter | Line # | Description |\n",
    "| --- | --- | --- |\n",
    "|radialName| 440 |Variable name for the Doppler velocity.|\n",
    "|dbzName| 448 |Variable name for the radar reflectivity.|\n",
    "|ncpName| 456 |Variable name for the normalized coherent power. This variable can be used to do some simple QC thresholding. If you don't have NCP or SQI in your data then just point this to any other variable and select a value above which all data will be included.|\n",
    "|minDbz| 58 |Any values below the minimum reflectivity value will be tossed out. Example: -20.|\n",
    "|minNcp| 69 |Any values below the minimum NCP will be tossed out. Some radars do not have NCP, so the NCP variable can be replaced by any other variable to perform a simple quality control (e.g., SW < -1, dBZ < -20). This is generally intended for quick realtime quality control process.|\n",
    "\n",
    "<div class=\"alert alert-block alert-info\"> <b>Task: look for the variable names for reflectivity, velocity, and whether NCP exists in each file.</b> \n",
    "\n",
    "\n",
    "We can use a couple applications to examine the variable names in our radar files (e.g., ncdump or RadxPrint). To limit the application output, you can also pipe information to commands like <code lang=\"bash\">grep</code> or <code lang=\"bash\">head</code>. Some example commands you can try are listed below.\n",
    " \n",
    "<i>Copy them as is to try them out in the next Jupyter cell. If you prefer to run them in a terminal window, remove the \"!\" symbol, which is just for Jupyter notebooks.</i>\n",
    "\n",
    "<code lang=\"bash\">!ncdump -h $./fractl_input/cfrad.20180107_004225.662_to_20180107_004240.662_CREU_DEL_SUR.nc</code>\n",
    "\n",
    "<code lang=\"bash\">!ncdump -h ./fractl_input/cfrad.20180107_004230.125_to_20180107_004245.125_PUIG_BER_SUR.nc</code>\n",
    "\n",
    "<code lang=\"bash\">!${LROSE_DIR}/RadxPrint -f ./fractl_input/cfrad.20180107_004225.662_to_20180107_004240.662_CREU_DEL_SUR.nc</code>\n",
    " \n",
    "<code lang=\"bash\">!${LROSE_DIR}/RadxPrint -f ./fractl_input/cfrad.20180107_004230.125_to_20180107_004245.125_PUIG_BER_SUR.nc</code>\n",
    "\n",
    "</div>\n"
   ]
  },
  {
   "cell_type": "code",
   "execution_count": null,
   "id": "a3b6980c-7fb7-4c75-8bfe-5ba6d1a3a49e",
   "metadata": {},
   "outputs": [],
   "source": []
  },
  {
   "cell_type": "markdown",
   "id": "59bfc771-1329-4a36-be5b-15b2161fdf55",
   "metadata": {},
   "source": [
    "<div class=\"alert alert-block alert-info\"> <b>Task: define the radar variable names in the parameter file based on the output discovered above.</b> \n",
    "</div>\n",
    "\n",
    "**Congrats! You've finished setting up the FRACTL parameter file!**"
   ]
  },
  {
   "cell_type": "markdown",
   "id": "bd1bebd2-6f8f-4156-ae24-6c968cecff5b",
   "metadata": {},
   "source": [
    "### 4. Run FRACTL\n",
    "\n",
    "After modifying the parameter file, direct to the parameter file by using the *-params* flags"
   ]
  },
  {
   "cell_type": "code",
   "execution_count": null,
   "id": "e677c830-5fc7-4cf8-9009-bae55684e458",
   "metadata": {
    "scrolled": true,
    "tags": []
   },
   "outputs": [],
   "source": [
    "!${LROSE_DIR}/fractl -params ./lrose_params/fractl_params\n"
   ]
  },
  {
   "cell_type": "markdown",
   "id": "a982ff2d-e6fc-4bec-8a24-1b9e5edc6fb5",
   "metadata": {},
   "source": [
    "### 5. Plot FRACTL results\n",
    "\n",
    "#### Environment and packages\n",
    "Import the packages to plot the FRACTL output. These are pre-installed for this tutorial, but if you run this notebook on your own computer you may need to install them yourself using pip or conda."
   ]
  },
  {
   "cell_type": "code",
   "execution_count": null,
   "id": "2ae38d18-a9c7-4cc8-b421-a60385112f3d",
   "metadata": {},
   "outputs": [],
   "source": [
    "import matplotlib.pyplot as plt\n",
    "import matplotlib.colors as colors\n",
    "import numpy as np\n",
    "import xarray as xr\n",
    "import matplotlib as mpl\n",
    "import cartopy.crs as ccrs\n",
    "from metpy.plots import ctables\n",
    "from cartopy.mpl.gridliner import LONGITUDE_FORMATTER, LATITUDE_FORMATTER\n",
    "mpl.rcParams['figure.dpi'] = 300\n"
   ]
  },
  {
   "cell_type": "markdown",
   "id": "b5b5f568-6077-4dfb-896b-ac9a589a69af",
   "metadata": {},
   "source": [
    "Load the netcdf file"
   ]
  },
  {
   "cell_type": "code",
   "execution_count": null,
   "id": "3f23de24",
   "metadata": {
    "scrolled": true,
    "tags": []
   },
   "outputs": [],
   "source": [
    "inDir = \"./output_frac/20180107/\"\n",
    "file = \"*.nc\"\n",
    "ds_radar = xr.open_dataset(inDir+file).squeeze()\n",
    "ds_radar.load()\n"
   ]
  },
  {
   "cell_type": "code",
   "execution_count": null,
   "id": "cc68a684",
   "metadata": {},
   "outputs": [],
   "source": [
    "## Get variables:\n",
    "da_DBZ = ds_radar['DBZ']\n",
    "da_U = ds_radar['U']\n",
    "da_V = ds_radar['V']\n",
    "da_W = ds_radar['W']\n",
    "da_CN = ds_radar['conditionNumber']\n"
   ]
  },
  {
   "cell_type": "code",
   "execution_count": null,
   "id": "f8bda8cd",
   "metadata": {},
   "outputs": [],
   "source": [
    "## Set NWS reflectivity colorbar:\n",
    "ref_norm, ref_cmap = ctables.registry.get_with_steps('NWSStormClearReflectivity', -20, 0.5)\n",
    "plotting_alt=1.5*1000 # altitude at 1.5 km\n",
    "plotting_var = ds_radar.DBZ.sel(z0=plotting_alt).data\n",
    "plotting_var_u = ds_radar.U.sel(z0=plotting_alt).data\n",
    "plotting_var_v = ds_radar.V.sel(z0=plotting_alt).data\n",
    "plotting_lon = ds_radar.lon0\n",
    "plotting_lat = ds_radar.lat0\n",
    "\n",
    "fig = plt.figure(figsize=(12,12))\n",
    "ax = plt.axes(projection=ccrs.PlateCarree())\n",
    "# stamen_terrain = cimgt.Stamen('terrain')\n",
    "# ax.add_image(stamen_terrain, 8)\n",
    "      \n",
    "cf1 = ax.pcolormesh( plotting_lon, plotting_lat, plotting_var\n",
    "                    , cmap=ref_cmap, norm=ref_norm\n",
    "                    , alpha=0.8\n",
    "                    , shading='auto'\n",
    "                    , transform=ccrs.PlateCarree() \n",
    "                    )\n",
    "step = 4\n",
    "cf_q = ax.quiver( plotting_lon[::step, ::step], plotting_lat[::step, ::step]\n",
    "                    , plotting_var_u[::step, ::step], plotting_var_v[::step, ::step]\n",
    "                    , scale=1000\n",
    "                    , width=0.004\n",
    "                    , color='k'\n",
    "                    , transform=ccrs.PlateCarree()\n",
    "                    )\n",
    "\n",
    "gl = ax.gridlines(crs=ccrs.PlateCarree(), draw_labels=True,\n",
    "                  linewidth=2, color='gray', alpha=0.5, linestyle='--')\n",
    "gl.top_labels = False\n",
    "gl.right_labels = False\n",
    "gl.xformatter = LONGITUDE_FORMATTER\n",
    "gl.yformatter = LATITUDE_FORMATTER\n",
    "\n",
    "cbar_ax = fig.add_axes([0.95, 0.3, 0.02, 0.4])\n",
    "cbar = fig.colorbar(cf1, cax=cbar_ax, fraction=0.04)\n",
    "cbar.ax.tick_params(labelsize=14)\n",
    "cbar.ax.set_title('[dBZ]', fontsize=14, y=-0.1)\n"
   ]
  },
  {
   "cell_type": "markdown",
   "id": "54f4d4c8-1b16-411d-bb13-4b0bae0fb8ac",
   "metadata": {},
   "source": [
    "### If you can see the above plot, then congratulations! You have successfully created and plotted a dual-Doppler analysis. Now let's try SAMURAI"
   ]
  },
  {
   "cell_type": "markdown",
   "id": "349155d8",
   "metadata": {},
   "source": [
    "### 6. Set the SAMURAI parameters\n",
    "\n",
    "#### 6.1 Set up the center file\n",
    "One difference between FRACTL and SAMURAI is the requirement of a centerfile, which allows for a moving domain. We will modify and run the Generate_center.pl perl script to generate a time-series of center locations by providing an estimation of the moving speed of the target and the reference location.\n",
    "\n",
    "| Parameter | Line # | Description |\n",
    "| --- | --- | --- |\n",
    "|lat_origin, lon_origin| 13, 14 |Latitude and longitude of reference frame at origin time.|\n",
    "|u, v| 15, 16 |Storm motion.|\n",
    "|ymd| 17 |Date of initial time (YYYYMMDD).|\n",
    "|hr, mn, sec| 18, 19, 20 |Initial hour, minute, second of track.|\n",
    "|duration| 21 |Duration of track in seconds.|\n",
    "|origintime| 22 |Time when the frame is at the latitude/longitude at the origin time in seconds from the initial time.|\n",
    "\n",
    "<div class=\"alert alert-block alert-info\"> <b>Task: open the Generate_center.pl script and modify the parameters for this case.</b> \n",
    "\n",
    "The script can be found here: ./Generate_center.pl\n",
    "    \n",
    "For lat_origin and lon_origin, use the values that we defined above in the FRACTL parameter file. \n",
    "    \n",
    "For this example, we will use a stationary domain, so u and v can be set to zero.  \n",
    "\n",
    "The initial time set by ymd, hr, mn, and sec should be set such that the data all occur after the initial time. CfRadial files often contain the start time of the data in their file names. Look at the two files we are using and see when the data starts. Set your initial time before that time - usually 5-10 seconds is sufficient.\n",
    "\n",
    "Duration sets the length of the analysis. Similar to the initial time, look at the CfRadial filenames to determine the latest timestamp associated with the data. Then determine the number of seconds needed to encompass all the data from the two files. Feel free to round up a few seconds.\n",
    "\n",
    "Origintime is less meaningful in a stationary nest, but for this example use 1.\n",
    "</div>\n"
   ]
  },
  {
   "cell_type": "markdown",
   "id": "7277d9bd-a011-4024-954f-4ca41d71472f",
   "metadata": {},
   "source": [
    "#### 6.2 Generate the center file\n",
    "\n",
    "<div class=\"alert alert-block alert-info\"> <b>Task: run the Perl script to generate the center file and move the center file to the wind_guided input directory.</b> \n",
    "    <br>\n",
    "First, we need to make the script executable so we can run it. Run the following command to change the permissions.\n",
    "    \n",
    "<code lang=\"bash\">!chmod u+x ./Generate_center.pl</code>\n",
    "\n",
    "Generate the .cen file in the input directory using the following command:\n",
    "<code lang=\"bash\">!Generate_center.pl</code>\n",
    "</div>"
   ]
  },
  {
   "cell_type": "code",
   "execution_count": null,
   "id": "bc3fb8c3-866c-49de-ba1a-550e2b53e814",
   "metadata": {},
   "outputs": [],
   "source": []
  },
  {
   "cell_type": "markdown",
   "id": "248fedb8-dc56-4121-9c11-7fecf535e5fc",
   "metadata": {},
   "source": [
    "Generate_center.pl creates the file in the directory containing this notebook. We just need to move it to the input directory, which we can do with the following command. Using either a terminal or the nagivation at the left of the notebook, double check that the file is now in the input directory."
   ]
  },
  {
   "cell_type": "code",
   "execution_count": null,
   "id": "2d90354e-06fe-440f-9886-3f635732c9c4",
   "metadata": {},
   "outputs": [],
   "source": [
    "!mv ./*.cen ./samurai_input"
   ]
  },
  {
   "cell_type": "markdown",
   "id": "9470ad35-ce82-4d6f-9db1-5c21ce8566cf",
   "metadata": {},
   "source": [
    "#### 6.3 Generate the SAMURAI parameter file\n",
    "Like FRACTL, SAMURAI uses the <code lang=\"bash\">-print_params</code> flag to generate parameter files with the defaults. We just need to specify the location and name of the parameter file. We have already set up a directory where you can place the parameter files. Feel free to change the name of the file if you prefer. \n",
    "\n",
    "<div class=\"alert alert-block alert-info\"> <b>Task: generate the SAMURAI parameter file.</b> \n",
    "<br>\n",
    "Copy the following command into the open cell below and run it!\n",
    "    \n",
    "<code lang=\"bash\">!${LROSE_DIR}/samurai -print_params > ./lrose_params/samurai_params</code>\n",
    "</div>\n"
   ]
  },
  {
   "cell_type": "code",
   "execution_count": null,
   "id": "fe245b91-ea20-46a5-bbe6-3031b4b9318a",
   "metadata": {},
   "outputs": [],
   "source": []
  },
  {
   "cell_type": "markdown",
   "id": "6bb8d070-aa00-4c52-a4ea-60cc404ef450",
   "metadata": {},
   "source": [
    "#### 6.4 Modify the SAMURAI parameter file\n",
    "\n",
    "Now we will step through and edit the parameter file.\n",
    "\n",
    "First, we'll start with the parameters associated with the input/output data directories and filenames.\n",
    "\n",
    "| Parameter | Line # | Description |\n",
    "| --- | --- | --- |\n",
    "|data_directory| 171 |The input data directory. It can be a relative path, but an absolute path is more certain.|\n",
    "|output_directory| 181 |The output directory where the analysis will go.|\n",
    "\n",
    "<div class=\"alert alert-block alert-info\"> <b>Task: set the data directories.</b> \n",
    "\n",
    "Change the data_directory and output_directory parameters to the following.\n",
    "\n",
    "<code lang=\"bash\">data_directory = \"./samurai_input\"</code>\n",
    "\n",
    "<code lang=\"bash\">output_directory = \"./output_sam\"</code>\n",
    "</div>\n"
   ]
  },
  {
   "cell_type": "markdown",
   "id": "179dcc1e-4fe9-426c-89ac-36d321253412",
   "metadata": {},
   "source": [
    "---\n",
    "Next, we'll define the cartesian grid.\n",
    "\n",
    "| Parameter | Line # | Description |\n",
    "| --- | --- | --- |\n",
    "|i_min, i_max, i_incr| 254, 260, 266 |Define the minimum and maximum extent and grid spacing in km of the first horizontal dimension (e.g., Cartesian 'x' dimension). For cylindrical analyses (RTZ mode), this is radius.|\n",
    "|j_min, j_max, j_incr| 272, 278, 284 |Define the minimum and maximum extent and grid spacing of the second horizontal dimension (e.g., Cartesian 'y' dimension in km). For cylindrical analyses (RTZ mode), this is azimuth (degrees).|\n",
    "|k_min, k_max, k_incr| 290, 296, 302 |Define the minimum and maximum extent and grid spacing in km of the vertical dimension (i.e., 'z' dimension). k_min should usually be 0.|\n",
    "\n",
    "<div class=\"alert alert-block alert-info\"> <b>Task: set up the SAMURAI grid.</b> \n",
    "\n",
    "Using the grid spacing and span that we used to set up FRACTL, fill out these 9 parameters in the SAMURAI parameter file. Since we are creating a Cartesian analysis, i, j, and k correspond to x, y, and z.\n",
    "\n",
    "</div>\n"
   ]
  },
  {
   "cell_type": "markdown",
   "id": "3a89191d-2a72-4032-87de-13a924a96fb1",
   "metadata": {},
   "source": [
    "---\n",
    "SAMURAI requires the user to set the background time. \n",
    "\n",
    "| Parameter | Line # | Description |\n",
    "| --- | --- | --- |\n",
    "|ref_time| 324 |This is the reference time to which all data will be time-space corrected. It must be a valid time in the centerfile or an error will occur. The time should be the same as the origin time corresponding to the latitude/longitude in the Perl center file script.|\n",
    "\n",
    "<div class=\"alert alert-block alert-info\"> <b>Task: define the reference time.</b> \n",
    "\n",
    "The reference time in SAMURAI should correspond to the same time as the origin time (*not* the start time) that was used in the Generate_center.pl script. The format is HH:MM:SS.\n",
    "\n",
    "</div>\n"
   ]
  },
  {
   "cell_type": "markdown",
   "id": "2558b4b9-7848-4e70-9011-d4c6bc9e7ebe",
   "metadata": {},
   "source": [
    "---\n",
    "Next, we'll set some remaining parameters which define the radar variable names, radii of influence, and how much data is processed. \n",
    "\n",
    "| Parameter | Line # | Description |\n",
    "| --- | --- | --- |\n",
    "|radar_skip| 352 |This option can be used to skip beams in the radar data. When set to '1', all beams are used. Setting it to 2 speeds up the calculation and is useful for preliminary analysis. It should generally be set to 1 for final analysis.|\n",
    "|radar_stride| 358 |This option sets the number of gates over which averaging occurs along the beam. A stride of '1' uses all data, and higher numbers average multiple gates of the given stride. Higher numbers speed up the calculation and can be used to thin the data to achieve desired spatial resolution of the input velocities.|\n",
    "|radar_dbz| 382 |The name of the reflectivity field in the radar data.|\n",
    "|radar_vel| 392 |The name of the Doppler velocity field in the radar data.|\n",
    "|radar_sw| 398 |The name of the spectrum width field in the radar data. This value is used to set the observational error for the Doppler velocity. If you don't have spectrum width, you can point it at another variable (like NCP) or create a simple uniform field.|\n",
    "|i_reflectivity_roi, j_reflectivity_roi, k_reflectivity_roi| 404, 410, 416 |These variables set the radius of influence for the reflectivity interpolation. They should be similar to the grid increments defined above.|\n",
    "|mask_reflectivity| 428 |The analysis can be set to missing data where there is no reflectivity. If set to 'None' then no masking is performed. A numerical value will be used as a threshold for the masking, with all data at nodes having less than the given reflectivity value removed. If you are not using a background field then it is generally a good idea to set this to some small number (like -10 dBZ) since the winds are not valid if there is no radar data.|\n",
    "\n",
    "<div class=\"alert alert-block alert-info\"> <b>Task: fill out the radar-specific parameters</b> \n",
    "\n",
    "The radar_dbz and radar_vel parameters are the same names that were used in the FRACTL parameter file. The radar_sw parameter can be determined in a similar manner that we used earlier.\n",
    "\n",
    "For the radii of influence, use a value of 0.5, similar to the grid spacings.\n",
    "\n",
    "Finally, mask_reflectivity can be set to a low value to remove weak echo regions. A value around -25 dBZ is often sufficient.\n",
    "\n",
    "</div>\n"
   ]
  },
  {
   "cell_type": "markdown",
   "id": "2babb553-8be4-47c9-aad7-209d22ab7d89",
   "metadata": {},
   "source": [
    "---\n",
    "Finally, we'll correct some default parameters.. \n",
    "\n",
    "| Parameter | Line # | Description |\n",
    "| --- | --- | --- |\n",
    "|load_background| 93 |A first guess of the analysis stored in the samurai_Background.in will be loaded. This can come from a model, sounding, or other data source if available. Most of the time it is not available so it should be set to FALSE.|\n",
    "|output_latlon_increment| 1028 |SAMURAI can produce XYP analyses, where the vertical coordinate is pressure. This parameter sets the lat/lon increment.|\n",
    "|output_pressure_increment| 1034 |SAMURAI can produce XYP analyses, where the vertical coordinate is pressure. This parameter sets the pressure level increment. Set to -1 for XYZ analyses. This will be made a default of -1 in a future release.|\n",
    "\n",
    "\n",
    "<div class=\"alert alert-block alert-info\"> <b>Task: fill out the radar-specific parameters</b> \n",
    "\n",
    "Some of the default parameters have not been fixed in this version of SAMURAI. Set <code lang=\"bash\">load_background</code> to FALSE, and <code lang=\"bash\">output_latlon_increment</code> and <code lang=\"bash\">output_pressure_increment</code> to -1.\n",
    "\n",
    "</div>\n",
    "\n",
    "For a list of additional SAMURAI parameters, please refer to the appendix at the end of this notebook.\n"
   ]
  },
  {
   "cell_type": "markdown",
   "id": "cff92daf",
   "metadata": {},
   "source": [
    "### 7. Run SAMURAI\n",
    "\n",
    "After modifying the parameter file, direct to the parameter file by using the *-params* flags\n"
   ]
  },
  {
   "cell_type": "code",
   "execution_count": null,
   "id": "7bbac4e9",
   "metadata": {
    "scrolled": true,
    "tags": []
   },
   "outputs": [],
   "source": [
    "!${LROSE_DIR}/samurai -params ./lrose_params/samurai_params \n"
   ]
  },
  {
   "cell_type": "markdown",
   "id": "d9acd9aa",
   "metadata": {},
   "source": [
    "### 8. Plot SAMURAI results"
   ]
  },
  {
   "cell_type": "markdown",
   "id": "fde268a5",
   "metadata": {},
   "source": [
    "#### Environment and packages¶\n",
    "The packages were already imported when we plotted the FRACTL results."
   ]
  },
  {
   "cell_type": "markdown",
   "id": "508ce841",
   "metadata": {},
   "source": [
    "#### Load the netcdf file"
   ]
  },
  {
   "cell_type": "code",
   "execution_count": null,
   "id": "b7775435",
   "metadata": {
    "scrolled": true,
    "tags": []
   },
   "outputs": [],
   "source": [
    "inDir_s = \"./output_sam/\"\n",
    "file_s = \"samurai_XYZ_analysis.nc\"\n",
    "ds_radar_s = xr.open_dataset(inDir_s+file_s).squeeze()\n",
    "ds_radar_s.load()\n"
   ]
  },
  {
   "cell_type": "code",
   "execution_count": null,
   "id": "182e9eb1",
   "metadata": {},
   "outputs": [],
   "source": [
    "## Get variables:\n",
    "da_s_DBZ = ds_radar_s['DBZ']\n",
    "da_s_U = ds_radar_s['U']\n",
    "da_s_V = ds_radar_s['V']\n",
    "da_s_W = ds_radar_s['W']\n"
   ]
  },
  {
   "cell_type": "code",
   "execution_count": null,
   "id": "c42ac87c",
   "metadata": {},
   "outputs": [],
   "source": [
    "## Set NWS reflectivity colorbar:\n",
    "ref_norm, ref_cmap = ctables.registry.get_with_steps('NWSStormClearReflectivity', -20, 0.5)\n",
    "plotting_alt=1.5 # altitude at 1.5 km\n",
    "plotting_var_s = ds_radar_s.DBZ.sel(altitude=plotting_alt)\n",
    "plotting_var_u_s = ds_radar_s.U.sel(altitude=plotting_alt).data\n",
    "plotting_var_v_s = ds_radar_s.V.sel(altitude=plotting_alt).data\n",
    "plotting_lon_s = ds_radar_s.longitude\n",
    "plotting_lat_s = ds_radar_s.latitude\n",
    "\n",
    "fig = plt.figure(figsize=(12,12))\n",
    "ax = plt.axes(projection=ccrs.PlateCarree())\n",
    "# stamen_terrain = cimgt.Stamen('terrain')\n",
    "# ax.add_image(stamen_terrain, 8)\n",
    "       \n",
    "cf1 = ax.pcolormesh( plotting_lon_s, plotting_lat_s, plotting_var_s\n",
    "                    , cmap=ref_cmap, norm=ref_norm\n",
    "                    , alpha=0.8\n",
    "                    , shading='auto'\n",
    "                    , transform=ccrs.PlateCarree() \n",
    "                    )\n",
    "step = 4\n",
    "cf_q = ax.quiver( plotting_lon_s[::step], plotting_lat_s[::step]\n",
    "                    , plotting_var_u_s[::step, ::step], plotting_var_v_s[::step, ::step]\n",
    "                    , scale=1000\n",
    "                    , width=0.004\n",
    "                    , color='k'\n",
    "                    , transform=ccrs.PlateCarree() \n",
    "                    )\n",
    "\n",
    "gl = ax.gridlines(crs=ccrs.PlateCarree(), draw_labels=True,\n",
    "                  linewidth=2, color='gray', alpha=0.5, linestyle='--')\n",
    "gl.top_labels = False\n",
    "gl.right_labels = False\n",
    "gl.xformatter = LONGITUDE_FORMATTER\n",
    "gl.yformatter = LATITUDE_FORMATTER\n",
    "\n",
    "cbar_ax = fig.add_axes([0.95, 0.3, 0.02, 0.4])\n",
    "cbar = fig.colorbar(cf1, cax=cbar_ax, fraction=0.04)\n",
    "cbar.ax.tick_params(labelsize=14)\n",
    "cbar.ax.set_title('[dBZ]', fontsize=14, y=-0.1)\n"
   ]
  },
  {
   "cell_type": "markdown",
   "id": "bd3a5d08",
   "metadata": {},
   "source": [
    "### 9. Apply FRACTL Condition Number\n",
    "\n",
    "The FRACTL 'Condition Number' represents how well-posed the geometry is for a particular multi-Doppler retrieval. It is similar to the USTD and VSTD field from CEDRIC, which represent the standard deviation of the expected error in the resolved wind field based on the geometry. Since SAMURAI solves for the wind field globally using spline basis functions, it is difficult to calculate this error at each gridpoint. If a FRACTL analysis is run on the same domain, then it can be used to remove regions with poor geometry. Here, we use a value of 10 to threshold the SAMURAI analysis."
   ]
  },
  {
   "cell_type": "code",
   "execution_count": null,
   "id": "c95f82c2",
   "metadata": {
    "scrolled": true,
    "tags": []
   },
   "outputs": [],
   "source": [
    "# Read file into radar object\n",
    "inDir_f = \"./output_frac/20180107/\"\n",
    "file_f = \"*.nc\"\n",
    "ds_radar_f = xr.open_dataset(inDir_f+file_f).squeeze()\n",
    "ds_radar_f\n"
   ]
  },
  {
   "cell_type": "code",
   "execution_count": null,
   "id": "c7c31d10",
   "metadata": {},
   "outputs": [],
   "source": [
    "plotting_CN = ds_radar_f.conditionNumber.sel(z0=1.5*1000)\n"
   ]
  },
  {
   "cell_type": "code",
   "execution_count": null,
   "id": "0d771dcf",
   "metadata": {},
   "outputs": [],
   "source": [
    "CN_threshold = 10\n",
    "dbz_goodcondition = np.where(plotting_CN < CN_threshold, plotting_var_s, np.nan)\n",
    "u_goodcondition = np.where(plotting_CN < CN_threshold, plotting_var_u_s, np.nan)\n",
    "v_goodcondition = np.where(plotting_CN < CN_threshold, plotting_var_v_s, np.nan)\n"
   ]
  },
  {
   "cell_type": "code",
   "execution_count": null,
   "id": "2ea5f124",
   "metadata": {},
   "outputs": [],
   "source": [
    "fig = plt.figure(figsize=(10,10))\n",
    "ax = plt.axes(projection=ccrs.PlateCarree())\n",
    "       \n",
    "cf1 = ax.pcolormesh( plotting_lon_s, plotting_lat_s, dbz_goodcondition\n",
    "                    , cmap=ref_cmap, norm=ref_norm\n",
    "                    , alpha=0.8\n",
    "                    , shading='auto'\n",
    "                    , transform=ccrs.PlateCarree() \n",
    "                    )\n",
    "step = 4\n",
    "cf_q = ax.quiver( plotting_lon_s[::step], plotting_lat_s[::step]\n",
    "                    , u_goodcondition[::step, ::step], v_goodcondition[::step, ::step]\n",
    "                    , scale=1000\n",
    "                    , width=0.004\n",
    "                    , color='k'\n",
    "                    , transform=ccrs.PlateCarree() \n",
    "                    )\n",
    "\n",
    "gl = ax.gridlines(crs=ccrs.PlateCarree(), draw_labels=True,\n",
    "                  linewidth=2, color='gray', alpha=0.5, linestyle='--')\n",
    "gl.top_labels = False\n",
    "gl.right_labels = False\n",
    "gl.xformatter = LONGITUDE_FORMATTER\n",
    "gl.yformatter = LATITUDE_FORMATTER\n",
    "\n",
    "cbar_ax = fig.add_axes([0.95, 0.3, 0.02, 0.4])\n",
    "cbar = fig.colorbar(cf1, cax=cbar_ax, fraction=0.04)\n",
    "cbar.ax.tick_params(labelsize=14)\n",
    "cbar.ax.set_title('[dBZ]', fontsize=14, y=-0.1)\n"
   ]
  },
  {
   "cell_type": "markdown",
   "id": "a032523e-a99c-445f-9acd-c67456c63995",
   "metadata": {},
   "source": [
    "### Congratulations! You have successfully completed the LROSE Wind tutorial. There are other options to set in both FRACTL and SAMURAI, but the steps and parameters in this tutorial can produce a good quality wind field in many cases. Be critical with your own analysis and feel free to reach out to the LROSE team for questions as you analyze your own data."
   ]
  },
  {
   "cell_type": "code",
   "execution_count": null,
   "id": "2ea54fb7-425d-4ee3-9c9c-3a4615585aa2",
   "metadata": {},
   "outputs": [],
   "source": []
  },
  {
   "cell_type": "markdown",
   "id": "c27eff72-e8d6-4099-a1cb-0fd3065cf3ce",
   "metadata": {},
   "source": [
    "# Appendix - additional SAMURAI parameters\n",
    "\n",
    "The following are optional parameters:\n",
    "---\n",
    "* **BACKGROUND SECTION**\n",
    "    * load_background [line 107]\n",
    "        * TRUE: A first guess of the analysis stored in the <code lang=\"bash\">samurai_Background.in</code> will be loaded. This can come from a model, sounding, or other data source if available. Most of the time it is not available so it should be set to FALSE.\n",
    "        * FALSE (default setting)\n",
    "    * adjust_background [line 132]\n",
    "        * TRUE: the background will be adjusted to satisfy the mass continuity and match the supplied data using a variational adjustment. Without this, it is just interpolated simply to the grid. \n",
    "* **OPERATION SECTION**\n",
    "    * mode [line 170]: The default mode is MODE_XYZ, which is Cartesian grid. You can run in cylindrical mode with MODE_RTZ. Stay tuned for more radar centric RTZ mode in the near future!\n",
    "    * preprocess_obs [line 219]\n",
    "        * TRUE: the raw data files will be preprocessed according to their file suffixes, and a <code lang=\"bash\">samurai_Observations.in</code> file will be generated.\n",
    "        * FALSE: SAMURAI will load the observations from the <code lang=\"bash\">samurai_Observations.in</code> file located in the data_directory. This is useful for generating fake data, or for saving some time if you already ran the preprocessing of lots of files.\n",
    "    * num_iterations [line 232]: SAMURAI has the ability to take the output analysis and use it as a first guess for another analysis. This can be useful to create a 'coarse' analysis, followed by a 'fine' analysis. It is very important to set the observation and background errors appropriately if you choose this option.\n",
    "* **BACKGROUND SECTION**\n",
    "    * ref_state [line 380]: a sounding file to define the hydrostatic reference state used in the analysis. The default is the Dunion (2011) moist tropical sounding file. The analysis is generally not sensitive to this sounding, as it is just used to provide a reference density field and fall speed relationships in most cases. If you are analyzing thermodynamic information or have a very different freezing level it may be useful to provide a more appropriate sounding. The file format is similar to that of WRF or CM1 idealized soundings.\n",
    "    * i_background_roi [line 402], j_background_roi [line 412]: These set the background radius of influence when loading a background field.\n",
    "* **RADAR SECTION**\n",
    "    * qr_variable [line 452]: In the default 'dbz' mode, the reflectivity is just interpolated and not included in the cost function minimization. If this is set to 'qr', then reflectivity is converted to liquid water using Z-M relationships defined in Gamache et al. (1993) and used as an additional variable in the cost function minimization. This is useful if you have other liquid water measurements to assimilate. Since this is a relatively simple Z-M it should be used with caution. \n",
    "    * dbz_pseudow_weight [line 516]: SAMURAI has the ability to set a 'soft' w=0 boundary condition at echo top, and setting this weight will determine how soft or hard that constraint is enforced. Usually a hard w=0 is enforced via the spline boundary conditions at the bottom and top of the domain, so this is optional. It can be useful if the vertical velocities are believed to be too strong at the top of the cloud.\n",
    "    * melting_zone_width [line 532], mixed_phase_dbz [line 540], rain_dbz [line 548]: SAMURAI has some basic terminal fall speed corrections that use reflectivity and Z-VT relationships. These parameters control which relationships are used depending on dbz and the height of the zero C level (which is determined from the reference sounding).\n",
    "* **BOUNDARY CONDITIONS SECTION**\n",
    "\n",
    "Available options are R0, R1T0, R1T1, R1T2, R2T10, R2T20, R3, and PERIODIC following Ooyama (2002). The default \"non\"- boundary condition (R0) adds a buffer set of gridpoints that are used to calculate the solution but are discarded for output. Different boundary conditions can be set on the left (L) or right (R) side of the domain for each variable and dimension. The most common option other than R0 would be R1T0 for vertical velocity (rhow = 0) at the surface and/or domain top. Periodic domains are only valid for the i and j dimension, but are available in both the XYZ and RTZ mode. Improved boundary conditions are currently in development.\n",
    "* **OBSERVATION ERRORS SECTION**\n",
    "\n",
    "Specified error is given in terms of a standard deviation, and is fixed for all observations from a particular instrument except radar. In the radar case, the spectrum width and elevation angle (proportional to terminal fall speed contribution) are used to define the error for each radar gate. A minimum error (radar_min_error) is also enforced.\n",
    "* **ITERATION DEPENDENT SECTION**\n",
    "    * mc_weight [line 1450]: specify the weight given to the mass continuity constraint. Default is set to 1, and is generally not recommended to change unless you have a good reason.\n",
    "    * i_filter_length [line 1546], j_filter_length [line 1558], k_filter_length [line 1570]\n",
    "     - Gaussian recursive filter is a low-pass filter. Smaller filter lengths retain more detail, and larger filter lengths smooth more. The general recommendation is 4, 4, 2, which removes features less than approximately 4dx, 4dy, and 2dz from the analysis.\n",
    "    * i_spline_cutoff [line 1582], j_spline_cutoff [line 1594], k_spline_cutoff [line 1606]\n",
    "     - Spline cutoff is implemented as a third derivative constraint on the cubic B-spline basis during the spline transform. It is a sharper filter than the Gaussian, roughly equivalent to a sixth order filter.\n",
    "    * i_max_wavenumber [line 1618], j_max_wavenumber [line 1630], k_max_wavenumber [line 1642]\n",
    "     - The Fourier spectral filter is the sharpest filter. It can be used for desired effects, such as explicitly removing high-wavenumber features in the spectral domain (usually for RTZ analysis), or for producing a 'mean' field by restricting to wavenumber zero."
   ]
  },
  {
   "cell_type": "code",
   "execution_count": null,
   "id": "e065864a-fa6e-45b3-84ff-95cbc85c305f",
   "metadata": {},
   "outputs": [],
   "source": []
  }
 ],
 "metadata": {
  "kernelspec": {
   "display_name": "Python 3 (ipykernel)",
   "language": "python",
   "name": "python3"
  },
  "language_info": {
   "codemirror_mode": {
    "name": "ipython",
    "version": 3
   },
   "file_extension": ".py",
   "mimetype": "text/x-python",
   "name": "python",
   "nbconvert_exporter": "python",
   "pygments_lexer": "ipython3",
   "version": "3.11.4"
  },
  "vscode": {
   "interpreter": {
    "hash": "31f2aee4e71d21fbe5cf8b01ff0e069b9275f58929596ceb00d14d90e3e16cd6"
   }
  }
 },
 "nbformat": 4,
 "nbformat_minor": 5
}
