{
 "cells": [
  {
   "cell_type": "markdown",
   "id": "0",
   "metadata": {},
   "source": [
    "# An Introduction to LROSE\n",
    "\n",
    "<img align=\"right\" width=\"200\" height=\"200\" src=\"../images/colette_rose.jpg\">\n",
    "<img align=\"right\" width=\"200\" height=\"200\" src=\"../images/LROSE_logo_small.png\">\n",
    "    \n",
    "The Lidar Radar Open Software Environment (LROSE) is an National Science Foundation (NSF) supported project to develop common software for the Lidar, Radar, and Profiler community based on collaborative, open source development.  The core package is being jointly developed by Colorado State University (CSU) and the Earth Observing Laboratory at the NSF National Center for Atmospheric Research (NSF NCAR/EOL). The current LROSE release is called Colette (a versatile climbing rose). \n",
    "\n",
    "More information on LROSE can be found on the [LROSE wiki](http://wiki.lrose.net/index.php/Main_Page).\n",
    "\n",
    "\n",
    "## Notebook Summary\n",
    "\n",
    "This notebook will cover the following:\n",
    "\n",
    "1. LROSE Overview\n",
    "2. LROSE on the Command Line\n",
    "3. LROSE Parameter Files\n",
    "4. Inspect the Data\n",
    "5. Format Conversion\n",
    "6. Simple Gridding\n",
    "7. Basic Data Display"
   ]
  },
  {
   "cell_type": "markdown",
   "id": "1",
   "metadata": {},
   "source": [
    "## LROSE Overview"
   ]
  },
  {
   "cell_type": "markdown",
   "id": "2",
   "metadata": {},
   "source": [
    "LROSE encompasses six key toolsets that define a core lidar/radar workflow: Convert, Display, QC, Grid, Echo, and Winds. Colette focuses on high-quality, well-tested, well-maintained and well-documented key applications as ‘building blocks’, allowing users to assemble trusted, reproducible workflows to accomplish more complex scientific tasks.\n",
    "\n",
    "### Installation\n",
    "\n",
    "LROSE is available for download through [GitHub](https://github.com/NCAR/lrose-core/). Installation is supported for Linux (source, packages) and Mac OS (source, Homebrew). Conda-forge development is underway.\n",
    "\n",
    "### LROSE Tutorials\n",
    "\n",
    "We're developing a Science Gateway where LROSE tools are installed on NSF's Jetstream2 supercomputer. The tutorials from that Gateway can also be found on GitHub. \n",
    "\n",
    "https://github.com/nsf-lrose/lrose-hub\n",
    "\n",
    "### Issues?\n",
    "\n",
    "For problems running LROSE or general questions, please reach out on the LROSE [forum](http://forum.lrose.net/). \n",
    "\n",
    "Please submit bugs on [GitHub](https://github.com/NCAR/lrose-core/). \n",
    "\n",
    "### Listserv\n",
    "\n",
    "We maintain a listserv to alert the LROSE community of new LROSE releases, workshops, and other general communication. Email traffic is generally minimal.\n",
    "\n",
    "https://lists.colostate.edu/cgi-bin/mailman/listinfo/lrose-users"
   ]
  },
  {
   "cell_type": "markdown",
   "id": "3",
   "metadata": {},
   "source": [
    "### Initialize python"
   ]
  },
  {
   "cell_type": "code",
   "execution_count": null,
   "id": "4",
   "metadata": {},
   "outputs": [],
   "source": [
    "import warnings\n",
    "\n",
    "warnings.filterwarnings(\"ignore\")\n",
    "\n",
    "import os\n",
    "import fsspec\n",
    "import glob\n",
    "import numpy as np\n",
    "import matplotlib.pyplot as plt\n",
    "import matplotlib.ticker as plticker\n",
    "from matplotlib.lines import Line2D\n",
    "import cartopy.crs as ccrs\n",
    "import cartopy.io.shapereader as shpreader\n",
    "import cartopy.geodesic as cgds\n",
    "from cartopy.mpl.gridliner import LONGITUDE_FORMATTER, LATITUDE_FORMATTER\n",
    "from cartopy import feature as cfeature\n",
    "import xarray as xr\n",
    "import pyart"
   ]
  },
  {
   "cell_type": "code",
   "execution_count": null,
   "id": "5",
   "metadata": {},
   "outputs": [],
   "source": [
    "# Set directory variable to call LROSE\n",
    "os.environ[\"LROSE_DIR\"] = \"/usr/local/lrose/bin\"\n",
    "\n",
    "# Set the URL and path to access the data on the cloud\n",
    "URL = \"https://js2.jetstream-cloud.org:8001/\"\n",
    "path = f\"pythia/radar/erad2024\"\n",
    "\n",
    "fs = fsspec.filesystem(\"s3\", anon=True, client_kwargs=dict(endpoint_url=URL))\n",
    "\n",
    "fs.glob(f\"{path}/20240522_MeteoSwiss_ARPA_Lombardia/Data/Cband/*\")\n",
    "\n",
    "files = fs.glob(\n",
    "    f\"{path}/20240522_MeteoSwiss_ARPA_Lombardia/Data/Cband/*.nc\"\n",
    ")  #### FIX PATH\n",
    "local_files = [\n",
    "    fsspec.open_local(\n",
    "        f\"simplecache::{URL}{i}\", s3={\"anon\": True}, filecache={\"cache_storage\": \".\"}\n",
    "    )\n",
    "    for i in files\n",
    "]"
   ]
  },
  {
   "cell_type": "code",
   "execution_count": null,
   "id": "6",
   "metadata": {},
   "outputs": [],
   "source": [
    "files[0]"
   ]
  },
  {
   "cell_type": "code",
   "execution_count": null,
   "id": "7",
   "metadata": {},
   "outputs": [],
   "source": [
    "# create a directory\n",
    "!mkdir -p ./raw\n",
    "\n",
    "# LROSE prefers files to have .nc extension, so create a softlink with the actual filename\n",
    "# We'll use the first file as an example!\n",
    "os.system(\"ln -sf \" + local_files[0] + \" ./raw/\" + files[0].split(\"/\")[-1])"
   ]
  },
  {
   "cell_type": "code",
   "execution_count": null,
   "id": "8",
   "metadata": {},
   "outputs": [],
   "source": [
    "!pwd"
   ]
  },
  {
   "cell_type": "markdown",
   "id": "9",
   "metadata": {},
   "source": [
    "## LROSE on the Command Line\n",
    "\n",
    "Each LROSE application has different command line options for running. To see all the available options, use the ```-h``` flag.\n",
    "\n",
    "\n",
    "```\n",
    "  RadxPrint -h\n",
    "```\n"
   ]
  },
  {
   "cell_type": "code",
   "execution_count": null,
   "id": "10",
   "metadata": {},
   "outputs": [],
   "source": [
    "# view the command line options\n",
    "!${LROSE_DIR}/RadxPrint -h"
   ]
  },
  {
   "cell_type": "markdown",
   "id": "11",
   "metadata": {},
   "source": [
    "## LROSE Parameter Files\n",
    "\n",
    "All LROSE applications have a detailed parameter file, which is read in at startup. The parameters allow the user to control the processing in the LROSE apps. To generate a default parameter file, you use the -print_params option for the app.\n",
    "\n",
    "For example, for RadxConvert you would use:\n",
    "\n",
    "```\n",
    "  RadxConvert -print_params > RadxConvert.nexrad\n",
    "```\n",
    "\n",
    "and then edit RadxConvert.nexrad appropriately.\n",
    "\n",
    "At runtime you would use:\n",
    "\n",
    "```\n",
    "  RadxConvert -params RadxConvert.nexrad ... etc ...\n",
    "```"
   ]
  },
  {
   "cell_type": "code",
   "execution_count": null,
   "id": "12",
   "metadata": {},
   "outputs": [],
   "source": [
    "# view the default parameters\n",
    "!${LROSE_DIR}/RadxPrint -print_params"
   ]
  },
  {
   "cell_type": "code",
   "execution_count": null,
   "id": "13",
   "metadata": {},
   "outputs": [],
   "source": [
    "# save the default parameters to a file\n",
    "!${LROSE_DIR}/RadxPrint -print_params > ./RadxPrint_params\n",
    "\n",
    "# if you have an existing parameter file and want to update it (e.g., a new LROSE version is released),\n",
    "# you could run a command similar to the following, just update the parameter file names\n",
    "# !${LROSE_DIR}/RadxPrint -f ./path/to/RadxPrint_params -print_params > ./RadxPrint_params_new"
   ]
  },
  {
   "cell_type": "code",
   "execution_count": null,
   "id": "14",
   "metadata": {},
   "outputs": [],
   "source": [
    "# View the param file\n",
    "!cat ./RadxPrint_params"
   ]
  },
  {
   "cell_type": "markdown",
   "id": "15",
   "metadata": {},
   "source": [
    "## Inspect the Data\n",
    "\n",
    "RadxPrint can print out file metadata, information about the variables, and other data. It's an alternative to ncdump, depending on the information you want."
   ]
  },
  {
   "cell_type": "code",
   "execution_count": null,
   "id": "16",
   "metadata": {},
   "outputs": [],
   "source": [
    "# Print the metadata for the file we linked to earlier (-f flag links to files)\n",
    "!${LROSE_DIR}/RadxPrint -f ./raw/*.nc"
   ]
  },
  {
   "cell_type": "code",
   "execution_count": null,
   "id": "17",
   "metadata": {},
   "outputs": [],
   "source": [
    "# Examine ray-specific metadata\n",
    "!${LROSE_DIR}/RadxPrint -summary -f ./raw/*.nc | tail -200"
   ]
  },
  {
   "cell_type": "markdown",
   "id": "18",
   "metadata": {},
   "source": [
    "## Format Conversion\n",
    "\n",
    "RadxConvert can convert many different file types into CfRadial files, which are used by most LROSE applications. You can specify specific parameters in a parameter file, but most of the time, RadxConvert works with a simple command."
   ]
  },
  {
   "cell_type": "code",
   "execution_count": null,
   "id": "19",
   "metadata": {},
   "outputs": [],
   "source": [
    "# Convert file (already cfradial, but you get the idea)\n",
    "# this will create a new subdirectory called convert along with a subdirectory YYYYMMDD that contains the file\n",
    "!${LROSE_DIR}/RadxConvert -f ./raw/*.nc -outdir ./convert"
   ]
  },
  {
   "cell_type": "markdown",
   "id": "20",
   "metadata": {},
   "source": [
    "## Simple Gridding\n",
    "\n",
    "Another commonly-used applicated is Radx2Grid, which regrids data onto a Cartesian grid. Usually, a user will want to specify parameters in a parameter file, but for the sake of time, we'll just use the defaults to show how the application works."
   ]
  },
  {
   "cell_type": "code",
   "execution_count": null,
   "id": "21",
   "metadata": {},
   "outputs": [],
   "source": [
    "!${LROSE_DIR}/Radx2Grid -f ./convert/*/*.nc -outdir ./gridded"
   ]
  },
  {
   "cell_type": "markdown",
   "id": "22",
   "metadata": {},
   "source": [
    "## Basic Data Display\n",
    "\n",
    "With these files, we can plot the output to look at the data. Here, we'll use Py-ART to plot the data in the CfRadial file and xarray/matplotlib to plot the gridded data."
   ]
  },
  {
   "cell_type": "markdown",
   "id": "23",
   "metadata": {},
   "source": [
    "### Plotting CfRadial data with Py-ART"
   ]
  },
  {
   "cell_type": "code",
   "execution_count": null,
   "id": "24",
   "metadata": {},
   "outputs": [],
   "source": [
    "# Read CfRadial file into radar object\n",
    "filePath = os.path.join(\n",
    "    \"./\", \"convert/20240522/cfrad.20240522_125501.000_to_20240522_125944.950_L_SUR.nc\"\n",
    ")\n",
    "radar = pyart.io.read_cfradial(filePath)\n",
    "radar.info(\"compact\")"
   ]
  },
  {
   "cell_type": "code",
   "execution_count": null,
   "id": "25",
   "metadata": {},
   "outputs": [],
   "source": [
    "display = pyart.graph.RadarDisplay(radar)\n",
    "fig = plt.figure(1, (10, 10))\n",
    "\n",
    "# DBZ\n",
    "\n",
    "axDbz = fig.add_subplot(221)\n",
    "display.plot_ppi(\n",
    "    \"reflectivity\",\n",
    "    0,\n",
    "    vmin=-32,\n",
    "    vmax=64.0,\n",
    "    axislabels=(\"x(km)\", \"y(km)\"),\n",
    "    colorbar_label=\"DBZ\",\n",
    ")\n",
    "display.plot_range_rings([50, 100, 150, 200])\n",
    "display.plot_cross_hair(200.0)\n",
    "\n",
    "# velocity\n",
    "\n",
    "axKdp = fig.add_subplot(222)\n",
    "display.plot_ppi(\n",
    "    \"velocity\",\n",
    "    0,\n",
    "    vmin=-15,\n",
    "    vmax=15,\n",
    "    axislabels=(\"x(km)\", \"y(km)\"),\n",
    "    colorbar_label=\"velocity (m/s)\",\n",
    ")\n",
    "display.plot_range_rings([50, 100, 150, 200])\n",
    "display.plot_cross_hair(200.0)\n",
    "\n",
    "# spectrum width\n",
    "\n",
    "axHybrid = fig.add_subplot(223)\n",
    "display.plot_ppi(\n",
    "    \"spectrum_width\", 0, axislabels=(\"x(km)\", \"y(km)\"), colorbar_label=\"sw (m/s)\"\n",
    ")\n",
    "display.plot_range_rings([50, 100, 150, 200])\n",
    "display.plot_cross_hair(200.0)\n",
    "\n",
    "# NCAR PID (computed)\n",
    "\n",
    "axPID = fig.add_subplot(224)\n",
    "display.plot_ppi(\n",
    "    \"differential_reflectivity\",\n",
    "    0,\n",
    "    axislabels=(\"x(km)\", \"y(km)\"),\n",
    "    colorbar_label=\"ZDR (dB)\",\n",
    ")\n",
    "display.plot_range_rings([50, 100, 150, 200])\n",
    "display.plot_cross_hair(200.0)\n",
    "\n",
    "fig.tight_layout()\n",
    "plt.show()"
   ]
  },
  {
   "cell_type": "markdown",
   "id": "26",
   "metadata": {},
   "source": [
    "### Plotting Gridded Data with xarray and matplotlib"
   ]
  },
  {
   "cell_type": "code",
   "execution_count": null,
   "id": "27",
   "metadata": {},
   "outputs": [],
   "source": [
    "# Read in example radar mosaic for a single time\n",
    "\n",
    "filePathGridded = os.path.join(\"./\", \"gridded/20240522/ncf_20240522_125944.nc\")\n",
    "dsGridded = xr.open_dataset(filePathGridded)\n",
    "print(\"Radar mosaic file path: \", filePathGridded)\n",
    "print(\"Radar mosaic data set: \", dsGridded)\n",
    "\n",
    "# Compute time\n",
    "\n",
    "start_time = dsGridded[\"start_time\"]\n",
    "startTimeStr = start_time.dt.strftime(\"%Y/%m/%d-%H:%M:%S UTC\")[0].values\n",
    "print(\"Start time: \", startTimeStr)"
   ]
  },
  {
   "cell_type": "code",
   "execution_count": null,
   "id": "28",
   "metadata": {},
   "outputs": [],
   "source": [
    "minLonMosaic = 7\n",
    "maxLonMosaic = 11\n",
    "minLatMosaic = 44.5\n",
    "maxLatMosaic = 47\n",
    "\n",
    "\n",
    "# Create map for plotting lat/lon grids\n",
    "def new_map(fig):\n",
    "\n",
    "    ## Create projection centered on data\n",
    "    proj = ccrs.PlateCarree()\n",
    "\n",
    "    ## New axes with the specified projection:\n",
    "    ax = fig.add_subplot(1, 1, 1, projection=proj)\n",
    "\n",
    "    ## Set extent the same as radar mosaic\n",
    "    # ax.set_extent([minLonMosaic, maxLonMosaic, minLatMosaic, maxLatMosaic])\n",
    "\n",
    "    ## Add grid lines & labels:\n",
    "    gl = ax.gridlines(\n",
    "        crs=ccrs.PlateCarree(),\n",
    "        draw_labels=True,\n",
    "        linewidth=1,\n",
    "        color=\"lightgray\",\n",
    "        alpha=0.5,\n",
    "        linestyle=\"--\",\n",
    "    )\n",
    "    gl.top_labels = False\n",
    "    gl.left_labels = True\n",
    "    gl.right_labels = False\n",
    "    gl.xlines = True\n",
    "    gl.ylines = True\n",
    "    gl.xformatter = LONGITUDE_FORMATTER\n",
    "    gl.yformatter = LATITUDE_FORMATTER\n",
    "    gl.xlabel_style = {\"size\": 8, \"weight\": \"bold\"}\n",
    "    gl.ylabel_style = {\"size\": 8, \"weight\": \"bold\"}\n",
    "\n",
    "    return ax"
   ]
  },
  {
   "cell_type": "code",
   "execution_count": null,
   "id": "29",
   "metadata": {},
   "outputs": [],
   "source": [
    "# Plot column-max reflectivity\n",
    "figDbzComp = plt.figure(figsize=(8, 8), dpi=150)\n",
    "axDbzComp = new_map(figDbzComp)\n",
    "plt.imshow(\n",
    "    dsGridded[\"reflectivity\"].sel(z0=4.5).isel(time=0),\n",
    "    cmap=\"pyart_Carbone42\",\n",
    "    interpolation=\"bilinear\",\n",
    "    origin=\"lower\",\n",
    "    extent=([minLonMosaic, maxLonMosaic, minLatMosaic, maxLatMosaic]),\n",
    ")\n",
    "axDbzComp.add_feature(cfeature.BORDERS, linewidth=0.5, edgecolor=\"black\")\n",
    "axDbzComp.add_feature(cfeature.STATES, linewidth=0.3, edgecolor=\"brown\")\n",
    "# axDbzComp.coastlines('10m', 'darkgray', linewidth=1, zorder=0)\n",
    "plt.colorbar(label=\"DBZ\", orientation=\"vertical\", shrink=0.5)\n",
    "plt.title(\"Radar DBZ: \" + startTimeStr)"
   ]
  },
  {
   "cell_type": "markdown",
   "id": "30",
   "metadata": {},
   "source": [
    "### Hawkeye\n",
    "\n",
    "FIX LATER - add in pre-canned or command line image"
   ]
  },
  {
   "cell_type": "code",
   "execution_count": null,
   "id": "31",
   "metadata": {},
   "outputs": [],
   "source": [
    "#!${LROSE_DIR}/HawkEye -params hawkeye_auto_gen_images.params -f ./convert/*/*.nc"
   ]
  },
  {
   "cell_type": "markdown",
   "id": "32",
   "metadata": {},
   "source": [
    "# Afternoon preview\n",
    "\n",
    "Want to learn how to run multi-Doppler analysis using FRACTL and SAMURAI? Join us in the afternoon!\n",
    "\n",
    "### Additional resources\n",
    "\n",
    "More tutorials can be found on our Gateway GitHub repo: \n",
    "https://github.com/nsf-lrose/lrose-hub\n",
    "\n",
    "The LROSE wiki can be found here:\n",
    "http://wiki.lrose.net/index.php/Main_Page#\n",
    "\n",
    "The LROSE forum can be found here:\n",
    "http://forum.lrose.net/\n"
   ]
  },
  {
   "cell_type": "code",
   "execution_count": null,
   "id": "33",
   "metadata": {},
   "outputs": [],
   "source": []
  }
 ],
 "metadata": {
  "language_info": {
   "codemirror_mode": {
    "name": "ipython",
    "version": 3
   },
   "file_extension": ".py",
   "mimetype": "text/x-python",
   "name": "python",
   "nbconvert_exporter": "python",
   "pygments_lexer": "ipython3",
   "version": "3.9.16"
  }
 },
 "nbformat": 4,
 "nbformat_minor": 5
}
