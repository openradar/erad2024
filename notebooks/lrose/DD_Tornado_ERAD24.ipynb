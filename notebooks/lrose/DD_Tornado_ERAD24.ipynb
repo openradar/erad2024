{
 "cells": [
  {
   "cell_type": "markdown",
   "id": "0",
   "metadata": {},
   "source": [
    "# MULTI DOPPLER ANALYSIS \n",
    "## COURSE: Open Radar - Open Source Software Tools for Radar Data Processing \n",
    "### ERAD - Rome, 9-13 September 2024\n",
    "\n",
    "This notebook contains some high-level literature background for the multi-doppler analysis exercise at ERAD 2024.\n",
    "\n",
    "**Data acknowledgment**: The data for the case used in the exercise is provided by the Meteorological Service of Catalonia. \n",
    "<figure>\n",
    "  <img src=\"../images/logo.png\" alt=\"Dual Doppler\" width=\"150\"/>\n",
    "</figure>"
   ]
  },
  {
   "cell_type": "markdown",
   "id": "1",
   "metadata": {},
   "source": [
    "### Multi Doppler analysis\n",
    "\n",
    "Multi-Doppler analysis consists on obtaining 3D wind fields using the radial observed velocity from two or more independent (non-collinearly located) Doppler radars.\n",
    "Techniques using Cylindrical and Cartesian coordinates systems are explained in Armijo 1969, Ray and Wagner 1976, and Ray and Sangren 1983, for instance.\n",
    "The mean radial velocity from every single radar is related to the rectangular components of the mean velocity ($u$,$v$, and $w$) through the azimuth ($\\phi$), and elevation ($\\epsilon$) angles (Fig.1)."
   ]
  },
  {
   "cell_type": "markdown",
   "id": "2",
   "metadata": {},
   "source": [
    "<figure>\n",
    "  <img src=\"../images/Fig1.png\" alt=\"Dual Doppler\" width=\"500\"/>\n",
    "  <figcaption> Fig 1: Dual-Doppler Cartesian geometry from two radars. Adapted from Rauber and Nesbitt (2018).</figcaption>\n",
    "</figure>"
   ]
  },
  {
   "cell_type": "markdown",
   "id": "3",
   "metadata": {},
   "source": [
    "It is possible to obtain a unique solution for the horizontal and vertical velocities at a given point by combining the radial velocities in a closed equation system (more than two radars), or by applying boundary conditions on the vertical velocity and the terminal velocity of the hydrometeors ($w_t$), and integrating the mass continuity equation (Miller and Strauch, 1974):\n",
    "\n",
    "$$\n",
    "  V_r = u\\cdot sin(\\phi) cos(\\epsilon) + v \\cdot cos(\\phi) cos(\\epsilon) +(w + w_t) sin(\\epsilon)\n",
    "$$ \n",
    "\n",
    "$$\n",
    "  - \\frac{\\partial \\rho w}{\\partial z} = \\frac{\\partial \\rho u}{\\partial x} + \\frac{\\partial \\rho v }{\\partial y}\n",
    "$$ \n",
    "  \n"
   ]
  },
  {
   "cell_type": "markdown",
   "id": "4",
   "metadata": {},
   "source": [
    "### Dual Doppler coverage (2 radars)\n",
    "<div class=\"alert alert-block alert-info\">\n",
    "<b>Keep in mind:</b> The accuracy of our analysis (retrieving $u$,$v$, and $w$) is strongly dependent on geometric configuration and radar spatial resolution.\n",
    "</div>"
   ]
  },
  {
   "cell_type": "markdown",
   "id": "5",
   "metadata": {},
   "source": [
    "We want our storm to be placed in the \"optimal area\" region, for which we need to know what is our Dual Doppler coverage and the optimal spatial resolution to resolve storm-related winds.\n",
    "\n",
    "These are some things to consider:\n",
    "\n",
    "- The variance on the horizontal wind field is represented by the standard deviation of the local $u$ and $v$ components of the wind: $\\sigma^{2}_u$ and $\\sigma^{2}_v$.\n",
    "\n",
    "- The variance of the radial velocity from each radar (spectral width) is represented by $\\sigma^{2}_1$ and $\\sigma^{2}_2$.\n",
    "\n",
    "- Both variances represent the beam-crossing angle between the two radars ($\\beta$), and consequently the \"dual-Doppler lobes\":\n",
    "$$ \n",
    "\\frac{\\sigma^{2}_u + \\sigma^{2}_v}{\\sigma^{2}_1 + \\sigma^{2}_2} = \\sin^{-2}\\beta\n",
    "$$"
   ]
  },
  {
   "cell_type": "markdown",
   "id": "6",
   "metadata": {},
   "source": [
    "<div class=\"alert alert-block alert-info\">\n",
    "<b> Note: </b> The dual lobes define the points on which the beams of both radars intersect at an angle $\\beta$, and where equal values of the geometric error of the horizontal wind field fall.\n",
    "</div>\n",
    "Literature demonstrates that $\\beta$=30º is one of the most suitable ones (e.g. Davies-Jones, 1979; Lhermitt and Miller, 1970; Friedrich and Hagen, 2004). This  keeps the horizontal wind error below 3 m/s ($\\sigma^{2}_u$ and $\\sigma^{2}_v$) in convective situations*.\n",
    "The dual lobes centers are located perpendicular to the bisection of the baseline ($b$). The baseline is the distance separating the two radars (Fig. 2). \n",
    "The dual-lobes area is defined by:\n",
    "$$\n",
    "  A(\\beta) = 2 (\\frac{b}{2}\\csc \\beta )^{2} (\\pi -2\\beta +\\sin 2\\beta )\n",
    "$$"
   ]
  },
  {
   "cell_type": "markdown",
   "id": "7",
   "metadata": {},
   "source": [
    "<figure>\n",
    "  <img src=\"../images/Fig2.png\" alt=\"Dual Doppler\" width=\"500\"/>\n",
    "  <figcaption> Fig 2: Dual-Doppler configuration with beam crossing angle ($\\beta$), in black, and constant spatial resolution (s) for a beamwidht of 1.2° and a baseline b = 47.33 km. Adapted from (Davies-Jones, 1979)</figcaption>\n",
    "</figure>"
   ]
  },
  {
   "cell_type": "markdown",
   "id": "8",
   "metadata": {},
   "source": [
    "Finally, it is also important to consider the spatial resolution $s$.\n",
    "\n",
    "The paired radars must be able to resolve horizontal scales below 3-6 km. This compromises the beam-crossing angle $\\beta$ and the baseline $b$. If $b$ is too big, the data will degrade at the edges of the dual lobes due to the beam spread and elevation.\n",
    "\n",
    "We will consider that the spatial resolution $s$ is proportional to the range $R$, and approximately to the beam height:\n",
    "\n",
    "$$\n",
    "s=\\frac{R\\pi \\Delta }{180}\n",
    "$$\n",
    "\n",
    "where $\\Delta$ is half of the beam width and 180º is expressed in degrees (Davies-Jones, 1979).\n",
    "\n",
    "The area representing the region where points are at a distance $R$, with a spatial resolution $s$ for 0º beam height is described in the following equation: \n",
    "\n",
    "$$ \n",
    "A(R)=2R^{2} \\cos ^{-1} \\left\\{ \\frac{b}{2R} -\\frac{b}{2R} \\left[ 1- ( \\frac{b}{2R} )^{2} \\right]^{1/2} \\right\\}\n",
    "$$\n"
   ]
  },
  {
   "cell_type": "markdown",
   "id": "9",
   "metadata": {},
   "source": [
    "<div class=\"alert alert-block alert-info\">\n",
    "<b> Note: </b> To retrieve the best wind estimates, there must exist a compromise between the area that we can cover with the optimum dual-lobe and the area in which we can correctly solve the thunderstorms because of the resolution. This constitutes the intersection of both areas and depends on the radar beam width and the maximum resolution desired.\n",
    "</div>\n"
   ]
  },
  {
   "cell_type": "markdown",
   "id": "10",
   "metadata": {},
   "source": [
    "### Case of analysis: Tornado in Catalonia -  Jan 7, 2018\n",
    " \n",
    " #### Dual Doppler coverage in Catalonia\n",
    " \n",
    "The XRAD (Xarxa de RADars) is the radar network of the Meteorological Service of Catalonia (NE of Spain). The network is formed by four C-band single-Doppler radars, covering an area of ~ 32,114 km$^{2}$ with complex terrain.\n",
    "\n",
    "Del Moral Méndez 2020, and del Moral Méndez et al., 2020 explore the possible dual-Doppler coverage for the operational XRAD network and establish that with a maximum resolution of 2 km at the farthest point, and with 320deg dual-lobes, CDV-PBE and CDV-LMI are the two most suitable pairs of radars for dual-Doppler analysis.\n",
    "\n",
    "The two radars selected to analyse the tornado case are CDV-PBE, and the coverage  is represeted in Fig. 3 (right). Notice that the \"optimal area\" is the intersection of the desired dual-lobe and the optimal resolution area. In this case, these two are the same.\n",
    "For this case and radar configuration, the baseline $b$ is 47.33 km, the farthest point is located at 94.66 km with a minimum resolution of 1.98 km. The lobes cover a total area of 13.30$^{3}$ km$^3$ and with only 0.61% of topography blockage (del Moral et al. 2020)\n",
    "\n",
    "<figure>\n",
    "  <img src=\"../images/Fig3.png\" alt=\"Dual Doppler\" width=\"450\"/> <img src=\"../images/Fig4.png\" alt=\"Dual Doppler\" width=\"456\"/>\n",
    "  <figcaption> Fig 3: Dual-Doppler coverage for the CDV-PBE and CDV-LMI pairs of radars (in\n",
    "red). The 30° dual-lobe is shown in dotted black circles.</figcaption>\n",
    "</figure>\n"
   ]
  },
  {
   "cell_type": "markdown",
   "id": "11",
   "metadata": {},
   "source": [
    " #### Tornado track \n",
    "The severe weather event on 6-7 January 2018 occurred outside the convective season in the northwestern Mediterranean.\n",
    "Several rain bands with a predominant southeasterly flow affected the area. Within those bands, embedded convective cells produced severe weather, causing two significant tornadoes, both rated EF2.\n",
    "The tornado in the central region of Catalonia was the result of a nocturnal supercell propagating NW and channeling through a narrow valley, and achieving speeds up tp 180 km/h with a 500 m diameter.\n",
    "\n",
    " <figure>\n",
    "  <img src=\"../images/Fig5.png\" alt=\"Dual Doppler\" width=\"500\"/> \n",
    "  <figcaption> Fig 4: Track of the nocturnal winter storm that produced the tornado on Central Catalonia on 7 January 2018. Part of the 30° CDV-PBE pair dual lobes is depicted in the dotted lines. Dots indicate supercell centroid times labeled in UTC.</figcaption>\n",
    "</figure>"
   ]
  },
  {
   "cell_type": "markdown",
   "id": "12",
   "metadata": {},
   "source": [
    "Figure 5 shows the CDV radar reflectivity and radial velocity fields for the tornado on January 7, 2018, depicting a hook echo and a mesocyclone, respectively. This is the timestep we will analyse with SAMURAI.\n",
    "\n",
    " <figure>\n",
    "  <img src=\"../images/Fig6.png\" alt=\"Dual Doppler\" width=\"800\"/> \n",
    "  <figcaption> Fig 5: (a) Reflectivity (dBZ) and (b) doppler velocity (m/s) for the supercell case on 7 January 2018 at 0042UTC and 2° elevation angle. </figcaption>\n",
    "</figure>"
   ]
  },
  {
   "cell_type": "markdown",
   "id": "13",
   "metadata": {},
   "source": [
    "### References:\n",
    "- Armijo, L., 1967. A theory for the determination of wind and precipitation velocities with Doppler radars (Vol. 35). Institutes for Environmental Research, National Severe Storms Laboratory\n",
    "- Davies-Jones, R.P., 1979. Dual-Doppler radar coverage area as a function of measurement accuracy and spatial resolution. Journal of Applied Meteorology (1962-1982), pp.1229-1233\n",
    "- del Moral Méndez, A., 2020. Radar-based nowcasting of severe thunderstorms: A better understanding of the dynamical influence of complex topography and the sea\n",
    "- del Moral Méndez, A.D., Weckwerth, T.M., Rigo, T., Bell, M.M. and Llasat Botija, M.D.C., 2020. C-Band Dual-Doppler Retrievals in Complex Terrain: Improving the Knowledge of Severe Storm Dynamics in Catalonia. Remote Sensing, 2020, vol. 12, num. 18, p. 2930\n",
    "- Friedrich, K. and Hagen, M., 2004. On the use of advanced Doppler radar techniques to determine horizontal wind fields for operational weather surveillance. Meteorological Applications, 11(2), pp.155-171\n",
    "- Lhermitte, R.M. and Miller, L.J., 1970. Doppler radar methodology for the observation of convective storms\n",
    "- Miller, L.J. and Strauch, R.G., 1974. A dual Doppler radar method for the determination of wind velocities within precipitating weather systems. Remote Sensing of Environment, 3(4), pp.219-235\n",
    "- Rauber, R.M. and Nesbitt, S.W., 2018. Radar meteorology: A first course. John Wiley & Sons\n",
    "- Ray, P.S. and Sangren, K.L., 1983. Multiple-Doppler radar network design. Journal of climate and applied meteorology, pp.1444-1454\n",
    "- Ray, P.S. and Wagner, K.K., 1976. Multiple Doppler radar observations of storms. Geophysical Research Letters, 3(3), pp.189-191\n",
    "\n",
    "    \n",
    "    \n",
    "    "
   ]
  }
 ],
 "metadata": {
  "language_info": {
   "codemirror_mode": {
    "name": "ipython",
    "version": 3
   },
   "file_extension": ".py",
   "mimetype": "text/x-python",
   "name": "python",
   "nbconvert_exporter": "python",
   "pygments_lexer": "ipython3",
   "version": "3.11.4"
  }
 },
 "nbformat": 4,
 "nbformat_minor": 5
}
