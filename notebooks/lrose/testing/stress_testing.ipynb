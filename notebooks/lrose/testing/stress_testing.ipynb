{
 "cells": [
  {
   "cell_type": "code",
   "execution_count": null,
   "id": "0",
   "metadata": {},
   "outputs": [],
   "source": [
    "# grab data\n",
    "\n",
    "import os\n",
    "import fsspec\n",
    "\n",
    "#### Need to modify later\n",
    "os.environ[\"LROSE_DIR\"] = \"/usr/local/lrose/bin\"\n",
    "\n",
    "# Set the URL and path to access the data on the cloud\n",
    "URL = \"https://js2.jetstream-cloud.org:8001/\"\n",
    "path = f\"pythia/radar/erad2024\"\n",
    "\n",
    "fs = fsspec.filesystem(\"s3\", anon=True, client_kwargs=dict(endpoint_url=URL))\n",
    "\n",
    "fs.glob(f\"{path}/lrose/*/*.nc\")\n",
    "\n",
    "files = fs.glob(f\"{path}/lrose/*/*.nc\")  # paths .../lrose/CDV_0042, .../lrose/PBE_004\n",
    "local_files = [\n",
    "    fsspec.open_local(\n",
    "        f\"simplecache::{URL}{i}\", s3={\"anon\": True}, filecache={\"cache_storage\": \".\"}\n",
    "    )\n",
    "    for i in files\n",
    "]"
   ]
  },
  {
   "cell_type": "code",
   "execution_count": null,
   "id": "1",
   "metadata": {},
   "outputs": [],
   "source": [
    "# make subdirectory for fractl input (samurai already exists with center and terrain files)\n",
    "#!mkdir -p ./fractl_input\n",
    "\n",
    "# create SAMURAI output directory\n",
    "!mkdir -p ./output_sam\n",
    "\n",
    "# create FRACTL output directory\n",
    "#!mkdir -p ./output_frac\n",
    "\n",
    "# create links to cfradial files for fractl and rsync for SAMURAI (having issues with links)\n",
    "for i in range(len(local_files)):\n",
    "#    os.system('ln -sf '+local_files[i]+' ./fractl_input/'+files[i].split('/')[-1])\n",
    "    os.system('rsync -av '+local_files[i]+' ./samurai_input/'+files[i].split('/')[-1])\n",
    "\n"
   ]
  },
  {
   "cell_type": "code",
   "execution_count": null,
   "id": "2",
   "metadata": {},
   "outputs": [],
   "source": [
    "# run fractl if desired\n",
    "#!${LROSE_DIR}/fractl -params ./lrose_params/fractl_params"
   ]
  },
  {
   "cell_type": "code",
   "execution_count": null,
   "id": "3",
   "metadata": {},
   "outputs": [],
   "source": [
    "# run samurai\n",
    "!${LROSE_DIR}/samurai -params ./lrose_params/samurai_params"
   ]
  },
  {
   "cell_type": "code",
   "execution_count": null,
   "id": "4",
   "metadata": {},
   "outputs": [],
   "source": []
  }
 ],
 "metadata": {
  "language_info": {
   "codemirror_mode": {
    "name": "ipython",
    "version": 3
   },
   "file_extension": ".py",
   "mimetype": "text/x-python",
   "name": "python",
   "nbconvert_exporter": "python",
   "pygments_lexer": "ipython3",
   "version": "3.9.16"
  }
 },
 "nbformat": 4,
 "nbformat_minor": 5
}
