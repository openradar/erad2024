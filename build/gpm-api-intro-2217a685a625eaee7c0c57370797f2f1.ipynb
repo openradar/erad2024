{
 "cells": [
  {
   "cell_type": "markdown",
   "id": "0",
   "metadata": {},
   "source": [
    "# Introduction to GPM-API"
   ]
  },
  {
   "cell_type": "markdown",
   "id": "1",
   "metadata": {},
   "source": [
    "In this tutorial, we will provide the foundations to use GPM-API to download, manipulate and analyze data from the Global Precipitation Measurement (GPM) spaceborne radars.\n",
    "\n",
    "\n",
    "Please note that GPM-API also enable access and analysis tools for the entire GPM constellation of passive microwave sensors as well as the IMERG precipitation products.\n",
    "For detailed information and additional tutorials, please refer to the [official GPM-API documentation](https://gpm-api.readthedocs.io/en/latest/).\n"
   ]
  },
  {
   "cell_type": "markdown",
   "id": "2",
   "metadata": {},
   "source": [
    "First, let's import the package required in this tutorial."
   ]
  },
  {
   "cell_type": "code",
   "execution_count": null,
   "id": "3",
   "metadata": {},
   "outputs": [],
   "source": [
    "import datetime\n",
    "import gpm\n",
    "import numpy as np\n",
    "import ximage  # noqa\n",
    "import xarray as xr\n",
    "from xarray.backends.api import open_datatree\n",
    "import matplotlib.pyplot as plt\n",
    "import cartopy.crs as ccrs\n",
    "from gpm.utils.geospatial import (\n",
    "    get_country_extent,\n",
    "    get_geographic_extent_around_point,\n",
    "    get_circle_coordinates_around_point,\n",
    ")\n",
    "from gpm.utils.gv import volume_matching"
   ]
  },
  {
   "cell_type": "markdown",
   "id": "4",
   "metadata": {},
   "source": [
    "Using the `available_products` function, users can obtain a list of all GPM products that can be downloaded and opened into CF-compliant xarray datasets."
   ]
  },
  {
   "cell_type": "code",
   "execution_count": null,
   "id": "5",
   "metadata": {},
   "outputs": [],
   "source": [
    "gpm.available_products(product_types=\"RS\")  # research products"
   ]
  },
  {
   "cell_type": "markdown",
   "id": "6",
   "metadata": {},
   "source": [
    "Let's have a look at the available RADAR products:"
   ]
  },
  {
   "cell_type": "code",
   "execution_count": null,
   "id": "7",
   "metadata": {},
   "outputs": [],
   "source": [
    "gpm.available_products(product_categories=\"RADAR\", product_levels=\"1B\")"
   ]
  },
  {
   "cell_type": "code",
   "execution_count": null,
   "id": "8",
   "metadata": {},
   "outputs": [],
   "source": [
    "gpm.available_products(product_categories=\"RADAR\", product_levels=\"2A\")"
   ]
  },
  {
   "cell_type": "markdown",
   "id": "9",
   "metadata": {},
   "source": [
    "In this tutorial, we will use the `2A-DPR` product which provides the GPM Dual-frequency Precipitation Radar (DPR) reflectivities and associated precipitation retrievals. \n",
    "\n",
    "Since we are running this tutorial on a Binder environment, we will not execute the following `gpm.download` and `gpm.open_dataset` sections, and directly load the `2A.GPM.DPR.V9-20211125.20230820-S213941-E231213.053847.V07B.HDF5` granule file,  \n",
    "which has been preconverted to a Zarr Store and uploaded on the Pythia Cloud Bucket to simplify access to the data."
   ]
  },
  {
   "cell_type": "markdown",
   "id": "10",
   "metadata": {},
   "source": [
    "## 1. Download Data"
   ]
  },
  {
   "cell_type": "markdown",
   "id": "11",
   "metadata": {},
   "source": [
    "Now let's download the 2A-DPR product over a couple of hours.\n",
    "\n",
    "To download GPM data with GPM-API, you have to previously create a [NASA Earthdata](https://urs.earthdata.nasa.gov/) and/or [NASA PPS](https://registration.pps.eosdis.nasa.gov/registration/) account.\n",
    "We provide a step-by-step guide on how to set up your accounts in the [official GPM-API documentation](https://gpm-api.readthedocs.io/en/latest/03_quickstart.html)."
   ]
  },
  {
   "cell_type": "code",
   "execution_count": null,
   "id": "12",
   "metadata": {},
   "outputs": [],
   "source": [
    "# Specify the time period you are interested in\n",
    "start_time = datetime.datetime.strptime(\"2023-08-20 22:12:00\", \"%Y-%m-%d %H:%M:%S\")\n",
    "end_time = datetime.datetime.strptime(\"2023-08-20 22:13:45\", \"%Y-%m-%d %H:%M:%S\")\n",
    "# Specify the product and product type\n",
    "product = \"2A-DPR\"  # 2A-PR\n",
    "product_type = \"RS\"\n",
    "storage = \"GES_DISC\"\n",
    "# Specify the version\n",
    "version = 7"
   ]
  },
  {
   "cell_type": "code",
   "execution_count": null,
   "id": "13",
   "metadata": {},
   "outputs": [],
   "source": [
    "# Download the data\n",
    "gpm.download(\n",
    "    product=product,\n",
    "    product_type=product_type,\n",
    "    version=version,\n",
    "    start_time=start_time,\n",
    "    end_time=end_time,\n",
    "    storage=storage,\n",
    "    force_download=False,\n",
    "    verbose=True,\n",
    "    progress_bar=True,\n",
    "    check_integrity=False,\n",
    ")"
   ]
  },
  {
   "cell_type": "markdown",
   "id": "14",
   "metadata": {},
   "source": [
    "Once, the data are downloaded on disk, let's load the 2A-DPR product and look at the dataset structure."
   ]
  },
  {
   "cell_type": "markdown",
   "id": "15",
   "metadata": {},
   "source": [
    "## 2. Load Data"
   ]
  },
  {
   "cell_type": "markdown",
   "id": "16",
   "metadata": {},
   "source": [
    "With GPM-API, the name granule is used to refer to a single file, while the name dataset is used to refer to a collection of granules.\n",
    "\n",
    "GPM-API enables to open single or multiple granules into an xarray.Dataset, an object designed for working with labeled multi-dimensional arrays.\n",
    "\n",
    "- The `gpm.open_granule(filepath)` opens a single file into xarray by providing the path of the file of interest.\n",
    "\n",
    "- The `gpm.open_dataset` function enables to open a collection of granules over a period of interest."
   ]
  },
  {
   "cell_type": "code",
   "execution_count": null,
   "id": "17",
   "metadata": {},
   "outputs": [],
   "source": [
    "# Load the 2A-DPR dataset\n",
    "ds = gpm.open_dataset(\n",
    "    product=product,\n",
    "    product_type=product_type,\n",
    "    version=version,\n",
    "    start_time=start_time,\n",
    "    end_time=end_time,\n",
    ")\n",
    "ds"
   ]
  },
  {
   "cell_type": "markdown",
   "id": "18",
   "metadata": {},
   "source": [
    "Here we directly read the data required for this tutorial from the Pythia Cloud Bucket so that you don't have to register a NASA account and download the data beforehand."
   ]
  },
  {
   "cell_type": "code",
   "execution_count": null,
   "id": "19",
   "metadata": {},
   "outputs": [],
   "source": [
    "filepath_sr = \"/home/ghiggi/data/bucket/2A.GPM.DPR.V9-20211125.20230820-S213941-E231213.053847.V07B.zarr\"\n",
    "ds = xr.open_zarr(filepath_sr)\n",
    "ds"
   ]
  },
  {
   "cell_type": "markdown",
   "id": "20",
   "metadata": {},
   "source": [
    "## 3. Basic Manipulations"
   ]
  },
  {
   "cell_type": "markdown",
   "id": "21",
   "metadata": {},
   "source": [
    "You can list variables, coordinates and dimensions with the following methods:"
   ]
  },
  {
   "cell_type": "code",
   "execution_count": null,
   "id": "22",
   "metadata": {},
   "outputs": [],
   "source": [
    "# Available variables\n",
    "print(\"Available variables: \", list(ds.data_vars))\n",
    "# Available coordinates\n",
    "print(\"Available coordinates: \", list(ds.coords))\n",
    "# Available dimensions\n",
    "print(\"Available dimensions: \", list(ds.dims))\n",
    "# Spatial dimension:\n",
    "print(\"Spatial dimensions: \", ds.gpm.spatial_dimensions)\n",
    "# Vertical dimension:\n",
    "print(\"Vertical dimension: \", ds.gpm.vertical_dimension)"
   ]
  },
  {
   "cell_type": "markdown",
   "id": "23",
   "metadata": {},
   "source": [
    "Through the use of the xarray `gpm` accessor, you can access various methods that simplify for example the listing of variables according to their dimensions.\n",
    "\n",
    "For example, using `ds.gpm.spatial_3d_variables` you can list all dataset variables with spatial horizontal and vertical dimensions, while with \n",
    "`ds.gpm.spatial_2d_variables` you can list all dataset variables with only spatial horizontal dimensions. \n",
    "\n",
    "To directly obtain a dataset with the variables of interest, you can also call the `ds.gpm.select_spatial_2d_variables` or `ds.gpm.select_spatial_3d_variables`  methods.\n",
    "\n",
    "Please keep in mind that to create a spatial map, it is necessary to select spatial 2D variables, while for extracting vertical cross-sections it is necessary to slice across spatial 3D variables."
   ]
  },
  {
   "cell_type": "code",
   "execution_count": null,
   "id": "24",
   "metadata": {},
   "outputs": [],
   "source": [
    "print(ds.gpm.spatial_2d_variables)\n",
    "ds.gpm.select_spatial_2d_variables()"
   ]
  },
  {
   "cell_type": "code",
   "execution_count": null,
   "id": "25",
   "metadata": {},
   "outputs": [],
   "source": [
    "print(ds.gpm.spatial_3d_variables)\n",
    "ds.gpm.select_spatial_3d_variables()"
   ]
  },
  {
   "cell_type": "markdown",
   "id": "26",
   "metadata": {},
   "source": [
    "Some variables also have a frequency dimension. You can list or subset such variables using `ds.gpm.frequency_variables` and `ds.gpm.'select_frequency_variables` respectively."
   ]
  },
  {
   "cell_type": "code",
   "execution_count": null,
   "id": "27",
   "metadata": {},
   "outputs": [],
   "source": [
    "print(ds.gpm.frequency_variables)\n",
    "ds.gpm.select_frequency_variables()"
   ]
  },
  {
   "cell_type": "markdown",
   "id": "28",
   "metadata": {},
   "source": [
    "Using the `ds.gpm.bin_variables` or `ds.gpm.select_bin_variables` you can instead list or select the variables that contains \"pointers\" to specific radar gates. \n",
    "The bin variables are useful to slice or extract data across the \"range\" dimension of the dataset.\n",
    "Bin variables values range from 1 (the ellipsoid surface) to the size of the `range` dimension (in the upper atmosphere). "
   ]
  },
  {
   "cell_type": "code",
   "execution_count": null,
   "id": "29",
   "metadata": {},
   "outputs": [],
   "source": [
    "print(ds.gpm.bin_variables)\n",
    "ds.gpm.select_bin_variables()"
   ]
  },
  {
   "cell_type": "markdown",
   "id": "30",
   "metadata": {},
   "source": [
    "To select the DataArray corresponding to a single variable you do:"
   ]
  },
  {
   "cell_type": "code",
   "execution_count": null,
   "id": "31",
   "metadata": {},
   "outputs": [],
   "source": [
    "variable = \"precipRateNearSurface\"\n",
    "da = ds[variable]\n",
    "print(\" Array Class: \", type(da.data))\n",
    "da"
   ]
  },
  {
   "cell_type": "markdown",
   "id": "32",
   "metadata": {},
   "source": [
    "If the array class is `dask.Array`, it means that the data are not yet loaded into RAM memory. \n",
    "To put the data into memory, you need to call the method `compute`, either on the xarray object or on the numerical array."
   ]
  },
  {
   "cell_type": "code",
   "execution_count": null,
   "id": "33",
   "metadata": {},
   "outputs": [],
   "source": [
    "da = da.compute()\n",
    "print(\"Array Class: \", type(da.data))\n",
    "da"
   ]
  },
  {
   "cell_type": "markdown",
   "id": "34",
   "metadata": {},
   "source": [
    "To check if the Dataset or the DataArray you selected has only spatial horizontal and/or vertical dimensions, you can use the xarray accessor `gpm.is_spatial_2d` and `gpm.is_spatial_3d` properties.  "
   ]
  },
  {
   "cell_type": "code",
   "execution_count": null,
   "id": "35",
   "metadata": {},
   "outputs": [],
   "source": [
    "print(\n",
    "    ds.gpm.is_spatial_2d\n",
    ")  # False because the xarray.Dataset also contains the range and frequency dimensions !\n",
    "print(\n",
    "    ds.gpm.is_spatial_3d\n",
    ")  # False because the xarray.Dataset also contains frequency dimensions !"
   ]
  },
  {
   "cell_type": "code",
   "execution_count": null,
   "id": "36",
   "metadata": {},
   "outputs": [],
   "source": [
    "print(\n",
    "    ds[\"zFactorFinal\"].isel(range=0).sel(radar_frequency=\"Ka\").gpm.is_spatial_2d\n",
    ")  # True\n",
    "print(ds[\"precipRateNearSurface\"].gpm.is_spatial_2d)"
   ]
  },
  {
   "cell_type": "markdown",
   "id": "37",
   "metadata": {},
   "source": [
    "You can select the reflectivity volumes at a given frequency using the radar band name with the `sel` method:"
   ]
  },
  {
   "cell_type": "code",
   "execution_count": null,
   "id": "38",
   "metadata": {},
   "outputs": [],
   "source": [
    "ds[\"zFactorFinal\"].sel(radar_frequency=\"Ka\")"
   ]
  },
  {
   "cell_type": "markdown",
   "id": "39",
   "metadata": {},
   "source": [
    "Since xarray does not yet allow subsetting by value along non-dimensional coordinates, the `gpm.sel` method provides you this functionality.\n",
    "\n",
    "As an example, you can subset the dataset by time:"
   ]
  },
  {
   "cell_type": "code",
   "execution_count": null,
   "id": "40",
   "metadata": {},
   "outputs": [],
   "source": [
    "start_time = datetime.datetime.strptime(\"2023-08-20 22:12:00\", \"%Y-%m-%d %H:%M:%S\")\n",
    "end_time = datetime.datetime.strptime(\"2023-08-20 22:13:45\", \"%Y-%m-%d %H:%M:%S\")\n",
    "ds_subset = ds.gpm.sel(time=slice(start_time, end_time))\n",
    "ds_subset[\"time\"]"
   ]
  },
  {
   "cell_type": "markdown",
   "id": "41",
   "metadata": {},
   "source": [
    "Remember that you can get the start time and end time of your GPM xarray object with the gpm accessor methods `start_time` and `end_time`."
   ]
  },
  {
   "cell_type": "code",
   "execution_count": null,
   "id": "42",
   "metadata": {},
   "outputs": [],
   "source": [
    "print(ds_subset.gpm.start_time)\n",
    "print(ds_subset.gpm.end_time)"
   ]
  },
  {
   "cell_type": "markdown",
   "id": "43",
   "metadata": {},
   "source": [
    "You can also subset your GPM xarray object by `gpm_id`, `gpm_cross_track_id` or `gpm_range_id` coordinates, which act as reference identifiers for the along-track, cross-track and range dimensions. \n",
    "Selecting across coordinates by value is useful for example to:\n",
    "- align multiple GPM xarray objects that might have been subsetted differently across the `cross_track`, `along_track` or `range` dimensions. \n",
    "- to retrieve a specific portion of a GPM granule indipendently of the previous subsetting operations. \n",
    " \n",
    "The `gpm_id` is defined as `<gpm_granule_number>-<gpm_along_track_id>`, while the others <gpm_*_id> coordinates start at 0 and increase incrementally by 1 along each granule dimension. "
   ]
  },
  {
   "cell_type": "code",
   "execution_count": null,
   "id": "44",
   "metadata": {},
   "outputs": [],
   "source": [
    "# Subset by gpm_id\n",
    "start_gpm_id = \"53847-2768\"\n",
    "end_gpm_id = \"53847-2918\"\n",
    "ds_subset = ds.gpm.sel(gpm_id=slice(start_gpm_id, end_gpm_id))\n",
    "ds_subset[\"gpm_id\"].data"
   ]
  },
  {
   "cell_type": "markdown",
   "id": "45",
   "metadata": {},
   "source": [
    "To check whether the GPM 2A-DPR product has contiguous along-track scans (with no missing scans), you can use:"
   ]
  },
  {
   "cell_type": "code",
   "execution_count": null,
   "id": "46",
   "metadata": {},
   "outputs": [],
   "source": [
    "print(ds.gpm.has_contiguous_scans)\n",
    "print(ds.gpm.is_regular)"
   ]
  },
  {
   "cell_type": "markdown",
   "id": "47",
   "metadata": {},
   "source": [
    "In case there are non-contiguous scans, you can obtain the along-track slices over which the dataset is regular:"
   ]
  },
  {
   "cell_type": "code",
   "execution_count": null,
   "id": "48",
   "metadata": {},
   "outputs": [],
   "source": [
    "list_slices = ds.gpm.get_slices_contiguous_scans()\n",
    "print(list_slices)"
   ]
  },
  {
   "cell_type": "markdown",
   "id": "49",
   "metadata": {},
   "source": [
    "You can then select a regular portion of the dataset with:"
   ]
  },
  {
   "cell_type": "code",
   "execution_count": null,
   "id": "50",
   "metadata": {},
   "outputs": [],
   "source": [
    "slc = list_slices[0]\n",
    "print(slc)\n",
    "ds_regular = ds.isel(along_track=slc)"
   ]
  },
  {
   "cell_type": "markdown",
   "id": "51",
   "metadata": {},
   "source": [
    "## 4. Plot Maps"
   ]
  },
  {
   "cell_type": "markdown",
   "id": "52",
   "metadata": {},
   "source": [
    "The GPM-API provides two ways of displaying 2D spatial fields:\n",
    "- The `plot_map` method plot the data in a geographic projection using the [Cartopy](https://scitools.org.uk/cartopy/docs/latest/) `pcolormesh` method.\n",
    "- The `plot_image` method plot the data as an image using the xarray `imshow` method."
   ]
  },
  {
   "cell_type": "markdown",
   "id": "53",
   "metadata": {},
   "source": [
    "Let's start by plotting the entire GPM DPR granule in the geographic space:"
   ]
  },
  {
   "cell_type": "code",
   "execution_count": null,
   "id": "54",
   "metadata": {},
   "outputs": [],
   "source": [
    "ds[variable].gpm.plot_map()"
   ]
  },
  {
   "cell_type": "markdown",
   "id": "55",
   "metadata": {},
   "source": [
    "By focusing on a narrow region, it's possible to better visualize the spatial field:"
   ]
  },
  {
   "cell_type": "code",
   "execution_count": null,
   "id": "56",
   "metadata": {},
   "outputs": [],
   "source": [
    "p = ds[variable].gpm.sel(gpm_id=slice(start_gpm_id, end_gpm_id)).gpm.plot_map()\n",
    "p.axes.set_title(ds[variable].gpm.title(add_timestep=False))"
   ]
  },
  {
   "cell_type": "markdown",
   "id": "57",
   "metadata": {},
   "source": [
    "Using the `gpm.plot_image` method is possible to visualize the data in the so-called \"swath scan view\":"
   ]
  },
  {
   "cell_type": "code",
   "execution_count": null,
   "id": "58",
   "metadata": {},
   "outputs": [],
   "source": [
    "ds[variable].gpm.plot_image()"
   ]
  },
  {
   "cell_type": "code",
   "execution_count": null,
   "id": "59",
   "metadata": {},
   "outputs": [],
   "source": [
    "ds[variable].gpm.sel(gpm_id=slice(start_gpm_id, end_gpm_id)).gpm.plot_image()"
   ]
  },
  {
   "cell_type": "markdown",
   "id": "60",
   "metadata": {},
   "source": [
    "When we visualize different product variables, GPM-API will automatically try to use different appropriate colormaps and colorbars. \n",
    "You can observe this in the following example:"
   ]
  },
  {
   "cell_type": "code",
   "execution_count": null,
   "id": "61",
   "metadata": {},
   "outputs": [],
   "source": [
    "ds_subset = ds.gpm.sel(gpm_id=slice(start_gpm_id, end_gpm_id), radar_frequency=\"Ku\")\n",
    "p = ds_subset[\"zFactorFinalNearSurface\"].gpm.plot_map()\n",
    "p = ds_subset[\"zFactorFinalNearSurface\"].gpm.plot_map(\n",
    "    cmap=\"RdYlBu_r\", vmin=15, vmax=45\n",
    ")  # ex: enable to modify defaults parameters on the fly\n",
    "p = ds_subset[\"flagPrecip\"].gpm.plot_map()  # ex: defaults to categorical colorbar"
   ]
  },
  {
   "cell_type": "markdown",
   "id": "62",
   "metadata": {},
   "source": [
    "GPM-API provides colormaps and colorbars tailored to GPM product variables with the goal of simplifying the data analysis and make it more reproducible.\n",
    "\n",
    "The default colormap and colorbar configurations are defined into YAML files into the [gpm/etc/colorbars directory](https://github.com/ghiggi/gpm_api/blob/main/gpm/etc/colorbars/) of the software.\n",
    "\n",
    "However, users are free to override, add and/or customize the colorbars configurations using the pycolorbar (https://pycolorbar.readthedocs.io/en/latest/index.html) registry.\n",
    "\n",
    "The registered colorbar configurations can be displayed using `gpm.colorbars.show_colorbars()` and the `plot_kwargs` and `cbar_kwargs` required to customize the figure can be obtained by calling the `gpm.get_plot_kwargs` function. Here below we provide an example on how to display DPR precipitation rates estimates using the same colorbar used by NASA to display IMERG liquid precipitation estimates."
   ]
  },
  {
   "cell_type": "code",
   "execution_count": null,
   "id": "63",
   "metadata": {},
   "outputs": [],
   "source": [
    "plot_kwargs, cbar_kwargs = gpm.get_plot_kwargs(\"IMERG_Liquid\")\n",
    "ds_subset[\"precipRateNearSurface\"].gpm.plot_map(cbar_kwargs=cbar_kwargs, **plot_kwargs)"
   ]
  },
  {
   "cell_type": "markdown",
   "id": "64",
   "metadata": {},
   "source": [
    "Since GPM Datasets are characterized by multiple dimensions, GPM-API provides the capabilities to generate FacetGrid Cartopy plots following the classical xarray syntax: "
   ]
  },
  {
   "cell_type": "code",
   "execution_count": null,
   "id": "65",
   "metadata": {},
   "outputs": [],
   "source": [
    "ds_subset = ds.gpm.sel(gpm_id=slice(start_gpm_id, end_gpm_id))\n",
    "\n",
    "# Plot reflectivity at various levels\n",
    "variable = \"zFactorFinal\"\n",
    "da = ds_subset[variable].sel(range=[100, 125, 150, 170])\n",
    "fc = da.gpm.plot_map(row=\"radar_frequency\", col=\"range\")\n",
    "\n",
    "# Surface reflectivity at Ku and Ka band\n",
    "variable = \"zFactorFinalNearSurface\"\n",
    "da = ds_subset[variable]\n",
    "fc = da.gpm.plot_map(col=\"radar_frequency\", col_wrap=2)"
   ]
  },
  {
   "cell_type": "markdown",
   "id": "66",
   "metadata": {},
   "source": [
    "## 5. Plot Cross-Sections"
   ]
  },
  {
   "cell_type": "markdown",
   "id": "67",
   "metadata": {},
   "source": [
    "An easy way to derive a vertical cross-section is to slice the data along the cross-track or along-track dimension.\n",
    "We can then plot the cross-section calling the `gpm.plot_transect()` method."
   ]
  },
  {
   "cell_type": "code",
   "execution_count": null,
   "id": "68",
   "metadata": {},
   "outputs": [],
   "source": [
    "ds_subset = ds.gpm.sel(gpm_id=slice(start_gpm_id, end_gpm_id), radar_frequency=\"Ku\")\n",
    "ds_subset[\"zFactorFinal\"].isel(cross_track=24).gpm.plot_transect(zoom=True)\n",
    "ds_subset[\"zFactorFinal\"].isel(along_track=30).gpm.plot_transect(\n",
    "    y=\"height_km\", x=\"horizontal_distance_km\", zoom=True\n",
    ")"
   ]
  },
  {
   "cell_type": "markdown",
   "id": "69",
   "metadata": {},
   "source": [
    "However, GPM-API also provides accessor methods to facilitate the extraction of cross-section around a point, between points and along a trajectory.\n",
    "Here below we provide some examples:"
   ]
  },
  {
   "cell_type": "code",
   "execution_count": null,
   "id": "70",
   "metadata": {},
   "outputs": [],
   "source": [
    "da_cross = ds_subset[\"zFactorFinal\"].gpm.extract_transect_between_points(\n",
    "    start_point=(-118, 32), end_point=(-118, 36), steps=60\n",
    ")\n",
    "da_cross.gpm.plot_transect(zoom=True)"
   ]
  },
  {
   "cell_type": "code",
   "execution_count": null,
   "id": "71",
   "metadata": {},
   "outputs": [],
   "source": [
    "points = np.ones((100, 2))\n",
    "points[:, 0] = -118\n",
    "points[:, 1] = np.linspace(32, 36, 100)\n",
    "da_cross = ds_subset[\"zFactorFinal\"].gpm.extract_transect_along_trajectory(\n",
    "    points=points\n",
    ")\n",
    "da_cross.gpm.plot_transect(zoom=True)"
   ]
  },
  {
   "cell_type": "code",
   "execution_count": null,
   "id": "72",
   "metadata": {},
   "outputs": [],
   "source": [
    "da_cross = ds_subset[\"zFactorFinal\"].gpm.extract_transect_around_point(\n",
    "    point=(-118, 34), azimuth=0, distance=100_000, steps=100\n",
    ")  # azimuth [0, 360]\n",
    "da_cross.gpm.plot_transect(zoom=True)"
   ]
  },
  {
   "cell_type": "markdown",
   "id": "73",
   "metadata": {},
   "source": [
    "## 6. Community-based retrievals"
   ]
  },
  {
   "cell_type": "markdown",
   "id": "74",
   "metadata": {},
   "source": [
    "GPM-API aims to be a platform where scientist can share their algorithms and retrievals with the community.\n",
    "\n",
    "Based on the GPM product you are working with, you will have a series of retrievals available to you.\n",
    "For example, GPM-API currently provide the following retrievals for the 2A-DPR product:"
   ]
  },
  {
   "cell_type": "code",
   "execution_count": null,
   "id": "75",
   "metadata": {},
   "outputs": [],
   "source": [
    "ds.gpm.available_retrievals()"
   ]
  },
  {
   "cell_type": "markdown",
   "id": "76",
   "metadata": {},
   "source": [
    "The `gpm.retrieve` method enables you to apply specific retrievals to your dataset.\n",
    "Here below we provide a couple of examples: "
   ]
  },
  {
   "cell_type": "code",
   "execution_count": null,
   "id": "77",
   "metadata": {},
   "outputs": [],
   "source": [
    "ds_subset = ds.gpm.sel(gpm_id=slice(start_gpm_id, end_gpm_id), radar_frequency=\"Ku\")\n",
    "\n",
    "ds_subset[\"EchoTopHeight40dBZ\"] = ds_subset.gpm.retrieve(\"EchoTopHeight\", threshold=40)\n",
    "ds_subset[\"EchoTopHeight40dBZ\"].gpm.plot_map()"
   ]
  },
  {
   "cell_type": "code",
   "execution_count": null,
   "id": "78",
   "metadata": {},
   "outputs": [],
   "source": [
    "ds_subset[\"EchoDepthSolid30dBZ\"] = ds_subset.gpm.retrieve(\n",
    "    \"EchoDepth\", threshold=30, mask_liquid_phase=True\n",
    ")\n",
    "ds_subset[\"EchoDepthSolid30dBZ\"].gpm.plot_map()"
   ]
  },
  {
   "cell_type": "code",
   "execution_count": null,
   "id": "79",
   "metadata": {},
   "outputs": [],
   "source": [
    "ds_subset[\"VIL\"] = ds_subset.gpm.retrieve(\"VIL\")\n",
    "ds_subset[\"VIL\"].gpm.plot_map()"
   ]
  },
  {
   "cell_type": "code",
   "execution_count": null,
   "id": "80",
   "metadata": {},
   "outputs": [],
   "source": [
    "ds_subset[\"flagPrecipitationType\"] = ds_subset.gpm.retrieve(\n",
    "    \"flagPrecipitationType\", method=\"major_rain_type\"\n",
    ")\n",
    "ds_subset[\"flagPrecipitationType\"].gpm.plot_map()"
   ]
  },
  {
   "cell_type": "code",
   "execution_count": null,
   "id": "81",
   "metadata": {},
   "outputs": [],
   "source": [
    "ds_subset[\"flagHydroClass\"] = ds_subset.gpm.retrieve(\n",
    "    \"flagHydroClass\"\n",
    ")  # this return a 3D array !\n",
    "ds_subset[\"flagHydroClass\"].isel(cross_track=24).gpm.plot_transect()"
   ]
  },
  {
   "cell_type": "markdown",
   "id": "82",
   "metadata": {},
   "source": [
    "## 7. Advanced Manipulations "
   ]
  },
  {
   "cell_type": "markdown",
   "id": "83",
   "metadata": {},
   "source": [
    "When working with spaceborne radar data, it is often necessary to slice, extract or mask portions of data across the `range` dimension. \n",
    "The xarray `gpm` accessor provides a series of methods to facilitate various tasks."
   ]
  },
  {
   "cell_type": "markdown",
   "id": "84",
   "metadata": {},
   "source": [
    "If you wish to extract the values at specific range gate position varying over each radar beam, you can use the `slice_range_at_bin` method. \n",
    "For example, to extract values near the surface where radar gates are not more contaminated by ground clutter, you can use the bin variable `\"binClutterFreeBottom\"`:"
   ]
  },
  {
   "cell_type": "code",
   "execution_count": null,
   "id": "85",
   "metadata": {},
   "outputs": [],
   "source": [
    "ds_surface = ds_subset.gpm.slice_range_at_bin(\n",
    "    bins=\"binClutterFreeBottom\"\n",
    ")  # or ds.gpm.slice_range_at_bin(bins=ds[\"binClutterFreeBottom\"])\n",
    "ds_surface[\"precipRate\"].gpm.plot_map()  # precipRate is originally a 3D variable !\n",
    "ds_surface[\"zFactorFinal\"].gpm.plot_map()  # zFactorFinal is originally a 3D variable !"
   ]
  },
  {
   "cell_type": "markdown",
   "id": "86",
   "metadata": {},
   "source": [
    "Other slicing methods provide capabilities to retrieve values at a given height, along isothermals, or at the range gates where the minimum, maximum or closest value of a given variable occur:"
   ]
  },
  {
   "cell_type": "code",
   "execution_count": null,
   "id": "87",
   "metadata": {},
   "outputs": [],
   "source": [
    "ds_isothermal = ds_subset.gpm.slice_range_at_temperature(\n",
    "    273.15\n",
    ")  # use by default the airTemperature variable\n",
    "ds_3000 = ds_subset.gpm.slice_range_at_height(3000)\n",
    "ds_max_z = ds_subset.gpm.slice_range_at_max_value(variable=\"zFactorFinal\")\n",
    "ds_min_z = ds_subset.gpm.slice_range_at_min_value(variable=\"zFactorFinal\")\n",
    "ds_at_z_30 = ds_subset.gpm.slice_range_at_value(variable=\"zFactorFinal\", value=30)"
   ]
  },
  {
   "cell_type": "markdown",
   "id": "88",
   "metadata": {},
   "source": [
    "If you want to focus your analysis in the portion of radar gates with valid values (e.g., excluding upper atmosphere regions without reflectivities) or values ranging in a specific interval of interest, you can use the `subset_range_with_valid_data` and `subset_range_where_values` methods respectively:"
   ]
  },
  {
   "cell_type": "code",
   "execution_count": null,
   "id": "89",
   "metadata": {},
   "outputs": [],
   "source": [
    "ds_valid = ds_subset.gpm.subset_range_with_valid_data(variable=\"zFactorFinal\")\n",
    "ds_intense = ds_subset.gpm.subset_range_where_values(\n",
    "    variable=\"precipRate\", vmin=200, vmax=300\n",
    ")  # mm/hr\n",
    "print(ds_valid[\"range\"].data)\n",
    "print(ds_intense[\"range\"].data)"
   ]
  },
  {
   "cell_type": "markdown",
   "id": "90",
   "metadata": {},
   "source": [
    "If you wish to extract radar gates above/below spatially-varying bin position, you can use the `extract_dataset_above_bin` and `extract_dataset_below_bin` methods. \n",
    "Please note that these methods shifts the arrays beam-wise, returning datasets with a new `range` coordinate and the bin variables updated accordingly."
   ]
  },
  {
   "cell_type": "code",
   "execution_count": null,
   "id": "91",
   "metadata": {},
   "outputs": [],
   "source": [
    "ds_below_melting_layer = ds_subset.gpm.extract_dataset_below_bin(\n",
    "    \"binBBBottom\"\n",
    ")  # the first new range index corresponds to original binBBBottom\n",
    "ds_above_melting_layer = ds_subset.gpm.extract_dataset_above_bin(\n",
    "    \"binBBTop\"\n",
    ")  # the last new range index corresponds to original binBBTop"
   ]
  },
  {
   "cell_type": "markdown",
   "id": "92",
   "metadata": {},
   "source": [
    "If instead you wish to mask the data above/below or in between radar gates positions, you can use the `mask_above_bin`, `mask_below_bin` and `mask_between_bins` methods:"
   ]
  },
  {
   "cell_type": "code",
   "execution_count": null,
   "id": "93",
   "metadata": {},
   "outputs": [],
   "source": [
    "ds_rain = ds_subset.gpm.mask_above_bin(\"binZeroDeg\")\n",
    "ds_snow = ds_subset.gpm.mask_below_bin(\"binZeroDeg\")\n",
    "ds_masked_melting_layer = ds_subset.gpm.mask_between_bins(\n",
    "    bottom_bins=\"binBBBottom\", top_bins=\"binBBTop\"\n",
    ")"
   ]
  },
  {
   "cell_type": "markdown",
   "id": "94",
   "metadata": {},
   "source": [
    "## 8. Geospatial Manipulations"
   ]
  },
  {
   "cell_type": "markdown",
   "id": "95",
   "metadata": {},
   "source": [
    "GPM-API provides methods to easily spatially subset orbits by extent, country or continent.\n",
    "\n",
    "Note however, that an area can be crossed by multiple orbits depending on the size of your GPM satellite dataset. \n",
    "In other words, multiple orbit slices in along-track direction can intersect the area of interest. \n",
    "\n",
    "The method `get_crop_slices_by_extent`, `get_crop_slices_by_country` and ` get_crop_slices_by_continent` enable to retrieve the orbit portions intersecting the area of interest. "
   ]
  },
  {
   "cell_type": "code",
   "execution_count": null,
   "id": "96",
   "metadata": {},
   "outputs": [],
   "source": [
    "# Define the variable to display\n",
    "variable = \"precipRateNearSurface\"\n",
    "\n",
    "# Crop by country\n",
    "list_isel_dict = ds.gpm.get_crop_slices_by_country(\"United States\")\n",
    "print(list_isel_dict)\n",
    "\n",
    "# Crop by extent\n",
    "extent = get_country_extent(\"United States\")\n",
    "list_isel_dict = ds.gpm.get_crop_slices_by_extent(extent)\n",
    "print(list_isel_dict)\n",
    "\n",
    "# Plot the swaths crossing the country\n",
    "for isel_dict in list_isel_dict:\n",
    "    da_subset = ds[variable].isel(isel_dict)\n",
    "    slice_title = da_subset.gpm.title(add_timestep=True)\n",
    "    p = da_subset.gpm.plot_map()\n",
    "    p.axes.set_extent(extent)\n",
    "    p.axes.set_title(label=slice_title)\n",
    "\n",
    "# Define the variable to display\n",
    "variable = \"precipRateNearSurface\"\n",
    "\n",
    "# Crop around a point (i.e. radar location)\n",
    "lon = -117.0418\n",
    "lat = 32.9190\n",
    "distance = 200_000  # 200 km\n",
    "list_isel_dict = ds.gpm.get_crop_slices_around_point(\n",
    "    lon=lon, lat=lat, distance=distance\n",
    ")\n",
    "print(list_isel_dict)\n",
    "\n",
    "extent = get_geographic_extent_around_point(lon=lon, lat=lat, distance=distance)\n",
    "list_isel_dict = ds.gpm.get_crop_slices_by_extent(extent)\n",
    "print(list_isel_dict)\n",
    "\n",
    "# Define ROI coordinates\n",
    "circle_lons, circle_lats = get_circle_coordinates_around_point(\n",
    "    lon, lat, radius=distance, num_vertices=360\n",
    ")\n",
    "\n",
    "# Plot the swaths crossing the ROI\n",
    "for isel_dict in list_isel_dict:\n",
    "    da_subset = ds[variable].isel(isel_dict)\n",
    "    slice_title = da_subset.gpm.title(add_timestep=True)\n",
    "    p = da_subset.gpm.plot_map()\n",
    "    p.axes.plot(circle_lons, circle_lats, \"r-\", transform=ccrs.Geodetic())\n",
    "    p.axes.scatter(lon, lat, c=\"black\", marker=\"X\", s=100, transform=ccrs.Geodetic())\n",
    "    p.axes.set_extent(extent)\n",
    "\n",
    "# Alternatives if working with a single granule:\n",
    "\n",
    "# ds_subset = ds.gpm.crop_by_extent(extent)\n",
    "# ds_subset = ds.gpm.crop_by_country(\"United States\")"
   ]
  },
  {
   "cell_type": "markdown",
   "id": "97",
   "metadata": {},
   "source": [
    "You can also easily obtain the extent around a given point (i.e. ground radar location) using the `get_geographic_extent_around_point` function and use \n",
    "the gpm accessor methods `get_crop_slices_around_point` or `crop_around_point` to subset your dataset:"
   ]
  },
  {
   "cell_type": "code",
   "execution_count": null,
   "id": "98",
   "metadata": {},
   "outputs": [],
   "source": [
    "# Define the variable to display\n",
    "variable = \"precipRateNearSurface\"\n",
    "\n",
    "# Crop around a point (i.e. radar location)\n",
    "lon = -117.0418\n",
    "lat = 32.9190\n",
    "distance = 200_000  # 200 km\n",
    "list_isel_dict = ds.gpm.get_crop_slices_around_point(\n",
    "    lon=lon, lat=lat, distance=distance\n",
    ")\n",
    "print(list_isel_dict)\n",
    "\n",
    "extent = get_geographic_extent_around_point(lon=lon, lat=lat, distance=distance)\n",
    "list_isel_dict = ds.gpm.get_crop_slices_by_extent(extent)\n",
    "print(list_isel_dict)\n",
    "\n",
    "# Define ROI coordinates\n",
    "circle_lons, circle_lats = get_circle_coordinates_around_point(\n",
    "    lon, lat, radius=distance, num_vertices=360\n",
    ")\n",
    "\n",
    "# Plot the swaths crossing the ROI\n",
    "for isel_dict in list_isel_dict:\n",
    "    da_subset = ds[variable].isel(isel_dict)\n",
    "    slice_title = da_subset.gpm.title(add_timestep=True)\n",
    "    p = da_subset.gpm.plot_map()\n",
    "    p.axes.plot(circle_lons, circle_lats, \"r-\", transform=ccrs.Geodetic())\n",
    "    p.axes.scatter(lon, lat, c=\"black\", marker=\"X\", s=100, transform=ccrs.Geodetic())\n",
    "    p.axes.set_extent(extent)\n",
    "\n",
    "# Alternatives if working with a single granule:\n",
    "\n",
    "# ds_subset = ds.gpm.crop_around_point(lon=lon, lat=lat, distance=distance)"
   ]
  },
  {
   "cell_type": "markdown",
   "id": "99",
   "metadata": {},
   "source": [
    "Please keep in mind that you can easily retrieve the extent of a GPM xarray object using the `extent` method. \n",
    "\n",
    "The optional argument `padding` allows to expand/shrink the geographic extent by custom lon/lat degrees, while the `size` argument allows \n",
    "to obtain an extent centered on the GPM object with the desired size."
   ]
  },
  {
   "cell_type": "code",
   "execution_count": null,
   "id": "100",
   "metadata": {},
   "outputs": [],
   "source": [
    "print(da_subset.gpm.extent(padding=0.1))  # expanding\n",
    "print(da_subset.gpm.extent(padding=-0.1))  # shrinking\n",
    "print(da_subset.gpm.extent(size=0.5))\n",
    "print(da_subset.gpm.extent(size=0))  # centroid"
   ]
  },
  {
   "cell_type": "markdown",
   "id": "101",
   "metadata": {},
   "source": [
    "## 9. Storm Labeling\n",
    "\n",
    "\n",
    " "
   ]
  },
  {
   "cell_type": "markdown",
   "id": "102",
   "metadata": {},
   "source": [
    "Using the xarray `ximage` accessor, it is possible to easily delineate (label) the precipitating areas. The label array is added to the dataset as a new coordinate."
   ]
  },
  {
   "cell_type": "code",
   "execution_count": null,
   "id": "103",
   "metadata": {},
   "outputs": [],
   "source": [
    "# Retrieve labeled xarray object\n",
    "label_name = \"label\"\n",
    "ds = ds.ximage.label(\n",
    "    variable=\"precipRateNearSurface\",\n",
    "    min_value_threshold=1,\n",
    "    min_area_threshold=5,\n",
    "    footprint=5,  # assign same label to precipitating areas 5 pixels apart\n",
    "    sort_by=\"area\",  # \"maximum\", \"minimum\", <custom_function>\n",
    "    sort_decreasing=True,\n",
    "    label_name=label_name,\n",
    ")\n",
    "# Plot full label array\n",
    "ds[label_name].ximage.plot_labels()"
   ]
  },
  {
   "cell_type": "markdown",
   "id": "104",
   "metadata": {},
   "source": [
    "Let's zoom in a specific region:"
   ]
  },
  {
   "cell_type": "code",
   "execution_count": null,
   "id": "105",
   "metadata": {},
   "outputs": [],
   "source": [
    "gpm.plot_labels(ds[label_name].isel(along_track=slice(2700, 3500)))"
   ]
  },
  {
   "cell_type": "markdown",
   "id": "106",
   "metadata": {},
   "source": [
    "## 10. Patch Extraction"
   ]
  },
  {
   "cell_type": "markdown",
   "id": "107",
   "metadata": {},
   "source": [
    "With the xarray `ximage` accessor, it is also possible to extract patches around the precipitating areas. Here we provide a minimal example on how to proceed:"
   ]
  },
  {
   "cell_type": "code",
   "execution_count": null,
   "id": "108",
   "metadata": {},
   "outputs": [],
   "source": [
    "# Define the patch generator\n",
    "da_patch_gen = ds[\"precipRateNearSurface\"].ximage.label_patches(\n",
    "    label_name=label_name,\n",
    "    patch_size=(49, 49),\n",
    "    variable=variable,\n",
    "    # Output options\n",
    "    n_patches=4,\n",
    "    # Patch extraction Options\n",
    "    padding=0,\n",
    "    centered_on=\"max\",\n",
    "    # Tiling/Sliding Options\n",
    "    debug=False,\n",
    "    verbose=False,\n",
    ")\n",
    "\n",
    "# # Retrieve list of patches\n",
    "list_label_patches = list(da_patch_gen)\n",
    "list_da = [da for label, da in list_label_patches]\n",
    "\n",
    "# Display patches\n",
    "gpm.plot_patches(list_label_patches)"
   ]
  },
  {
   "cell_type": "markdown",
   "id": "109",
   "metadata": {},
   "source": [
    "You can exploit the xarray manipulations and FacetGrid capabilities to quickly create the following figure:"
   ]
  },
  {
   "cell_type": "code",
   "execution_count": null,
   "id": "110",
   "metadata": {},
   "outputs": [],
   "source": [
    "list_da_without_coords = [da.drop_vars([\"lon\", \"lat\"]) for da in list_da]\n",
    "da_patch = xr.concat(list_da_without_coords, dim=\"patch\")\n",
    "da_patch.isel(patch=slice(0, 4)).gpm.plot_image(col=\"patch\", col_wrap=2)"
   ]
  },
  {
   "cell_type": "markdown",
   "id": "111",
   "metadata": {},
   "source": [
    "## 11. Spaceborne/Ground Radar Matching"
   ]
  },
  {
   "cell_type": "markdown",
   "id": "112",
   "metadata": {},
   "source": [
    "In this final subsection, we now provide also brief overview on how to match spaceborne (SR) and ground (GR) radar measurements. \n",
    "\n",
    "A step-by-step guide on the methodology to obtain spatially and temporally coincident radar samples is provided in \n",
    "the [Spaceborne-Ground Radar Matching Tutorial](https://gpm-api.readthedocs.io/en/latest/tutorials/tutorial_03_SR_GR_Matching.html), \n",
    "while an applied example is provided in the [Spaceborne-Ground Radar Calibration Applied Tutorial](https://gpm-api.readthedocs.io/en/latest/tutorials/tutorial_03_SR_GR_Calibration.html)."
   ]
  },
  {
   "cell_type": "markdown",
   "id": "113",
   "metadata": {},
   "source": [
    "To start let's open the NEXRAD ground radar data coincident with the GPM DPR overpass. We have preprocessed the native NEXRAD radar with xradar and uploaded it into Zarr format on the Pythia Cloud Bucket."
   ]
  },
  {
   "cell_type": "code",
   "execution_count": null,
   "id": "114",
   "metadata": {},
   "outputs": [],
   "source": [
    "filepath_gr = \"/home/ghiggi/data/bucket/KNKX20230820_221341_V06.zarr\"\n",
    "dt_gr = open_datatree(filepath_gr, engine=\"zarr\", chunks={})\n",
    "display(dt_gr)"
   ]
  },
  {
   "cell_type": "markdown",
   "id": "115",
   "metadata": {},
   "source": [
    "Now, let’s select the GR sweep to match with GPM DPR."
   ]
  },
  {
   "cell_type": "code",
   "execution_count": null,
   "id": "116",
   "metadata": {},
   "outputs": [],
   "source": [
    "sweep_idx = 0\n",
    "sweep_group = f\"sweep_{sweep_idx}\"  # GR sweep (elevation to be used)\n",
    "ds_gr = dt_gr[sweep_group].ds"
   ]
  },
  {
   "cell_type": "markdown",
   "id": "117",
   "metadata": {},
   "source": [
    "Let's define some SR/GR volume matching settings ..."
   ]
  },
  {
   "cell_type": "code",
   "execution_count": null,
   "id": "118",
   "metadata": {},
   "outputs": [],
   "source": [
    "radar_band = \"S\"\n",
    "beamwidth_gr = 1\n",
    "z_min_threshold_gr = 0\n",
    "z_min_threshold_sr = 10"
   ]
  },
  {
   "cell_type": "markdown",
   "id": "119",
   "metadata": {},
   "source": [
    "... and then apply the SR/GR volume matching. If the GPM Dataset is not specified, `volume_matching` automatically download and load the required SR radar data."
   ]
  },
  {
   "cell_type": "code",
   "execution_count": null,
   "id": "120",
   "metadata": {},
   "outputs": [],
   "source": [
    "gdf_match = volume_matching(\n",
    "    ds_gr=ds_gr,\n",
    "    ds_sr=ds,  # optional\n",
    "    radar_band=radar_band,\n",
    "    beamwidth_gr=beamwidth_gr,\n",
    "    z_min_threshold_gr=z_min_threshold_gr,\n",
    "    z_min_threshold_sr=z_min_threshold_sr,\n",
    "    min_gr_range=0,\n",
    "    max_gr_range=150_000,\n",
    "    # gr_sensitivity_thresholds=None,\n",
    "    # sr_sensitivity_thresholds=None,\n",
    "    download_sr=False,  # require NASA accounts and internet connection !\n",
    "    display_quicklook=True,\n",
    ")\n",
    "display(gdf_match)"
   ]
  },
  {
   "cell_type": "markdown",
   "id": "121",
   "metadata": {},
   "source": [
    "Now let's display the SR/GR matched/aggregated reflectivities:"
   ]
  },
  {
   "cell_type": "code",
   "execution_count": null,
   "id": "122",
   "metadata": {},
   "outputs": [],
   "source": [
    "extent_xy = gdf_match.total_bounds[[0, 2, 1, 3]]\n",
    "p = gdf_match.plot(\n",
    "    column=f\"SR_zFactorFinal_{radar_band}_mean\",\n",
    "    legend=True,\n",
    "    legend_kwds={\"label\": \"SR Reflectivity (dBz)\"},\n",
    "    cmap=\"Spectral_r\",\n",
    "    vmin=10,\n",
    "    vmax=40,\n",
    ")\n",
    "p.axes.set_xlim(extent_xy[0:2])\n",
    "p.axes.set_ylim(extent_xy[2:4])\n",
    "p.axes.set_title(\"SR\")\n",
    "plt.xlabel(\"x (m)\", fontsize=12)\n",
    "plt.ylabel(\"y (m)\", fontsize=12)\n",
    "plt.grid(lw=0.25, color=\"grey\")\n",
    "\n",
    "p = gdf_match.plot(\n",
    "    column=\"GR_Z_mean\",\n",
    "    legend=True,\n",
    "    legend_kwds={\"label\": \"GR Reflectivity (dBz)\"},\n",
    "    cmap=\"Spectral_r\",\n",
    "    vmin=10,\n",
    "    vmax=40,\n",
    ")\n",
    "p.axes.set_xlim(extent_xy[0:2])\n",
    "p.axes.set_ylim(extent_xy[2:4])\n",
    "p.axes.set_title(\"GR\")\n",
    "plt.xlabel(\"x (m)\", fontsize=12)\n",
    "plt.ylabel(\"y (m)\", fontsize=12)\n",
    "plt.grid(lw=0.25, color=\"grey\")"
   ]
  }
 ],
 "metadata": {
  "language_info": {
   "codemirror_mode": {
    "name": "ipython",
    "version": 3
   },
   "file_extension": ".py",
   "mimetype": "text/x-python",
   "name": "python",
   "nbconvert_exporter": "python",
   "pygments_lexer": "ipython3",
   "version": "3.11.8"
  }
 },
 "nbformat": 4,
 "nbformat_minor": 5
}
