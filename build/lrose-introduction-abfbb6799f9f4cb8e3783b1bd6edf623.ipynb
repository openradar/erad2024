{
 "cells": [
  {
   "cell_type": "markdown",
   "metadata": {
    "jp-MarkdownHeadingCollapsed": true
   },
   "source": [
    "\n",
    "<img src=\"http://lrose.net/images/LRose_logo.jpg\" width=250 alt=\"LROSE logo\"></img>\n",
    "\n",
    "\n",
    "<h1> LROSE: The Lidar Radar Open Software Environment\n",
    "Overview </h1>\n",
    "\n",
    "The current LROSE release is called “Colette” (a versatile climbing rose) and encompasses six key toolsets that define a core lidar/radar workflow: Convert, Display, QC, Grid, Echo, and Winds. Colette focuses on high-quality, well-tested, well-maintained and well-documented key applications as ‘building blocks’, allowing users to assemble trusted, reproducible workflows to accomplish more complex scientific tasks.\n",
    "\n",
    "LROSE is a co-operative project between:\n",
    "\n",
    "Dept. of Atmospheric Science at Colorado State University (CSU) and the\n",
    "The Earth Observing Lab at the National Center for Atmospheric Research (NCAR).\n",
    "LROSE is funded by the National Science Foundation.\n",
    "\n",
    "\n",
    "<h3><span class=\"mw-headline\" id=\"Citations_for_LROSE_tools\">Citations for LROSE tools</span></h3>\n",
    "<p>Please cite the version of LROSE tools you use for publication. If you are unsure of the version, please cite the latest stable release.\n",
    "</p>\n",
    "<ul><li><b><a rel=\"nofollow\" class=\"external text\" href=\"https://doi.org/10.5281/zenodo.11510075\">lrose-colette, 2024</a></b>: DeHart, J., Dixon, M., Javornik, B., Bell, M., Cha, T.-Y., DesRosiers, A., &amp; Lee, W.-C. (2024). nsf-lrose/lrose-releases: lrose-colette-20240525 (lrose-colette-20240525). Zenodo. <a rel=\"nofollow\" class=\"external free\" href=\"https://doi.org/10.5281/zenodo.11510075\">https://doi.org/10.5281/zenodo.11510075</a></li>\n",
    "<li><b><a rel=\"nofollow\" class=\"external text\" href=\"https://doi.org/10.5281/zenodo.11479603\">lrose-jade, 2023</a></b>: DeHart, J., Dixon, M., Javornik, B., Bell, M., Cha, T.-Y., DesRosiers, A., &amp; Lee, W.-C. (2024). nsf-lrose/lrose-releases: lrose-jade-20230814 (lrose-jade-20230814). Zenodo. <a rel=\"nofollow\" class=\"external free\" href=\"https://doi.org/10.5281/zenodo.11479603\">https://doi.org/10.5281/zenodo.11479603</a></li>\n",
    "<li><b><a rel=\"nofollow\" class=\"external text\" href=\"https://doi.org/10.5281/zenodo.6909479\">lrose-topaz, 2022</a></b>: Michael M. Bell. (2022). nsf-lrose/lrose-topaz: lrose-topaz-20220222 (lrose-topaz-20220222). Zenodo. <a rel=\"nofollow\" class=\"external free\" href=\"https://doi.org/10.5281/zenodo.6909479\">https://doi.org/10.5281/zenodo.6909479</a></li>\n",
    "<li><b><a rel=\"nofollow\" class=\"external text\" href=\"https://doi.org/10.5281/zenodo.5523312\">lrose-elle, 2021</a></b>: Michael M. Bell, Michael Dixon, Wen-Chau Lee, Brenda Javornik, Jennifer DeHart, &amp; Ting-Yu Cha. (2021). nsf-lrose/lrose-elle: lrose-elle stable final release 20210312 (lrose-elle-20210312). Zenodo. <a rel=\"nofollow\" class=\"external free\" href=\"https://doi.org/10.5281/zenodo.5523312\">https://doi.org/10.5281/zenodo.5523312</a></li>\n",
    "<li><b><a rel=\"nofollow\" class=\"external text\" href=\"https://doi.org/10.5281/zenodo.3604387\">lrose-cyclone, 2020</a></b>: Michael M. Bell, &amp; Bruno Melli. (2020). nsf-lrose/lrose-cyclone: lrose-cyclone release 20200110 (lrose-cyclone-20200110). Zenodo. <a rel=\"nofollow\" class=\"external free\" href=\"https://doi.org/10.5281/zenodo.3604387\">https://doi.org/10.5281/zenodo.3604387</a></li>\n",
    "<li><b><a rel=\"nofollow\" class=\"external text\" href=\"https://doi.org/10.5281/zenodo.2532758\">lrose-blaze, 2019</a></b>: Michael M. Bell. (2019). nsf-lrose/lrose-blaze: lrose-blaze-20190105 (lrose-blaze-20190105). Zenodo. <a rel=\"nofollow\" class=\"external free\" href=\"https://doi.org/10.5281/zenodo.2532758\">https://doi.org/10.5281/zenodo.2532758</a></li></ul>\n",
    "\n",
    "\n",
    "\n",
    "<h3><span class=\"mw-headline\" id=\"Tutorials\">Tutorials</span></h3>\n",
    "<ul><li><b>quick start</b>\n",
    "<ul><li><b><a rel=\"nofollow\" class=\"external text\" href=\"http://wiki.lrose.net/index.php/lrose_quickstart\">lrose quickstart tutorial</a></b> - Go over the basics to get up and running quickly with LROSE.</li></ul></li></ul>\n",
    "<ul><li><b>echo tutorials</b>\n",
    "<ul><li><b><a rel=\"nofollow\" class=\"external text\" href=\"http://wiki.lrose.net/index.php/elle_basic\">basic elle echo tutorial</a></b> - Go through the basic steps necessary to convert a raw radar file to CfRadial, calculate Kdp and three-dimensional rain rate, and estimate the surface rainfall. The purpose of this tutorial is to confirm that the install process was successful and that some programs are working.</li>\n",
    "<li><b><a rel=\"nofollow\" class=\"external text\" href=\"http://wiki.lrose.net/index.php/elle_basic_plus\">basic+ elle echo tutorial</a></b> - Similar to the basic elle tutorial with the added tasks of downloading GFS analysis from which to estimate a sounding near the radar and running the RadxBeamBlock application.</li>\n",
    "<li><b><a rel=\"nofollow\" class=\"external text\" href=\"http://wiki.lrose.net/index.php/elle_full\">full elle echo tutorial</a></b> - This tutorial assumes the user has radar data downloaded in an <a rel=\"nofollow\" class=\"external text\" href=\"http://wiki.lrose.net/index.php/RadxConvert\">acceptable radar format</a> and walks through the most important parameters that need to be edited to run the Quantitative Precipitation Estimation (QPE) workflow.</li></ul></li></ul>\n",
    "<ul><li><b>grid tutorial</b>\n",
    "<ul><li><b><a rel=\"nofollow\" class=\"external text\" href=\"http://wiki.lrose.net/index.php/elle_grid\">elle regrid and convective/stratiform tutorial</a></b> - Convert raw NEXRAD data to the cfradial format and then interpolate to a cartesian grid and applies a convective stratiform separation algorithm.</li></ul></li></ul>\n",
    "<ul><li><b>wind tutorial</b>\n",
    "<ul><li><b><a rel=\"nofollow\" class=\"external text\" href=\"http://wiki.lrose.net/index.php/vortrac_tutorial\">VORTRAC tutorial</a></b> - run VORTRAC to retrieve the winds using the GBVTD/GVTD algorithm from a single Doppler radar data.</li></ul></li></ul>\n",
    "<ul><li><b>CSU Radartools tutorial</b>\n",
    "<ul><li><b><a rel=\"nofollow\" class=\"external text\" href=\"http://wiki.lrose.net/index.php/csu_radartools_tutorial\">CSU-Radartools tutorial</a></b> - Step through the processing of a raw radar file through editing, QC and gridding using LROSE and CSU-Radartools</li></ul></li></ul>\n",
    "<ul><li><b> Airborne radar navigation correction tutorial</b>\n",
    "<ul><li><b><a rel=\"nofollow\" class=\"external text\" href=\"https://github.com/csu-tropical/Airborne-Radar-Navigation-Correction/blob/main/Tutorial.md\">Airborne radar navigation correction</a></b> - Go through the steps of applying navigation correction on airborne radar data. Airborne radar navigation correction package can be found <a rel=\"nofollow\" class=\"external text\" href=\"https://github.com/csu-tropical/Airborne-Radar-Navigation-Correction\">here</a>.</li></ul></li></ul>\n",
    "<h3><span class=\"mw-headline\" id=\"Toolsets\">Toolsets</span></h3>\n"
   ]
  },
  {
   "cell_type": "markdown",
   "metadata": {},
   "source": [
    "# LROSE Echo and Wind Retrieval Tutorial\n",
    "\n",
    "Next, title your notebook appropriately with a top-level Markdown header, `#`. Do not use this level header anywhere else in the notebook. Our book build process will use this title in the navbar, table of contents, etc. Keep it short, keep it descriptive. Follow this with a `---` cell to visually distinguish the transition to the prerequisites section."
   ]
  },
  {
   "cell_type": "markdown",
   "metadata": {},
   "source": [
    "---"
   ]
  },
  {
   "cell_type": "markdown",
   "metadata": {},
   "source": [
    "## Overview\n",
    "If you have an introductory paragraph, lead with it here! Keep it short and tied to your material, then be sure to continue into the required list of topics below,\n",
    "\n",
    "1. This is a numbered list of the specific topics\n",
    "1. These should map approximately to your main sections of content\n",
    "1. Or each second-level, `##`, header in your notebook\n",
    "1. Keep the size and scope of your notebook in check\n",
    "1. And be sure to let the reader know up front the important concepts they'll be leaving with"
   ]
  },
  {
   "cell_type": "markdown",
   "metadata": {},
   "source": [
    "## Prerequisites\n",
    "This section was inspired by [this template](https://github.com/alan-turing-institute/the-turing-way/blob/master/book/templates/chapter-template/chapter-landing-page.md) of the wonderful [The Turing Way](https://the-turing-way.netlify.app) Jupyter Book.\n",
    "\n",
    "Following your overview, tell your reader what concepts, packages, or other background information they'll **need** before learning your material. Tie this explicitly with links to other pages here in Foundations or to relevant external resources. Remove this body text, then populate the Markdown table, denoted in this cell with `|` vertical brackets, below, and fill out the information following. In this table, lay out prerequisite concepts by explicitly linking to other Foundations material or external resources, or describe generally helpful concepts.\n",
    "\n",
    "Label the importance of each concept explicitly as **helpful/necessary**.\n",
    "\n",
    "| Concepts | Importance | Notes |\n",
    "| --- | --- | --- |\n",
    "| [Intro to Cartopy](https://foundations.projectpythia.org/core/cartopy/cartopy.html) | Necessary | |\n",
    "| [Understanding of NetCDF](https://foundations.projectpythia.org/core/data-formats/netcdf-cf.html) | Helpful | Familiarity with metadata structure |\n",
    "| Project management | Helpful | |\n",
    "\n",
    "- **Time to learn**: estimate in minutes. For a rough idea, use 5 mins per subsection, 10 if longer; add these up for a total. Safer to round up and overestimate.\n",
    "- **System requirements**:\n",
    "    - Populate with any system, version, or non-Python software requirements if necessary\n",
    "    - Otherwise use the concepts table above and the Imports section below to describe required packages as necessary\n",
    "    - If no extra requirements, remove the **System requirements** point altogether"
   ]
  },
  {
   "cell_type": "markdown",
   "metadata": {},
   "source": [
    "---"
   ]
  },
  {
   "cell_type": "markdown",
   "metadata": {},
   "source": [
    "## Imports\n",
    "Begin your body of content with another `---` divider before continuing into this section, then remove this body text and populate the following code cell with all necessary Python imports **up-front**:"
   ]
  },
  {
   "cell_type": "code",
   "execution_count": 1,
   "metadata": {
    "execution": {
     "iopub.execute_input": "2024-08-15T05:02:56.827524Z",
     "iopub.status.busy": "2024-08-15T05:02:56.827067Z",
     "iopub.status.idle": "2024-08-15T05:02:56.831971Z",
     "shell.execute_reply": "2024-08-15T05:02:56.831502Z"
    }
   },
   "outputs": [],
   "source": [
    "import sys"
   ]
  },
  {
   "cell_type": "markdown",
   "metadata": {},
   "source": [
    "## Your first content section"
   ]
  },
  {
   "cell_type": "markdown",
   "metadata": {},
   "source": [
    "This is where you begin your first section of material, loosely tied to your objectives stated up front. Tie together your notebook as a narrative, with interspersed Markdown text, images, and more as necessary,"
   ]
  },
  {
   "cell_type": "code",
   "execution_count": 2,
   "metadata": {
    "execution": {
     "iopub.execute_input": "2024-08-15T05:02:56.833902Z",
     "iopub.status.busy": "2024-08-15T05:02:56.833748Z",
     "iopub.status.idle": "2024-08-15T05:02:56.836257Z",
     "shell.execute_reply": "2024-08-15T05:02:56.835751Z"
    }
   },
   "outputs": [
    {
     "name": "stdout",
     "output_type": "stream",
     "text": [
      "Hello world!\n"
     ]
    }
   ],
   "source": [
    "# as well as any and all of your code cells\n",
    "print(\"Hello world!\")"
   ]
  },
  {
   "cell_type": "markdown",
   "metadata": {},
   "source": [
    "### A content subsection\n",
    "Divide and conquer your objectives with Markdown subsections, which will populate the helpful navbar in Jupyter Lab and here on the Jupyter Book!"
   ]
  },
  {
   "cell_type": "code",
   "execution_count": 3,
   "metadata": {
    "execution": {
     "iopub.execute_input": "2024-08-15T05:02:56.838166Z",
     "iopub.status.busy": "2024-08-15T05:02:56.837989Z",
     "iopub.status.idle": "2024-08-15T05:02:56.840945Z",
     "shell.execute_reply": "2024-08-15T05:02:56.840536Z"
    }
   },
   "outputs": [],
   "source": [
    "# some subsection code\n",
    "new = \"helpful information\""
   ]
  },
  {
   "cell_type": "markdown",
   "metadata": {},
   "source": [
    "### Another content subsection\n",
    "Keep up the good work! A note, *try to avoid using code comments as narrative*, and instead let them only exist as brief clarifications where necessary."
   ]
  },
  {
   "cell_type": "markdown",
   "metadata": {},
   "source": [
    "## Your second content section\n",
    "Here we can move on to our second objective, and we can demonstrate"
   ]
  },
  {
   "cell_type": "markdown",
   "metadata": {},
   "source": [
    "### Subsection to the second section\n",
    "\n",
    "#### a quick demonstration\n",
    "\n",
    "##### of further and further\n",
    "\n",
    "###### header levels"
   ]
  },
  {
   "cell_type": "markdown",
   "metadata": {},
   "source": [
    "as well $m = a * t / h$ text! Similarly, you have access to other $\\LaTeX$ equation [**functionality**](https://jupyter-notebook.readthedocs.io/en/stable/examples/Notebook/Typesetting%20Equations.html) via MathJax (demo below from link),\n",
    "\n",
    "\\begin{align}\n",
    "\\dot{x} & = \\sigma(y-x) \\\\\n",
    "\\dot{y} & = \\rho x - y - xz \\\\\n",
    "\\dot{z} & = -\\beta z + xy\n",
    "\\end{align}"
   ]
  },
  {
   "cell_type": "markdown",
   "metadata": {},
   "source": [
    "Check out [**any number of helpful Markdown resources**](https://www.markdownguide.org/basic-syntax/) for further customizing your notebooks and the [**Jupyter docs**](https://jupyter-notebook.readthedocs.io/en/stable/examples/Notebook/Working%20With%20Markdown%20Cells.html) for Jupyter-specific formatting information. Don't hesitate to ask questions if you have problems getting it to look *just right*."
   ]
  },
  {
   "cell_type": "markdown",
   "metadata": {},
   "source": [
    "## Last Section\n",
    "\n",
    "If you're comfortable, and as we briefly used for our embedded logo up top, you can embed raw html into Jupyter Markdown cells (edit to see):"
   ]
  },
  {
   "cell_type": "markdown",
   "metadata": {},
   "source": [
    "<div class=\"admonition alert alert-info\">\n",
    "    <p class=\"admonition-title\" style=\"font-weight:bold\">Info</p>\n",
    "    Your relevant information here!\n",
    "</div>"
   ]
  },
  {
   "cell_type": "markdown",
   "metadata": {},
   "source": [
    "Feel free to copy this around and edit or play around with yourself. Some other `admonitions` you can put in:"
   ]
  },
  {
   "cell_type": "markdown",
   "metadata": {},
   "source": [
    "<div class=\"admonition alert alert-success\">\n",
    "    <p class=\"admonition-title\" style=\"font-weight:bold\">Success</p>\n",
    "    We got this done after all!\n",
    "</div>"
   ]
  },
  {
   "cell_type": "markdown",
   "metadata": {},
   "source": [
    "<div class=\"admonition alert alert-warning\">\n",
    "    <p class=\"admonition-title\" style=\"font-weight:bold\">Warning</p>\n",
    "    Be careful!\n",
    "</div>"
   ]
  },
  {
   "cell_type": "markdown",
   "metadata": {},
   "source": [
    "<div class=\"admonition alert alert-danger\">\n",
    "    <p class=\"admonition-title\" style=\"font-weight:bold\">Danger</p>\n",
    "    Scary stuff be here.\n",
    "</div>"
   ]
  },
  {
   "cell_type": "markdown",
   "metadata": {},
   "source": [
    "We also suggest checking out Jupyter Book's [brief demonstration](https://jupyterbook.org/content/metadata.html#jupyter-cell-tags) on adding cell tags to your cells in Jupyter Notebook, Lab, or manually. Using these cell tags can allow you to [customize](https://jupyterbook.org/interactive/hiding.html) how your code content is displayed and even [demonstrate errors](https://jupyterbook.org/content/execute.html#dealing-with-code-that-raises-errors) without altogether crashing our loyal army of machines!"
   ]
  },
  {
   "cell_type": "markdown",
   "metadata": {},
   "source": [
    "---"
   ]
  },
  {
   "cell_type": "markdown",
   "metadata": {},
   "source": [
    "## Summary\n",
    "Add one final `---` marking the end of your body of content, and then conclude with a brief single paragraph summarizing at a high level the key pieces that were learned and how they tied to your objectives. Look to reiterate what the most important takeaways were.\n",
    "\n",
    "### What's next?\n",
    "Let Jupyter book tie this to the next (sequential) piece of content that people could move on to down below and in the sidebar. However, if this page uniquely enables your reader to tackle other nonsequential concepts throughout this book, or even external content, link to it here!"
   ]
  },
  {
   "cell_type": "markdown",
   "metadata": {},
   "source": [
    "## Resources and references\n",
    "Finally, be rigorous in your citations and references as necessary. Give credit where credit is due. Also, feel free to link to relevant external material, further reading, documentation, etc. Then you're done! Give yourself a quick review, a high five, and send us a pull request. A few final notes:\n",
    " - `Kernel > Restart Kernel and Run All Cells...` to confirm that your notebook will cleanly run from start to finish\n",
    " - `Kernel > Restart Kernel and Clear All Outputs...` before committing your notebook, our machines will do the heavy lifting\n",
    " - Take credit! Provide author contact information if you'd like; if so, consider adding information here at the bottom of your notebook\n",
    " - Give credit! Attribute appropriate authorship for referenced code, information, images, etc.\n",
    " - Only include what you're legally allowed: **no copyright infringement or plagiarism**\n",
    " \n",
    "Thank you for your contribution!"
   ]
  }
 ],
 "metadata": {
  "language_info": {
   "codemirror_mode": {
    "name": "ipython",
    "version": 3
   },
   "file_extension": ".py",
   "mimetype": "text/x-python",
   "name": "python",
   "nbconvert_exporter": "python",
   "pygments_lexer": "ipython3",
   "version": "3.11.0"
  },
  "nbdime-conflicts": {
   "local_diff": [
    {
     "diff": [
      {
       "diff": [
        {
         "key": 0,
         "op": "addrange",
         "valuelist": [
          "Python 3"
         ]
        },
        {
         "key": 0,
         "length": 1,
         "op": "removerange"
        }
       ],
       "key": "display_name",
       "op": "patch"
      }
     ],
     "key": "kernelspec",
     "op": "patch"
    }
   ],
   "remote_diff": [
    {
     "diff": [
      {
       "diff": [
        {
         "key": 0,
         "op": "addrange",
         "valuelist": [
          "Python3"
         ]
        },
        {
         "key": 0,
         "length": 1,
         "op": "removerange"
        }
       ],
       "key": "display_name",
       "op": "patch"
      }
     ],
     "key": "kernelspec",
     "op": "patch"
    }
   ]
  },
  "toc-autonumbering": false
 },
 "nbformat": 4,
 "nbformat_minor": 4
}
